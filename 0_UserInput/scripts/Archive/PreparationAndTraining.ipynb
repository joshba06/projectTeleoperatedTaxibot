{
 "cells": [
  {
   "cell_type": "markdown",
   "id": "28293d11",
   "metadata": {
    "colab_type": "text",
    "id": "view-in-github"
   },
   "source": [
    "<a href=\"https://colab.research.google.com/github/joshba06/Object_Detection/blob/main/PreparationAndTraining.ipynb\" target=\"_parent\"><img src=\"https://colab.research.google.com/assets/colab-badge.svg\" alt=\"Open In Colab\"/></a>"
   ]
  },
  {
   "cell_type": "markdown",
   "id": "h3jZ8O9eJKiC",
   "metadata": {
    "id": "h3jZ8O9eJKiC"
   },
   "source": [
    "# Readme\n",
    "\n",
    "**Step 1**: \n",
    "\n",
    "This script has to be run on both, Colab (training) and the local machine (object detection). Set the variable \"system_id\" to 1, if running on Colab or to 0 if running on local machine"
   ]
  },
  {
   "cell_type": "markdown",
   "id": "16bba4db",
   "metadata": {
    "id": "16bba4db"
   },
   "source": [
    "# 1. Getting Started"
   ]
  },
  {
   "cell_type": "markdown",
   "id": "xTsthyMa7O1t",
   "metadata": {
    "id": "xTsthyMa7O1t"
   },
   "source": [
    "## 1.1 Define parameters"
   ]
  },
  {
   "cell_type": "code",
   "execution_count": 1,
   "id": "900cbd24",
   "metadata": {
    "id": "900cbd24"
   },
   "outputs": [],
   "source": [
    "# Choose 1, if running on colab and 0 if running on local machine\n",
    "system_id = 0\n",
    "\n",
    "# Define the objects that you would like to train the deep learning-model with below\n",
    "labels = ['Engine']\n",
    "\n",
    "# Change model url and name if model changes\n",
    "pre_trained_model_url = 'http://download.tensorflow.org/models/object_detection/tf2/20200711/ssd_mobilenet_v2_fpnlite_640x640_coco17_tpu-8.tar.gz'\n",
    "pre_trained_model_name = 'ssd_mobilenet_v2_fpnlite_640x640_coco17_tpu-8'\n",
    "custom_model_name = 'my_ssd_mobilenet_v2_fpnlite'\n",
    "\n",
    "img_size = (640, 640)"
   ]
  },
  {
   "cell_type": "markdown",
   "id": "edb1fba8",
   "metadata": {
    "id": "edb1fba8"
   },
   "source": [
    "## 1.2 Create file and folder structure"
   ]
  },
  {
   "cell_type": "code",
   "execution_count": 2,
   "id": "VYjsBYZoo2PX",
   "metadata": {
    "colab": {
     "base_uri": "https://localhost:8080/"
    },
    "id": "VYjsBYZoo2PX",
    "outputId": "f404483b-7b53-40c3-9b64-34c4445df23c"
   },
   "outputs": [
    {
     "name": "stdout",
     "output_type": "stream",
     "text": [
      "Running on local machine...\n"
     ]
    }
   ],
   "source": [
    "import os\n",
    "import shutil\n",
    "\n",
    "# Local machine\n",
    "if system_id == 0:\n",
    "    home_path = '/Users/niklas/Virtual_Environment/Version_5/projectAutonomous'\n",
    "    print('Running on local machine...')\n",
    "\n",
    "# Google colab    \n",
    "elif system_id == 1:\n",
    "    \n",
    "    print('Running on Google Colab...')\n",
    "    \n",
    "    # Mount Google Drive\n",
    "    from google.colab import drive\n",
    "    drive.mount('/content/drive')\n",
    "\n",
    "    # Setup path to home directory \n",
    "    home_path = '/content/drive/MyDrive/Colab_Notebooks/Object_Detection'\n",
    "    os.chdir(home_path)    \n",
    "\n",
    "else:\n",
    "    print('No operating system was defined...')"
   ]
  },
  {
   "cell_type": "code",
   "execution_count": 3,
   "id": "56a85065",
   "metadata": {
    "colab": {
     "base_uri": "https://localhost:8080/"
    },
    "id": "56a85065",
    "outputId": "895ba508-07df-4f1e-bbb9-ad5f370b4901"
   },
   "outputs": [
    {
     "name": "stdout",
     "output_type": "stream",
     "text": [
      "Successfully created /Users/niklas/Virtual_Environment/Version_5/projectAutonomous/2_Tensorflow from scratch. \n",
      "Successfully created /Users/niklas/Virtual_Environment/Version_5/projectAutonomous/2_Tensorflow/protoc from scratch. \n",
      "Successfully created /Users/niklas/Virtual_Environment/Version_5/projectAutonomous/2_Tensorflow/workspace from scratch. \n",
      "Successfully created /Users/niklas/Virtual_Environment/Version_5/projectAutonomous/2_Tensorflow/workspace/scripts from scratch. \n",
      "Successfully created /Users/niklas/Virtual_Environment/Version_5/projectAutonomous/2_Tensorflow/workspace/training from scratch. \n",
      "Successfully created /Users/niklas/Virtual_Environment/Version_5/projectAutonomous/2_Tensorflow/workspace/training/annotations from scratch. \n",
      "Successfully created /Users/niklas/Virtual_Environment/Version_5/projectAutonomous/2_Tensorflow/workspace/training/images/training from scratch. \n",
      "Successfully created /Users/niklas/Virtual_Environment/Version_5/projectAutonomous/2_Tensorflow/workspace/training/images/testing from scratch. \n",
      "Successfully created /Users/niklas/Virtual_Environment/Version_5/projectAutonomous/2_Tensorflow/workspace/training/models from scratch. \n",
      "Successfully created /Users/niklas/Virtual_Environment/Version_5/projectAutonomous/2_Tensorflow/workspace/training/pre_trained_models from scratch. \n",
      "Setup completed...\n"
     ]
    }
   ],
   "source": [
    "import setup\n",
    "files, paths = setup.createFolderStructure(labels, home_path, system_id)"
   ]
  },
  {
   "cell_type": "code",
   "execution_count": 4,
   "id": "caaf9fcf",
   "metadata": {
    "colab": {
     "base_uri": "https://localhost:8080/"
    },
    "id": "caaf9fcf",
    "outputId": "5a85cbca-3f1d-4bd8-83a2-5ab37a2592e1"
   },
   "outputs": [
    {
     "name": "stdout",
     "output_type": "stream",
     "text": [
      "{'Engine': 1}\n"
     ]
    }
   ],
   "source": [
    "# Create dict with labels\n",
    "dict_labels = {}\n",
    "num = 1\n",
    "for label in labels:\n",
    "    dict_labels[label]= num\n",
    "    num += 1\n",
    "print(dict_labels)"
   ]
  },
  {
   "cell_type": "markdown",
   "id": "44d6bd0a",
   "metadata": {
    "id": "44d6bd0a"
   },
   "source": [
    "## 1.3 Installing Dependencies and importing modules"
   ]
  },
  {
   "cell_type": "code",
   "execution_count": 5,
   "id": "5e42ecf9",
   "metadata": {
    "colab": {
     "base_uri": "https://localhost:8080/"
    },
    "id": "5e42ecf9",
    "outputId": "693f87f6-7124-4fb1-a119-4293fb2df8be"
   },
   "outputs": [
    {
     "name": "stdout",
     "output_type": "stream",
     "text": [
      "OpenCV version 4.6.0 is already installed...\n"
     ]
    }
   ],
   "source": [
    "# Local machine\n",
    "if system_id == 0:\n",
    "    try:\n",
    "        import cv2 as cv\n",
    "        if cv.__version__ == \"4.6.0\":\n",
    "            print('OpenCV version 4.6.0 is already installed...')\n",
    "        else:\n",
    "            !pip uninstall opencv-python -y\n",
    "            !pip install opencv-python==4.6.0\n",
    "    except:\n",
    "            !pip uninstall opencv-python -y\n",
    "            !pip install opencv-python==4.6.0"
   ]
  },
  {
   "cell_type": "code",
   "execution_count": 6,
   "id": "01564f7e",
   "metadata": {
    "colab": {
     "base_uri": "https://localhost:8080/"
    },
    "id": "01564f7e",
    "outputId": "80d062bb-879c-4582-d893-a1ac930b1afd"
   },
   "outputs": [
    {
     "name": "stdout",
     "output_type": "stream",
     "text": [
      "Requirement already satisfied: wget in ./joshBakNew/lib/python3.9/site-packages (3.2)\r\n"
     ]
    }
   ],
   "source": [
    "!pip install wget"
   ]
  },
  {
   "cell_type": "code",
   "execution_count": 7,
   "id": "f4bb5647",
   "metadata": {
    "id": "f4bb5647"
   },
   "outputs": [],
   "source": [
    "import cv2 as cv\n",
    "\n",
    "import uuid\n",
    "\n",
    "import time\n",
    "\n",
    "import pathlib\n",
    "\n",
    "import shutil\n",
    "\n",
    "import math\n",
    "\n",
    "import wget"
   ]
  },
  {
   "cell_type": "markdown",
   "id": "520241f2",
   "metadata": {
    "id": "520241f2"
   },
   "source": [
    "# 3. Prepare Tensorflow Object Detection API"
   ]
  },
  {
   "cell_type": "markdown",
   "id": "2d900ebb",
   "metadata": {
    "id": "2d900ebb"
   },
   "source": [
    "## 3.1 Install dependencies"
   ]
  },
  {
   "cell_type": "code",
   "execution_count": 8,
   "id": "a7923f0c",
   "metadata": {
    "colab": {
     "base_uri": "https://localhost:8080/",
     "height": 0
    },
    "id": "a7923f0c",
    "outputId": "7707ed6e-a4f1-47aa-f963-8f5327cb7ddc"
   },
   "outputs": [
    {
     "name": "stdout",
     "output_type": "stream",
     "text": [
      "Tenforflow version 2.5.0 is already installed...\n"
     ]
    }
   ],
   "source": [
    "# Local machine\n",
    "if system_id == 0:\n",
    "    try:\n",
    "        import tensorflow as tf\n",
    "        if tf.__version__ == \"2.5.0\":\n",
    "            print('Tenforflow version 2.5.0 is already installed...')\n",
    "        else:\n",
    "            print('Tensorflow version is: '+str(tf.__version__))\n",
    "            !pip install tensorflow==2.5.0\n",
    "    except:\n",
    "        !pip install tensorflow==2.5.0\n",
    "\n",
    "# Google colab    \n",
    "elif system_id == 1:\n",
    "    !pip install tensorflow-gpu==2.5.0 \n",
    "\n",
    "else:\n",
    "    print('No operating system was defined...')"
   ]
  },
  {
   "cell_type": "code",
   "execution_count": 9,
   "id": "e16c0b45",
   "metadata": {
    "colab": {
     "base_uri": "https://localhost:8080/"
    },
    "id": "e16c0b45",
    "outputId": "b678b7d5-2978-4ad5-d083-b5afcbe9ddc4"
   },
   "outputs": [
    {
     "name": "stdout",
     "output_type": "stream",
     "text": [
      "Cloning model garden..\n",
      "Cloning into 'models'...\n",
      "remote: Enumerating objects: 76179, done.\u001b[K\n",
      "remote: Counting objects: 100% (641/641), done.\u001b[K\n",
      "remote: Compressing objects: 100% (321/321), done.\u001b[K\n",
      "remote: Total 76179 (delta 365), reused 553 (delta 317), pack-reused 75538\u001b[K\n",
      "Receiving objects: 100% (76179/76179), 592.74 MiB | 473.00 KiB/s, done.\n",
      "Resolving deltas: 100% (53976/53976), done.\n",
      "Updating files: 100% (3125/3125), done.\n"
     ]
    }
   ],
   "source": [
    "# Download the model garden (model garden is an environment that is necessary to train new models from scratch or to continue training existing models)\n",
    "# The model itself will be downloaded later\n",
    "\n",
    "# Clone repository only if it does not exist already\n",
    "os.chdir(paths['2_Tensorflow'])\n",
    "if os.path.exists(paths['2_Tensorflow']+'/models/research') is False:\n",
    "    print('Cloning model garden..')\n",
    "    !git clone https://github.com/tensorflow/models.git\n",
    "    \n",
    "else:\n",
    "    print('Model garden is already installed...')\n",
    "    \n",
    "os.chdir(paths['home'])"
   ]
  },
  {
   "cell_type": "code",
   "execution_count": 10,
   "id": "1c6592a9",
   "metadata": {
    "id": "1c6592a9"
   },
   "outputs": [
    {
     "name": "stdout",
     "output_type": "stream",
     "text": [
      "\r",
      "  0% [                                                                          ]       0 / 1357797\r",
      "  0% [                                                                          ]    8192 / 1357797\r",
      "  1% [                                                                          ]   16384 / 1357797\r",
      "  1% [.                                                                         ]   24576 / 1357797\r",
      "  2% [.                                                                         ]   32768 / 1357797\r",
      "  3% [..                                                                        ]   40960 / 1357797\r",
      "  3% [..                                                                        ]   49152 / 1357797\r",
      "  4% [...                                                                       ]   57344 / 1357797\r",
      "  4% [...                                                                       ]   65536 / 1357797\r",
      "  5% [....                                                                      ]   73728 / 1357797\r",
      "  6% [....                                                                      ]   81920 / 1357797\r",
      "  6% [....                                                                      ]   90112 / 1357797\r",
      "  7% [.....                                                                     ]   98304 / 1357797\r",
      "  7% [.....                                                                     ]  106496 / 1357797\r",
      "  8% [......                                                                    ]  114688 / 1357797\r",
      "  9% [......                                                                    ]  122880 / 1357797\r",
      "  9% [.......                                                                   ]  131072 / 1357797\r",
      " 10% [.......                                                                   ]  139264 / 1357797\r",
      " 10% [........                                                                  ]  147456 / 1357797\r",
      " 11% [........                                                                  ]  155648 / 1357797\r",
      " 12% [........                                                                  ]  163840 / 1357797\r",
      " 12% [.........                                                                 ]  172032 / 1357797\r",
      " 13% [.........                                                                 ]  180224 / 1357797\r",
      " 13% [..........                                                                ]  188416 / 1357797\r",
      " 14% [..........                                                                ]  196608 / 1357797\r",
      " 15% [...........                                                               ]  204800 / 1357797\r",
      " 15% [...........                                                               ]  212992 / 1357797\r",
      " 16% [............                                                              ]  221184 / 1357797\r",
      " 16% [............                                                              ]  229376 / 1357797\r",
      " 17% [............                                                              ]  237568 / 1357797\r",
      " 18% [.............                                                             ]  245760 / 1357797\r",
      " 18% [.............                                                             ]  253952 / 1357797\r",
      " 19% [..............                                                            ]  262144 / 1357797\r",
      " 19% [..............                                                            ]  270336 / 1357797\r",
      " 20% [...............                                                           ]  278528 / 1357797\r",
      " 21% [...............                                                           ]  286720 / 1357797\r",
      " 21% [................                                                          ]  294912 / 1357797\r",
      " 22% [................                                                          ]  303104 / 1357797\r",
      " 22% [................                                                          ]  311296 / 1357797\r",
      " 23% [.................                                                         ]  319488 / 1357797\r",
      " 24% [.................                                                         ]  327680 / 1357797\r",
      " 24% [..................                                                        ]  335872 / 1357797\r",
      " 25% [..................                                                        ]  344064 / 1357797\r",
      " 25% [...................                                                       ]  352256 / 1357797\r",
      " 26% [...................                                                       ]  360448 / 1357797\r",
      " 27% [....................                                                      ]  368640 / 1357797\r",
      " 27% [....................                                                      ]  376832 / 1357797\r",
      " 28% [....................                                                      ]  385024 / 1357797\r",
      " 28% [.....................                                                     ]  393216 / 1357797\r",
      " 29% [.....................                                                     ]  401408 / 1357797\r",
      " 30% [......................                                                    ]  409600 / 1357797\r",
      " 30% [......................                                                    ]  417792 / 1357797\r",
      " 31% [.......................                                                   ]  425984 / 1357797\r",
      " 31% [.......................                                                   ]  434176 / 1357797\r",
      " 32% [........................                                                  ]  442368 / 1357797\r",
      " 33% [........................                                                  ]  450560 / 1357797\r",
      " 33% [.........................                                                 ]  458752 / 1357797\r",
      " 34% [.........................                                                 ]  466944 / 1357797\r",
      " 34% [.........................                                                 ]  475136 / 1357797\r",
      " 35% [..........................                                                ]  483328 / 1357797\r",
      " 36% [..........................                                                ]  491520 / 1357797\r",
      " 36% [...........................                                               ]  499712 / 1357797\r",
      " 37% [...........................                                               ]  507904 / 1357797\r",
      " 38% [............................                                              ]  516096 / 1357797\r",
      " 38% [............................                                              ]  524288 / 1357797\r",
      " 39% [.............................                                             ]  532480 / 1357797\r",
      " 39% [.............................                                             ]  540672 / 1357797\r",
      " 40% [.............................                                             ]  548864 / 1357797\r",
      " 41% [..............................                                            ]  557056 / 1357797\r",
      " 41% [..............................                                            ]  565248 / 1357797\r",
      " 42% [...............................                                           ]  573440 / 1357797\r",
      " 42% [...............................                                           ]  581632 / 1357797\r",
      " 43% [................................                                          ]  589824 / 1357797\r",
      " 44% [................................                                          ]  598016 / 1357797\r",
      " 44% [.................................                                         ]  606208 / 1357797\r",
      " 45% [.................................                                         ]  614400 / 1357797\r",
      " 45% [.................................                                         ]  622592 / 1357797\r",
      " 46% [..................................                                        ]  630784 / 1357797\r",
      " 47% [..................................                                        ]  638976 / 1357797\r",
      " 47% [...................................                                       ]  647168 / 1357797\r",
      " 48% [...................................                                       ]  655360 / 1357797\r",
      " 48% [....................................                                      ]  663552 / 1357797\r",
      " 49% [....................................                                      ]  671744 / 1357797\r",
      " 50% [.....................................                                     ]  679936 / 1357797\r",
      " 50% [.....................................                                     ]  688128 / 1357797\r",
      " 51% [.....................................                                     ]  696320 / 1357797\r",
      " 51% [......................................                                    ]  704512 / 1357797\r",
      " 52% [......................................                                    ]  712704 / 1357797\r",
      " 53% [.......................................                                   ]  720896 / 1357797\r",
      " 53% [.......................................                                   ]  729088 / 1357797\r",
      " 54% [........................................                                  ]  737280 / 1357797\r",
      " 54% [........................................                                  ]  745472 / 1357797\r",
      " 55% [.........................................                                 ]  753664 / 1357797\r",
      " 56% [.........................................                                 ]  761856 / 1357797\r",
      " 56% [.........................................                                 ]  770048 / 1357797\r",
      " 57% [..........................................                                ]  778240 / 1357797\r",
      " 57% [..........................................                                ]  786432 / 1357797\r",
      " 58% [...........................................                               ]  794624 / 1357797\r",
      " 59% [...........................................                               ]  802816 / 1357797\r",
      " 59% [............................................                              ]  811008 / 1357797\r",
      " 60% [............................................                              ]  819200 / 1357797\r",
      " 60% [.............................................                             ]  827392 / 1357797\r",
      " 61% [.............................................                             ]  835584 / 1357797\r",
      " 62% [.............................................                             ]  843776 / 1357797\r",
      " 62% [..............................................                            ]  851968 / 1357797\r",
      " 63% [..............................................                            ]  860160 / 1357797\r",
      " 63% [...............................................                           ]  868352 / 1357797\r",
      " 64% [...............................................                           ]  876544 / 1357797\r",
      " 65% [................................................                          ]  884736 / 1357797\r",
      " 65% [................................................                          ]  892928 / 1357797\r",
      " 66% [.................................................                         ]  901120 / 1357797\r",
      " 66% [.................................................                         ]  909312 / 1357797\r",
      " 67% [..................................................                        ]  917504 / 1357797\r",
      " 68% [..................................................                        ]  925696 / 1357797\r",
      " 68% [..................................................                        ]  933888 / 1357797\r",
      " 69% [...................................................                       ]  942080 / 1357797\r",
      " 69% [...................................................                       ]  950272 / 1357797\r",
      " 70% [....................................................                      ]  958464 / 1357797\r",
      " 71% [....................................................                      ]  966656 / 1357797\r",
      " 71% [.....................................................                     ]  974848 / 1357797\r",
      " 72% [.....................................................                     ]  983040 / 1357797\r",
      " 73% [......................................................                    ]  991232 / 1357797\r",
      " 73% [......................................................                    ]  999424 / 1357797\r",
      " 74% [......................................................                    ] 1007616 / 1357797\r",
      " 74% [.......................................................                   ] 1015808 / 1357797\r",
      " 75% [.......................................................                   ] 1024000 / 1357797\r",
      " 76% [........................................................                  ] 1032192 / 1357797\r",
      " 76% [........................................................                  ] 1040384 / 1357797\r",
      " 77% [.........................................................                 ] 1048576 / 1357797\r",
      " 77% [.........................................................                 ] 1056768 / 1357797\r",
      " 78% [..........................................................                ] 1064960 / 1357797\r",
      " 79% [..........................................................                ] 1073152 / 1357797\r",
      " 79% [..........................................................                ] 1081344 / 1357797\r",
      " 80% [...........................................................               ] 1089536 / 1357797\r",
      " 80% [...........................................................               ] 1097728 / 1357797\r",
      " 81% [............................................................              ] 1105920 / 1357797\r",
      " 82% [............................................................              ] 1114112 / 1357797\r",
      " 82% [.............................................................             ] 1122304 / 1357797\r",
      " 83% [.............................................................             ] 1130496 / 1357797\r",
      " 83% [..............................................................            ] 1138688 / 1357797\r",
      " 84% [..............................................................            ] 1146880 / 1357797\r",
      " 85% [..............................................................            ] 1155072 / 1357797\r",
      " 85% [...............................................................           ] 1163264 / 1357797\r",
      " 86% [...............................................................           ] 1171456 / 1357797\r",
      " 86% [................................................................          ] 1179648 / 1357797\r",
      " 87% [................................................................          ] 1187840 / 1357797\r",
      " 88% [.................................................................         ] 1196032 / 1357797\r",
      " 88% [.................................................................         ] 1204224 / 1357797\r",
      " 89% [..................................................................        ] 1212416 / 1357797\r",
      " 89% [..................................................................        ] 1220608 / 1357797\r",
      " 90% [..................................................................        ] 1228800 / 1357797\r",
      " 91% [...................................................................       ] 1236992 / 1357797\r",
      " 91% [...................................................................       ] 1245184 / 1357797\r",
      " 92% [....................................................................      ] 1253376 / 1357797\r",
      " 92% [....................................................................      ] 1261568 / 1357797\r",
      " 93% [.....................................................................     ] 1269760 / 1357797\r",
      " 94% [.....................................................................     ] 1277952 / 1357797\r",
      " 94% [......................................................................    ] 1286144 / 1357797\r",
      " 95% [......................................................................    ] 1294336 / 1357797\r",
      " 95% [......................................................................    ] 1302528 / 1357797\r",
      " 96% [.......................................................................   ] 1310720 / 1357797\r",
      " 97% [.......................................................................   ] 1318912 / 1357797\r",
      " 97% [........................................................................  ] 1327104 / 1357797\r",
      " 98% [........................................................................  ] 1335296 / 1357797\r",
      " 98% [......................................................................... ] 1343488 / 1357797\r",
      " 99% [......................................................................... ] 1351680 / 1357797\r",
      "100% [..........................................................................] 1357797 / 1357797"
     ]
    }
   ],
   "source": [
    "# Install protobuf\n",
    "if os.path.exists(paths['2_Tensorflow']+'/protoc/protoc-21.1-osx-aarch_64.zip') is False:\n",
    "\n",
    "    # Go to destination directory\n",
    "    os.chdir(paths['protoc'])\n",
    "    protoc_url = 'https://github.com/protocolbuffers/protobuf/releases/download/v21.1/protoc-21.1-osx-aarch_64.zip'\n",
    "    wget.download(protoc_url)\n",
    "\n",
    "    # Extract all content of downloaded file\n",
    "    from zipfile import ZipFile\n",
    "\n",
    "    with ZipFile('protoc-21.1-osx-aarch_64.zip', 'r') as zipObj:\n",
    "        zipObj.extractall()\n",
    "\n",
    "    os.environ['Path'] = paths['protoc']+'/bin'\n",
    "    os.chdir(paths['research'])\n",
    "\n",
    "    !protoc object_detection/protos/*.proto --python_out=.\n",
    "\n",
    "else:\n",
    "    print('Protobuf is already installed...')\n",
    "    \n",
    "os.chdir(paths['home'])"
   ]
  },
  {
   "cell_type": "code",
   "execution_count": 11,
   "id": "06ec3dc7",
   "metadata": {
    "colab": {
     "base_uri": "https://localhost:8080/"
    },
    "id": "06ec3dc7",
    "outputId": "701dfb16-7d67-4fc8-bf5f-daabcbc1f029"
   },
   "outputs": [
    {
     "name": "stdout",
     "output_type": "stream",
     "text": [
      "Cloning cocoapi..\n",
      "Cloning into 'cocoapi'...\n",
      "remote: Enumerating objects: 975, done.\u001b[K\n",
      "remote: Total 975 (delta 0), reused 0 (delta 0), pack-reused 975\u001b[K\n",
      "Receiving objects: 100% (975/975), 11.72 MiB | 10.70 MiB/s, done.\n",
      "Resolving deltas: 100% (576/576), done.\n"
     ]
    }
   ],
   "source": [
    "# Install pycocotools\n",
    "\n",
    "# Clone repository only if it does not exist already\n",
    "if os.path.exists(paths['research']+'/cocoapi') is False:\n",
    "    print('Cloning cocoapi..')\n",
    "    !git clone https://github.com/cocodataset/cocoapi.git\n",
    "    \n",
    "    # Moving cloned file to 'research' folder\n",
    "    destination = paths['research']\n",
    "    source = paths['home']+'/cocoapi'\n",
    "    shutil.move(source, destination)\n",
    "    \n",
    "else:\n",
    "    print('Cocoapi is already installed...')\n",
    "\n",
    "os.chdir(paths['home'])"
   ]
  },
  {
   "cell_type": "markdown",
   "id": "fe70c4aa",
   "metadata": {
    "id": "fe70c4aa"
   },
   "source": [
    "## 3.2 Install Tensorflow Object Detection API"
   ]
  },
  {
   "cell_type": "code",
   "execution_count": 12,
   "id": "b2d18cae",
   "metadata": {
    "colab": {
     "base_uri": "https://localhost:8080/"
    },
    "id": "b2d18cae",
    "outputId": "c8d449f3-d8d7-49bd-a822-f253526fbec1"
   },
   "outputs": [
    {
     "name": "stdout",
     "output_type": "stream",
     "text": [
      "Installing setup.py...\n",
      "Processing /Users/niklas/Virtual_Environment/Version_5/projectAutonomous/2_Tensorflow/models/research\n",
      "  Preparing metadata (setup.py) ... \u001b[?25ldone\n",
      "\u001b[?25hRequirement already satisfied: avro-python3 in /Users/niklas/Virtual_Environment/Version_5/joshBakNew/lib/python3.9/site-packages (from object-detection==0.1) (1.10.2)\n",
      "Requirement already satisfied: apache-beam in /Users/niklas/Virtual_Environment/Version_5/joshBakNew/lib/python3.9/site-packages (from object-detection==0.1) (2.40.0)\n",
      "Requirement already satisfied: pillow in /Users/niklas/Virtual_Environment/Version_5/joshBakNew/lib/python3.9/site-packages (from object-detection==0.1) (9.2.0)\n",
      "Requirement already satisfied: lxml in /Users/niklas/Virtual_Environment/Version_5/joshBakNew/lib/python3.9/site-packages (from object-detection==0.1) (4.9.1)\n",
      "Requirement already satisfied: matplotlib in /Users/niklas/Virtual_Environment/Version_5/joshBakNew/lib/python3.9/site-packages (from object-detection==0.1) (3.5.2)\n",
      "Requirement already satisfied: Cython in /Users/niklas/Virtual_Environment/Version_5/joshBakNew/lib/python3.9/site-packages (from object-detection==0.1) (0.29.32)\n",
      "Requirement already satisfied: contextlib2 in /Users/niklas/Virtual_Environment/Version_5/joshBakNew/lib/python3.9/site-packages (from object-detection==0.1) (21.6.0)\n",
      "Requirement already satisfied: tf-slim in /Users/niklas/Virtual_Environment/Version_5/joshBakNew/lib/python3.9/site-packages (from object-detection==0.1) (1.1.0)\n",
      "Requirement already satisfied: six in /Users/niklas/Virtual_Environment/Version_5/joshBakNew/lib/python3.9/site-packages (from object-detection==0.1) (1.15.0)\n",
      "Requirement already satisfied: pycocotools in /Users/niklas/Virtual_Environment/Version_5/joshBakNew/lib/python3.9/site-packages (from object-detection==0.1) (2.0.4)\n",
      "Requirement already satisfied: lvis in /Users/niklas/Virtual_Environment/Version_5/joshBakNew/lib/python3.9/site-packages (from object-detection==0.1) (0.5.3)\n",
      "Requirement already satisfied: scipy in /Users/niklas/Virtual_Environment/Version_5/joshBakNew/lib/python3.9/site-packages (from object-detection==0.1) (1.9.0)\n",
      "Requirement already satisfied: pandas in /Users/niklas/Virtual_Environment/Version_5/joshBakNew/lib/python3.9/site-packages (from object-detection==0.1) (1.4.3)\n",
      "Requirement already satisfied: tf-models-official>=2.5.1 in /Users/niklas/Virtual_Environment/Version_5/joshBakNew/lib/python3.9/site-packages (from object-detection==0.1) (2.9.2)\n",
      "Requirement already satisfied: tensorflow_io in /Users/niklas/Virtual_Environment/Version_5/joshBakNew/lib/python3.9/site-packages (from object-detection==0.1) (0.26.0)\n",
      "Requirement already satisfied: keras in /Users/niklas/Virtual_Environment/Version_5/joshBakNew/lib/python3.9/site-packages (from object-detection==0.1) (2.9.0)\n",
      "Requirement already satisfied: pyparsing==2.4.7 in /Users/niklas/Virtual_Environment/Version_5/joshBakNew/lib/python3.9/site-packages (from object-detection==0.1) (2.4.7)\n",
      "Requirement already satisfied: tensorflow-hub>=0.6.0 in /Users/niklas/Virtual_Environment/Version_5/joshBakNew/lib/python3.9/site-packages (from tf-models-official>=2.5.1->object-detection==0.1) (0.12.0)\n",
      "Requirement already satisfied: sentencepiece in /Users/niklas/Virtual_Environment/Version_5/joshBakNew/lib/python3.9/site-packages (from tf-models-official>=2.5.1->object-detection==0.1) (0.1.97)\n",
      "Requirement already satisfied: tensorflow-model-optimization>=0.4.1 in /Users/niklas/Virtual_Environment/Version_5/joshBakNew/lib/python3.9/site-packages (from tf-models-official>=2.5.1->object-detection==0.1) (0.7.3)\n",
      "Requirement already satisfied: google-api-python-client>=1.6.7 in /Users/niklas/Virtual_Environment/Version_5/joshBakNew/lib/python3.9/site-packages (from tf-models-official>=2.5.1->object-detection==0.1) (2.55.0)\n",
      "Collecting numpy>=1.20\n",
      "  Downloading numpy-1.23.2-cp39-cp39-macosx_10_9_x86_64.whl (18.1 MB)\n",
      "\u001b[2K     \u001b[38;2;114;156;31m━━━━━━━━━━━━━━━━━━━━━━━━━━━━━━━━━━━━━━━━\u001b[0m \u001b[32m18.1/18.1 MB\u001b[0m \u001b[31m11.1 MB/s\u001b[0m eta \u001b[36m0:00:00\u001b[0mm eta \u001b[36m0:00:01\u001b[0m[36m0:00:01\u001b[0m\n",
      "\u001b[?25hRequirement already satisfied: psutil>=5.4.3 in /Users/niklas/Virtual_Environment/Version_5/joshBakNew/lib/python3.9/site-packages (from tf-models-official>=2.5.1->object-detection==0.1) (5.9.1)\n",
      "Requirement already satisfied: pyyaml<6.0,>=5.1 in /Users/niklas/Virtual_Environment/Version_5/joshBakNew/lib/python3.9/site-packages (from tf-models-official>=2.5.1->object-detection==0.1) (5.4.1)\n",
      "Collecting opencv-python-headless\n",
      "  Using cached opencv_python_headless-4.6.0.66-cp36-abi3-macosx_10_15_x86_64.whl (46.4 MB)\n",
      "Requirement already satisfied: gin-config in /Users/niklas/Virtual_Environment/Version_5/joshBakNew/lib/python3.9/site-packages (from tf-models-official>=2.5.1->object-detection==0.1) (0.5.0)\n",
      "Requirement already satisfied: kaggle>=1.3.9 in /Users/niklas/Virtual_Environment/Version_5/joshBakNew/lib/python3.9/site-packages (from tf-models-official>=2.5.1->object-detection==0.1) (1.5.12)\n",
      "Requirement already satisfied: oauth2client in /Users/niklas/Virtual_Environment/Version_5/joshBakNew/lib/python3.9/site-packages (from tf-models-official>=2.5.1->object-detection==0.1) (4.1.3)\n",
      "Requirement already satisfied: py-cpuinfo>=3.3.0 in /Users/niklas/Virtual_Environment/Version_5/joshBakNew/lib/python3.9/site-packages (from tf-models-official>=2.5.1->object-detection==0.1) (8.0.0)\n",
      "Requirement already satisfied: tensorflow-text~=2.9.0 in /Users/niklas/Virtual_Environment/Version_5/joshBakNew/lib/python3.9/site-packages (from tf-models-official>=2.5.1->object-detection==0.1) (2.9.0)\n",
      "Requirement already satisfied: sacrebleu in /Users/niklas/Virtual_Environment/Version_5/joshBakNew/lib/python3.9/site-packages (from tf-models-official>=2.5.1->object-detection==0.1) (2.2.0)\n",
      "Collecting tensorflow~=2.9.0\n",
      "  Using cached tensorflow-2.9.1-cp39-cp39-macosx_10_14_x86_64.whl (228.5 MB)\n",
      "Requirement already satisfied: tensorflow-addons in /Users/niklas/Virtual_Environment/Version_5/joshBakNew/lib/python3.9/site-packages (from tf-models-official>=2.5.1->object-detection==0.1) (0.17.1)\n",
      "Requirement already satisfied: tensorflow-datasets in /Users/niklas/Virtual_Environment/Version_5/joshBakNew/lib/python3.9/site-packages (from tf-models-official>=2.5.1->object-detection==0.1) (4.6.0)\n",
      "Requirement already satisfied: seqeval in /Users/niklas/Virtual_Environment/Version_5/joshBakNew/lib/python3.9/site-packages (from tf-models-official>=2.5.1->object-detection==0.1) (1.2.2)\n",
      "Requirement already satisfied: pytz>=2020.1 in /Users/niklas/Virtual_Environment/Version_5/joshBakNew/lib/python3.9/site-packages (from pandas->object-detection==0.1) (2022.1)\n",
      "Requirement already satisfied: python-dateutil>=2.8.1 in /Users/niklas/Virtual_Environment/Version_5/joshBakNew/lib/python3.9/site-packages (from pandas->object-detection==0.1) (2.8.2)\n",
      "Requirement already satisfied: absl-py>=0.2.2 in /Users/niklas/Virtual_Environment/Version_5/joshBakNew/lib/python3.9/site-packages (from tf-slim->object-detection==0.1) (0.15.0)\n",
      "Requirement already satisfied: protobuf<4,>=3.12.2 in /Users/niklas/Virtual_Environment/Version_5/joshBakNew/lib/python3.9/site-packages (from apache-beam->object-detection==0.1) (3.19.4)\n",
      "Requirement already satisfied: dill<0.3.2,>=0.3.1.1 in /Users/niklas/Virtual_Environment/Version_5/joshBakNew/lib/python3.9/site-packages (from apache-beam->object-detection==0.1) (0.3.1.1)\n",
      "Requirement already satisfied: cloudpickle<3,>=2.1.0 in /Users/niklas/Virtual_Environment/Version_5/joshBakNew/lib/python3.9/site-packages (from apache-beam->object-detection==0.1) (2.1.0)\n",
      "Requirement already satisfied: orjson<4.0 in /Users/niklas/Virtual_Environment/Version_5/joshBakNew/lib/python3.9/site-packages (from apache-beam->object-detection==0.1) (3.7.11)\n",
      "Requirement already satisfied: proto-plus<2,>=1.7.1 in /Users/niklas/Virtual_Environment/Version_5/joshBakNew/lib/python3.9/site-packages (from apache-beam->object-detection==0.1) (1.20.6)\n",
      "Requirement already satisfied: pymongo<4.0.0,>=3.8.0 in /Users/niklas/Virtual_Environment/Version_5/joshBakNew/lib/python3.9/site-packages (from apache-beam->object-detection==0.1) (3.12.3)\n",
      "Requirement already satisfied: hdfs<3.0.0,>=2.1.0 in /Users/niklas/Virtual_Environment/Version_5/joshBakNew/lib/python3.9/site-packages (from apache-beam->object-detection==0.1) (2.7.0)\n",
      "Requirement already satisfied: requests<3.0.0,>=2.24.0 in /Users/niklas/Virtual_Environment/Version_5/joshBakNew/lib/python3.9/site-packages (from apache-beam->object-detection==0.1) (2.28.1)\n",
      "Requirement already satisfied: pydot<2,>=1.2.0 in /Users/niklas/Virtual_Environment/Version_5/joshBakNew/lib/python3.9/site-packages (from apache-beam->object-detection==0.1) (1.4.2)\n",
      "Requirement already satisfied: grpcio<2,>=1.33.1 in /Users/niklas/Virtual_Environment/Version_5/joshBakNew/lib/python3.9/site-packages (from apache-beam->object-detection==0.1) (1.34.1)\n"
     ]
    },
    {
     "name": "stdout",
     "output_type": "stream",
     "text": [
      "Collecting numpy>=1.20\n",
      "  Using cached numpy-1.22.4-cp39-cp39-macosx_10_15_x86_64.whl (17.7 MB)\n",
      "Requirement already satisfied: crcmod<2.0,>=1.7 in /Users/niklas/Virtual_Environment/Version_5/joshBakNew/lib/python3.9/site-packages (from apache-beam->object-detection==0.1) (1.7)\n",
      "Requirement already satisfied: fastavro<2,>=0.23.6 in /Users/niklas/Virtual_Environment/Version_5/joshBakNew/lib/python3.9/site-packages (from apache-beam->object-detection==0.1) (1.5.4)\n",
      "Requirement already satisfied: httplib2<0.21.0,>=0.8 in /Users/niklas/Virtual_Environment/Version_5/joshBakNew/lib/python3.9/site-packages (from apache-beam->object-detection==0.1) (0.20.4)\n",
      "Requirement already satisfied: pyarrow<8.0.0,>=0.15.1 in /Users/niklas/Virtual_Environment/Version_5/joshBakNew/lib/python3.9/site-packages (from apache-beam->object-detection==0.1) (7.0.0)\n",
      "Requirement already satisfied: typing-extensions>=3.7.0 in /Users/niklas/Virtual_Environment/Version_5/joshBakNew/lib/python3.9/site-packages (from apache-beam->object-detection==0.1) (3.7.4.3)\n",
      "Requirement already satisfied: kiwisolver>=1.1.0 in /Users/niklas/Virtual_Environment/Version_5/joshBakNew/lib/python3.9/site-packages (from lvis->object-detection==0.1) (1.4.4)\n",
      "Requirement already satisfied: cycler>=0.10.0 in /Users/niklas/Virtual_Environment/Version_5/joshBakNew/lib/python3.9/site-packages (from lvis->object-detection==0.1) (0.11.0)\n",
      "Collecting opencv-python>=4.1.0.25\n",
      "  Using cached opencv_python-4.6.0.66-cp36-abi3-macosx_10_15_x86_64.whl (46.4 MB)\n",
      "Requirement already satisfied: fonttools>=4.22.0 in /Users/niklas/Virtual_Environment/Version_5/joshBakNew/lib/python3.9/site-packages (from matplotlib->object-detection==0.1) (4.34.4)\n",
      "Requirement already satisfied: packaging>=20.0 in /Users/niklas/Virtual_Environment/Version_5/joshBakNew/lib/python3.9/site-packages (from matplotlib->object-detection==0.1) (21.3)\n",
      "Requirement already satisfied: tensorflow-io-gcs-filesystem==0.26.0 in /Users/niklas/Virtual_Environment/Version_5/joshBakNew/lib/python3.9/site-packages (from tensorflow_io->object-detection==0.1) (0.26.0)\n",
      "Requirement already satisfied: google-auth-httplib2>=0.1.0 in /Users/niklas/Virtual_Environment/Version_5/joshBakNew/lib/python3.9/site-packages (from google-api-python-client>=1.6.7->tf-models-official>=2.5.1->object-detection==0.1) (0.1.0)\n",
      "Requirement already satisfied: google-api-core!=2.0.*,!=2.1.*,!=2.2.*,!=2.3.0,<3.0.0dev,>=1.31.5 in /Users/niklas/Virtual_Environment/Version_5/joshBakNew/lib/python3.9/site-packages (from google-api-python-client>=1.6.7->tf-models-official>=2.5.1->object-detection==0.1) (2.8.2)\n",
      "Requirement already satisfied: google-auth<3.0.0dev,>=1.19.0 in /Users/niklas/Virtual_Environment/Version_5/joshBakNew/lib/python3.9/site-packages (from google-api-python-client>=1.6.7->tf-models-official>=2.5.1->object-detection==0.1) (2.10.0)\n",
      "Requirement already satisfied: uritemplate<5,>=3.0.1 in /Users/niklas/Virtual_Environment/Version_5/joshBakNew/lib/python3.9/site-packages (from google-api-python-client>=1.6.7->tf-models-official>=2.5.1->object-detection==0.1) (4.1.1)\n",
      "Requirement already satisfied: docopt in /Users/niklas/Virtual_Environment/Version_5/joshBakNew/lib/python3.9/site-packages (from hdfs<3.0.0,>=2.1.0->apache-beam->object-detection==0.1) (0.6.2)\n",
      "Requirement already satisfied: tqdm in /Users/niklas/Virtual_Environment/Version_5/joshBakNew/lib/python3.9/site-packages (from kaggle>=1.3.9->tf-models-official>=2.5.1->object-detection==0.1) (4.64.0)\n",
      "Requirement already satisfied: urllib3 in /Users/niklas/Virtual_Environment/Version_5/joshBakNew/lib/python3.9/site-packages (from kaggle>=1.3.9->tf-models-official>=2.5.1->object-detection==0.1) (1.26.11)\n",
      "Requirement already satisfied: python-slugify in /Users/niklas/Virtual_Environment/Version_5/joshBakNew/lib/python3.9/site-packages (from kaggle>=1.3.9->tf-models-official>=2.5.1->object-detection==0.1) (6.1.2)\n",
      "Requirement already satisfied: certifi in /Users/niklas/Virtual_Environment/Version_5/joshBakNew/lib/python3.9/site-packages (from kaggle>=1.3.9->tf-models-official>=2.5.1->object-detection==0.1) (2022.6.15)\n",
      "Requirement already satisfied: idna<4,>=2.5 in /Users/niklas/Virtual_Environment/Version_5/joshBakNew/lib/python3.9/site-packages (from requests<3.0.0,>=2.24.0->apache-beam->object-detection==0.1) (3.3)\n",
      "Requirement already satisfied: charset-normalizer<3,>=2 in /Users/niklas/Virtual_Environment/Version_5/joshBakNew/lib/python3.9/site-packages (from requests<3.0.0,>=2.24.0->apache-beam->object-detection==0.1) (2.1.0)\n",
      "Requirement already satisfied: tensorboard<2.10,>=2.9 in /Users/niklas/Virtual_Environment/Version_5/joshBakNew/lib/python3.9/site-packages (from tensorflow~=2.9.0->tf-models-official>=2.5.1->object-detection==0.1) (2.9.1)\n",
      "Requirement already satisfied: astunparse>=1.6.0 in /Users/niklas/Virtual_Environment/Version_5/joshBakNew/lib/python3.9/site-packages (from tensorflow~=2.9.0->tf-models-official>=2.5.1->object-detection==0.1) (1.6.3)\n",
      "Requirement already satisfied: wrapt>=1.11.0 in /Users/niklas/Virtual_Environment/Version_5/joshBakNew/lib/python3.9/site-packages (from tensorflow~=2.9.0->tf-models-official>=2.5.1->object-detection==0.1) (1.12.1)\n",
      "Requirement already satisfied: termcolor>=1.1.0 in /Users/niklas/Virtual_Environment/Version_5/joshBakNew/lib/python3.9/site-packages (from tensorflow~=2.9.0->tf-models-official>=2.5.1->object-detection==0.1) (1.1.0)\n",
      "Requirement already satisfied: h5py>=2.9.0 in /Users/niklas/Virtual_Environment/Version_5/joshBakNew/lib/python3.9/site-packages (from tensorflow~=2.9.0->tf-models-official>=2.5.1->object-detection==0.1) (3.1.0)\n",
      "Requirement already satisfied: keras-preprocessing>=1.1.1 in /Users/niklas/Virtual_Environment/Version_5/joshBakNew/lib/python3.9/site-packages (from tensorflow~=2.9.0->tf-models-official>=2.5.1->object-detection==0.1) (1.1.2)\n",
      "Collecting tensorflow-estimator<2.10.0,>=2.9.0rc0\n",
      "  Using cached tensorflow_estimator-2.9.0-py2.py3-none-any.whl (438 kB)\n",
      "Requirement already satisfied: opt-einsum>=2.3.2 in /Users/niklas/Virtual_Environment/Version_5/joshBakNew/lib/python3.9/site-packages (from tensorflow~=2.9.0->tf-models-official>=2.5.1->object-detection==0.1) (3.3.0)\n",
      "Collecting absl-py>=0.2.2\n",
      "  Using cached absl_py-1.2.0-py3-none-any.whl (123 kB)\n",
      "Requirement already satisfied: setuptools in /Users/niklas/Virtual_Environment/Version_5/joshBakNew/lib/python3.9/site-packages (from tensorflow~=2.9.0->tf-models-official>=2.5.1->object-detection==0.1) (56.0.0)\n",
      "Requirement already satisfied: libclang>=13.0.0 in /Users/niklas/Virtual_Environment/Version_5/joshBakNew/lib/python3.9/site-packages (from tensorflow~=2.9.0->tf-models-official>=2.5.1->object-detection==0.1) (14.0.6)\n",
      "Requirement already satisfied: flatbuffers<2,>=1.12 in /Users/niklas/Virtual_Environment/Version_5/joshBakNew/lib/python3.9/site-packages (from tensorflow~=2.9.0->tf-models-official>=2.5.1->object-detection==0.1) (1.12)\n",
      "Requirement already satisfied: google-pasta>=0.1.1 in /Users/niklas/Virtual_Environment/Version_5/joshBakNew/lib/python3.9/site-packages (from tensorflow~=2.9.0->tf-models-official>=2.5.1->object-detection==0.1) (0.2.0)\n",
      "Requirement already satisfied: gast<=0.4.0,>=0.2.1 in /Users/niklas/Virtual_Environment/Version_5/joshBakNew/lib/python3.9/site-packages (from tensorflow~=2.9.0->tf-models-official>=2.5.1->object-detection==0.1) (0.4.0)\n",
      "Requirement already satisfied: dm-tree~=0.1.1 in /Users/niklas/Virtual_Environment/Version_5/joshBakNew/lib/python3.9/site-packages (from tensorflow-model-optimization>=0.4.1->tf-models-official>=2.5.1->object-detection==0.1) (0.1.7)\n",
      "Requirement already satisfied: pyasn1-modules>=0.0.5 in /Users/niklas/Virtual_Environment/Version_5/joshBakNew/lib/python3.9/site-packages (from oauth2client->tf-models-official>=2.5.1->object-detection==0.1) (0.2.8)\n",
      "Requirement already satisfied: rsa>=3.1.4 in /Users/niklas/Virtual_Environment/Version_5/joshBakNew/lib/python3.9/site-packages (from oauth2client->tf-models-official>=2.5.1->object-detection==0.1) (4.9)\n",
      "Requirement already satisfied: pyasn1>=0.1.7 in /Users/niklas/Virtual_Environment/Version_5/joshBakNew/lib/python3.9/site-packages (from oauth2client->tf-models-official>=2.5.1->object-detection==0.1) (0.4.8)\n",
      "Requirement already satisfied: regex in /Users/niklas/Virtual_Environment/Version_5/joshBakNew/lib/python3.9/site-packages (from sacrebleu->tf-models-official>=2.5.1->object-detection==0.1) (2022.7.25)\n",
      "Requirement already satisfied: colorama in /Users/niklas/Virtual_Environment/Version_5/joshBakNew/lib/python3.9/site-packages (from sacrebleu->tf-models-official>=2.5.1->object-detection==0.1) (0.4.5)\n",
      "Requirement already satisfied: tabulate>=0.8.9 in /Users/niklas/Virtual_Environment/Version_5/joshBakNew/lib/python3.9/site-packages (from sacrebleu->tf-models-official>=2.5.1->object-detection==0.1) (0.8.10)\n",
      "Requirement already satisfied: portalocker in /Users/niklas/Virtual_Environment/Version_5/joshBakNew/lib/python3.9/site-packages (from sacrebleu->tf-models-official>=2.5.1->object-detection==0.1) (2.5.1)\n"
     ]
    },
    {
     "name": "stdout",
     "output_type": "stream",
     "text": [
      "Requirement already satisfied: scikit-learn>=0.21.3 in /Users/niklas/Virtual_Environment/Version_5/joshBakNew/lib/python3.9/site-packages (from seqeval->tf-models-official>=2.5.1->object-detection==0.1) (1.1.1)\n",
      "Requirement already satisfied: typeguard>=2.7 in /Users/niklas/Virtual_Environment/Version_5/joshBakNew/lib/python3.9/site-packages (from tensorflow-addons->tf-models-official>=2.5.1->object-detection==0.1) (2.13.3)\n",
      "Requirement already satisfied: toml in /Users/niklas/Virtual_Environment/Version_5/joshBakNew/lib/python3.9/site-packages (from tensorflow-datasets->tf-models-official>=2.5.1->object-detection==0.1) (0.10.2)\n",
      "Requirement already satisfied: promise in /Users/niklas/Virtual_Environment/Version_5/joshBakNew/lib/python3.9/site-packages (from tensorflow-datasets->tf-models-official>=2.5.1->object-detection==0.1) (2.3)\n",
      "Requirement already satisfied: tensorflow-metadata in /Users/niklas/Virtual_Environment/Version_5/joshBakNew/lib/python3.9/site-packages (from tensorflow-datasets->tf-models-official>=2.5.1->object-detection==0.1) (1.9.0)\n",
      "Requirement already satisfied: etils[epath] in /Users/niklas/Virtual_Environment/Version_5/joshBakNew/lib/python3.9/site-packages (from tensorflow-datasets->tf-models-official>=2.5.1->object-detection==0.1) (0.6.0)\n",
      "Requirement already satisfied: wheel<1.0,>=0.23.0 in /Users/niklas/Virtual_Environment/Version_5/joshBakNew/lib/python3.9/site-packages (from astunparse>=1.6.0->tensorflow~=2.9.0->tf-models-official>=2.5.1->object-detection==0.1) (0.37.1)\n",
      "Requirement already satisfied: googleapis-common-protos<2.0dev,>=1.56.2 in /Users/niklas/Virtual_Environment/Version_5/joshBakNew/lib/python3.9/site-packages (from google-api-core!=2.0.*,!=2.1.*,!=2.2.*,!=2.3.0,<3.0.0dev,>=1.31.5->google-api-python-client>=1.6.7->tf-models-official>=2.5.1->object-detection==0.1) (1.56.4)\n",
      "Requirement already satisfied: cachetools<6.0,>=2.0.0 in /Users/niklas/Virtual_Environment/Version_5/joshBakNew/lib/python3.9/site-packages (from google-auth<3.0.0dev,>=1.19.0->google-api-python-client>=1.6.7->tf-models-official>=2.5.1->object-detection==0.1) (5.2.0)\n",
      "Requirement already satisfied: threadpoolctl>=2.0.0 in /Users/niklas/Virtual_Environment/Version_5/joshBakNew/lib/python3.9/site-packages (from scikit-learn>=0.21.3->seqeval->tf-models-official>=2.5.1->object-detection==0.1) (3.1.0)\n",
      "Requirement already satisfied: joblib>=1.0.0 in /Users/niklas/Virtual_Environment/Version_5/joshBakNew/lib/python3.9/site-packages (from scikit-learn>=0.21.3->seqeval->tf-models-official>=2.5.1->object-detection==0.1) (1.1.0)\n",
      "Requirement already satisfied: tensorboard-plugin-wit>=1.6.0 in /Users/niklas/Virtual_Environment/Version_5/joshBakNew/lib/python3.9/site-packages (from tensorboard<2.10,>=2.9->tensorflow~=2.9.0->tf-models-official>=2.5.1->object-detection==0.1) (1.8.1)\n",
      "Requirement already satisfied: werkzeug>=1.0.1 in /Users/niklas/Virtual_Environment/Version_5/joshBakNew/lib/python3.9/site-packages (from tensorboard<2.10,>=2.9->tensorflow~=2.9.0->tf-models-official>=2.5.1->object-detection==0.1) (2.2.1)\n",
      "Requirement already satisfied: tensorboard-data-server<0.7.0,>=0.6.0 in /Users/niklas/Virtual_Environment/Version_5/joshBakNew/lib/python3.9/site-packages (from tensorboard<2.10,>=2.9->tensorflow~=2.9.0->tf-models-official>=2.5.1->object-detection==0.1) (0.6.1)\n",
      "Requirement already satisfied: google-auth-oauthlib<0.5,>=0.4.1 in /Users/niklas/Virtual_Environment/Version_5/joshBakNew/lib/python3.9/site-packages (from tensorboard<2.10,>=2.9->tensorflow~=2.9.0->tf-models-official>=2.5.1->object-detection==0.1) (0.4.6)\n",
      "Requirement already satisfied: markdown>=2.6.8 in /Users/niklas/Virtual_Environment/Version_5/joshBakNew/lib/python3.9/site-packages (from tensorboard<2.10,>=2.9->tensorflow~=2.9.0->tf-models-official>=2.5.1->object-detection==0.1) (3.4.1)\n",
      "Requirement already satisfied: zipp in /Users/niklas/Virtual_Environment/Version_5/joshBakNew/lib/python3.9/site-packages (from etils[epath]->tensorflow-datasets->tf-models-official>=2.5.1->object-detection==0.1) (3.8.1)\n",
      "Requirement already satisfied: importlib_resources in /Users/niklas/Virtual_Environment/Version_5/joshBakNew/lib/python3.9/site-packages (from etils[epath]->tensorflow-datasets->tf-models-official>=2.5.1->object-detection==0.1) (5.9.0)\n",
      "Requirement already satisfied: text-unidecode>=1.3 in /Users/niklas/Virtual_Environment/Version_5/joshBakNew/lib/python3.9/site-packages (from python-slugify->kaggle>=1.3.9->tf-models-official>=2.5.1->object-detection==0.1) (1.3)\n",
      "Requirement already satisfied: requests-oauthlib>=0.7.0 in /Users/niklas/Virtual_Environment/Version_5/joshBakNew/lib/python3.9/site-packages (from google-auth-oauthlib<0.5,>=0.4.1->tensorboard<2.10,>=2.9->tensorflow~=2.9.0->tf-models-official>=2.5.1->object-detection==0.1) (1.3.1)\n",
      "Requirement already satisfied: importlib-metadata>=4.4 in /Users/niklas/Virtual_Environment/Version_5/joshBakNew/lib/python3.9/site-packages (from markdown>=2.6.8->tensorboard<2.10,>=2.9->tensorflow~=2.9.0->tf-models-official>=2.5.1->object-detection==0.1) (4.12.0)\n",
      "Requirement already satisfied: MarkupSafe>=2.1.1 in /Users/niklas/Virtual_Environment/Version_5/joshBakNew/lib/python3.9/site-packages (from werkzeug>=1.0.1->tensorboard<2.10,>=2.9->tensorflow~=2.9.0->tf-models-official>=2.5.1->object-detection==0.1) (2.1.1)\n",
      "Requirement already satisfied: oauthlib>=3.0.0 in /Users/niklas/Virtual_Environment/Version_5/joshBakNew/lib/python3.9/site-packages (from requests-oauthlib>=0.7.0->google-auth-oauthlib<0.5,>=0.4.1->tensorboard<2.10,>=2.9->tensorflow~=2.9.0->tf-models-official>=2.5.1->object-detection==0.1) (3.2.0)\n",
      "Building wheels for collected packages: object-detection\n",
      "  Building wheel for object-detection (setup.py) ... \u001b[?25ldone\n",
      "\u001b[?25h  Created wheel for object-detection: filename=object_detection-0.1-py3-none-any.whl size=1661667 sha256=c56802a369f5e7fec10fe170dbfe7f42c3227a832a3160e5a847b6c87aacb721\n",
      "  Stored in directory: /private/var/folders/hd/gz2v7mz153nbydn703wyfm140000gn/T/pip-ephem-wheel-cache-z99ezri3/wheels/83/96/06/bf1c56d4991d748b69d9bedc3277c1b0f0d40a09a781e4d7c8\n",
      "Successfully built object-detection\n",
      "Installing collected packages: tensorflow-estimator, numpy, absl-py, opencv-python-headless, opencv-python, tensorflow, object-detection\n",
      "  Attempting uninstall: tensorflow-estimator\n",
      "    Found existing installation: tensorflow-estimator 2.5.0\n",
      "    Uninstalling tensorflow-estimator-2.5.0:\n",
      "      Successfully uninstalled tensorflow-estimator-2.5.0\n",
      "  Attempting uninstall: numpy\n",
      "    Found existing installation: numpy 1.19.5\n",
      "    Uninstalling numpy-1.19.5:\n",
      "      Successfully uninstalled numpy-1.19.5\n",
      "  Attempting uninstall: absl-py\n",
      "    Found existing installation: absl-py 0.15.0\n",
      "    Uninstalling absl-py-0.15.0:\n",
      "      Successfully uninstalled absl-py-0.15.0\n",
      "  Attempting uninstall: tensorflow\n",
      "    Found existing installation: tensorflow 2.5.0\n",
      "    Uninstalling tensorflow-2.5.0:\n",
      "      Successfully uninstalled tensorflow-2.5.0\n",
      "  Attempting uninstall: object-detection\n",
      "    Found existing installation: object-detection 0.1\n",
      "    Uninstalling object-detection-0.1:\n",
      "      Successfully uninstalled object-detection-0.1\n",
      "Successfully installed absl-py-1.2.0 numpy-1.22.4 object-detection-0.1 opencv-python-4.6.0.66 opencv-python-headless-4.6.0.66 tensorflow-2.9.1 tensorflow-estimator-2.9.0\n",
      "Installation complete..\n"
     ]
    }
   ],
   "source": [
    "# Check if API has already been installed\n",
    "if os.path.exists(paths['research']+'/setup.py') is False:\n",
    "    print('Installing setup.py...')\n",
    "    \n",
    "    # Move to 'research' directory\n",
    "    os.chdir(paths['research'])\n",
    "\n",
    "    # Copy setup.py to current working directory\n",
    "    !cp object_detection/packages/tf2/setup.py .\n",
    "\n",
    "    # Execute setup.py (this command installs all dependencies needed for tf2 odapi)\n",
    "    !python -m pip install .\n",
    "\n",
    "    print('Installation complete..')\n",
    "\n",
    "else:\n",
    "    print('Object Detection API is already installed...')\n",
    "\n",
    "# Move back to home-directory\n",
    "os.chdir(paths['home'])"
   ]
  },
  {
   "cell_type": "markdown",
   "id": "9a00f3be",
   "metadata": {
    "id": "9a00f3be"
   },
   "source": [
    "## 3.3 Check if API was installed successfully"
   ]
  },
  {
   "cell_type": "code",
   "execution_count": 13,
   "id": "70dfbfba",
   "metadata": {
    "colab": {
     "base_uri": "https://localhost:8080/"
    },
    "id": "70dfbfba",
    "outputId": "1c5d0969-1156-41e6-9af6-f2137099198d"
   },
   "outputs": [
    {
     "name": "stdout",
     "output_type": "stream",
     "text": [
      "Running tests under Python 3.9.6: /Users/niklas/Virtual_Environment/Version_5/joshBakNew/bin/python\n",
      "[ RUN      ] ModelBuilderTF2Test.test_create_center_net_deepmac\n",
      "2022-08-15 09:17:41.474209: I tensorflow/core/platform/cpu_feature_guard.cc:193] This TensorFlow binary is optimized with oneAPI Deep Neural Network Library (oneDNN) to use the following CPU instructions in performance-critical operations:  AVX2 FMA\n",
      "To enable them in other operations, rebuild TensorFlow with the appropriate compiler flags.\n",
      "/Users/niklas/Virtual_Environment/Version_5/joshBakNew/lib/python3.9/site-packages/object_detection/builders/model_builder.py:1102: DeprecationWarning: The 'warn' function is deprecated, use 'warning' instead\n",
      "  logging.warn(('Building experimental DeepMAC meta-arch.'\n",
      "W0815 09:17:41.844075 4641814016 model_builder.py:1102] Building experimental DeepMAC meta-arch. Some features may be omitted.\n",
      "INFO:tensorflow:time(__main__.ModelBuilderTF2Test.test_create_center_net_deepmac): 0.71s\n",
      "I0815 09:17:42.182765 4641814016 test_util.py:2458] time(__main__.ModelBuilderTF2Test.test_create_center_net_deepmac): 0.71s\n",
      "[       OK ] ModelBuilderTF2Test.test_create_center_net_deepmac\n",
      "[ RUN      ] ModelBuilderTF2Test.test_create_center_net_model0 (customize_head_params=True)\n",
      "INFO:tensorflow:time(__main__.ModelBuilderTF2Test.test_create_center_net_model0 (customize_head_params=True)): 0.76s\n",
      "I0815 09:17:42.946871 4641814016 test_util.py:2458] time(__main__.ModelBuilderTF2Test.test_create_center_net_model0 (customize_head_params=True)): 0.76s\n",
      "[       OK ] ModelBuilderTF2Test.test_create_center_net_model0 (customize_head_params=True)\n",
      "[ RUN      ] ModelBuilderTF2Test.test_create_center_net_model1 (customize_head_params=False)\n",
      "INFO:tensorflow:time(__main__.ModelBuilderTF2Test.test_create_center_net_model1 (customize_head_params=False)): 0.31s\n",
      "I0815 09:17:43.261007 4641814016 test_util.py:2458] time(__main__.ModelBuilderTF2Test.test_create_center_net_model1 (customize_head_params=False)): 0.31s\n",
      "[       OK ] ModelBuilderTF2Test.test_create_center_net_model1 (customize_head_params=False)\n",
      "[ RUN      ] ModelBuilderTF2Test.test_create_center_net_model_from_keypoints\n",
      "INFO:tensorflow:time(__main__.ModelBuilderTF2Test.test_create_center_net_model_from_keypoints): 0.38s\n",
      "I0815 09:17:43.643793 4641814016 test_util.py:2458] time(__main__.ModelBuilderTF2Test.test_create_center_net_model_from_keypoints): 0.38s\n",
      "[       OK ] ModelBuilderTF2Test.test_create_center_net_model_from_keypoints\n",
      "[ RUN      ] ModelBuilderTF2Test.test_create_center_net_model_mobilenet\n",
      "INFO:tensorflow:time(__main__.ModelBuilderTF2Test.test_create_center_net_model_mobilenet): 1.98s\n",
      "I0815 09:17:45.619866 4641814016 test_util.py:2458] time(__main__.ModelBuilderTF2Test.test_create_center_net_model_mobilenet): 1.98s\n",
      "[       OK ] ModelBuilderTF2Test.test_create_center_net_model_mobilenet\n",
      "[ RUN      ] ModelBuilderTF2Test.test_create_experimental_model\n",
      "INFO:tensorflow:time(__main__.ModelBuilderTF2Test.test_create_experimental_model): 0.0s\n",
      "I0815 09:17:45.620891 4641814016 test_util.py:2458] time(__main__.ModelBuilderTF2Test.test_create_experimental_model): 0.0s\n",
      "[       OK ] ModelBuilderTF2Test.test_create_experimental_model\n",
      "[ RUN      ] ModelBuilderTF2Test.test_create_faster_rcnn_from_config_with_crop_feature0 (True)\n",
      "INFO:tensorflow:time(__main__.ModelBuilderTF2Test.test_create_faster_rcnn_from_config_with_crop_feature0 (True)): 0.03s\n",
      "I0815 09:17:45.649770 4641814016 test_util.py:2458] time(__main__.ModelBuilderTF2Test.test_create_faster_rcnn_from_config_with_crop_feature0 (True)): 0.03s\n",
      "[       OK ] ModelBuilderTF2Test.test_create_faster_rcnn_from_config_with_crop_feature0 (True)\n",
      "[ RUN      ] ModelBuilderTF2Test.test_create_faster_rcnn_from_config_with_crop_feature1 (False)\n",
      "INFO:tensorflow:time(__main__.ModelBuilderTF2Test.test_create_faster_rcnn_from_config_with_crop_feature1 (False)): 0.02s\n",
      "I0815 09:17:45.669667 4641814016 test_util.py:2458] time(__main__.ModelBuilderTF2Test.test_create_faster_rcnn_from_config_with_crop_feature1 (False)): 0.02s\n",
      "[       OK ] ModelBuilderTF2Test.test_create_faster_rcnn_from_config_with_crop_feature1 (False)\n",
      "[ RUN      ] ModelBuilderTF2Test.test_create_faster_rcnn_model_from_config_with_example_miner\n",
      "INFO:tensorflow:time(__main__.ModelBuilderTF2Test.test_create_faster_rcnn_model_from_config_with_example_miner): 0.03s\n",
      "I0815 09:17:45.700303 4641814016 test_util.py:2458] time(__main__.ModelBuilderTF2Test.test_create_faster_rcnn_model_from_config_with_example_miner): 0.03s\n",
      "[       OK ] ModelBuilderTF2Test.test_create_faster_rcnn_model_from_config_with_example_miner\n",
      "[ RUN      ] ModelBuilderTF2Test.test_create_faster_rcnn_models_from_config_faster_rcnn_with_matmul\n",
      "INFO:tensorflow:time(__main__.ModelBuilderTF2Test.test_create_faster_rcnn_models_from_config_faster_rcnn_with_matmul): 0.13s\n",
      "I0815 09:17:45.832235 4641814016 test_util.py:2458] time(__main__.ModelBuilderTF2Test.test_create_faster_rcnn_models_from_config_faster_rcnn_with_matmul): 0.13s\n",
      "[       OK ] ModelBuilderTF2Test.test_create_faster_rcnn_models_from_config_faster_rcnn_with_matmul\n",
      "[ RUN      ] ModelBuilderTF2Test.test_create_faster_rcnn_models_from_config_faster_rcnn_without_matmul\n",
      "INFO:tensorflow:time(__main__.ModelBuilderTF2Test.test_create_faster_rcnn_models_from_config_faster_rcnn_without_matmul): 0.13s\n",
      "I0815 09:17:45.958789 4641814016 test_util.py:2458] time(__main__.ModelBuilderTF2Test.test_create_faster_rcnn_models_from_config_faster_rcnn_without_matmul): 0.13s\n",
      "[       OK ] ModelBuilderTF2Test.test_create_faster_rcnn_models_from_config_faster_rcnn_without_matmul\n",
      "[ RUN      ] ModelBuilderTF2Test.test_create_faster_rcnn_models_from_config_mask_rcnn_with_matmul\n",
      "INFO:tensorflow:time(__main__.ModelBuilderTF2Test.test_create_faster_rcnn_models_from_config_mask_rcnn_with_matmul): 0.13s\n",
      "I0815 09:17:46.088886 4641814016 test_util.py:2458] time(__main__.ModelBuilderTF2Test.test_create_faster_rcnn_models_from_config_mask_rcnn_with_matmul): 0.13s\n",
      "[       OK ] ModelBuilderTF2Test.test_create_faster_rcnn_models_from_config_mask_rcnn_with_matmul\n",
      "[ RUN      ] ModelBuilderTF2Test.test_create_faster_rcnn_models_from_config_mask_rcnn_without_matmul\n",
      "INFO:tensorflow:time(__main__.ModelBuilderTF2Test.test_create_faster_rcnn_models_from_config_mask_rcnn_without_matmul): 0.13s\n",
      "I0815 09:17:46.218499 4641814016 test_util.py:2458] time(__main__.ModelBuilderTF2Test.test_create_faster_rcnn_models_from_config_mask_rcnn_without_matmul): 0.13s\n",
      "[       OK ] ModelBuilderTF2Test.test_create_faster_rcnn_models_from_config_mask_rcnn_without_matmul\n",
      "[ RUN      ] ModelBuilderTF2Test.test_create_rfcn_model_from_config\n",
      "INFO:tensorflow:time(__main__.ModelBuilderTF2Test.test_create_rfcn_model_from_config): 0.11s\n",
      "I0815 09:17:46.328932 4641814016 test_util.py:2458] time(__main__.ModelBuilderTF2Test.test_create_rfcn_model_from_config): 0.11s\n",
      "[       OK ] ModelBuilderTF2Test.test_create_rfcn_model_from_config\n",
      "[ RUN      ] ModelBuilderTF2Test.test_create_ssd_fpn_model_from_config\n",
      "INFO:tensorflow:time(__main__.ModelBuilderTF2Test.test_create_ssd_fpn_model_from_config): 0.04s\n",
      "I0815 09:17:46.366602 4641814016 test_util.py:2458] time(__main__.ModelBuilderTF2Test.test_create_ssd_fpn_model_from_config): 0.04s\n",
      "[       OK ] ModelBuilderTF2Test.test_create_ssd_fpn_model_from_config\n",
      "[ RUN      ] ModelBuilderTF2Test.test_create_ssd_models_from_config\n",
      "I0815 09:17:46.734969 4641814016 ssd_efficientnet_bifpn_feature_extractor.py:145] EfficientDet EfficientNet backbone version: efficientnet-b0\n",
      "I0815 09:17:46.735101 4641814016 ssd_efficientnet_bifpn_feature_extractor.py:147] EfficientDet BiFPN num filters: 64\n",
      "I0815 09:17:46.735162 4641814016 ssd_efficientnet_bifpn_feature_extractor.py:148] EfficientDet BiFPN num iterations: 3\n",
      "I0815 09:17:46.737565 4641814016 efficientnet_model.py:143] round_filter input=32 output=32\n",
      "I0815 09:17:46.754255 4641814016 efficientnet_model.py:143] round_filter input=32 output=32\n",
      "I0815 09:17:46.754374 4641814016 efficientnet_model.py:143] round_filter input=16 output=16\n",
      "I0815 09:17:46.824172 4641814016 efficientnet_model.py:143] round_filter input=16 output=16\n",
      "I0815 09:17:46.824341 4641814016 efficientnet_model.py:143] round_filter input=24 output=24\n",
      "I0815 09:17:46.996005 4641814016 efficientnet_model.py:143] round_filter input=24 output=24\n",
      "I0815 09:17:46.996135 4641814016 efficientnet_model.py:143] round_filter input=40 output=40\n"
     ]
    },
    {
     "name": "stdout",
     "output_type": "stream",
     "text": [
      "I0815 09:17:47.158477 4641814016 efficientnet_model.py:143] round_filter input=40 output=40\n",
      "I0815 09:17:47.158608 4641814016 efficientnet_model.py:143] round_filter input=80 output=80\n",
      "I0815 09:17:47.440899 4641814016 efficientnet_model.py:143] round_filter input=80 output=80\n",
      "I0815 09:17:47.441029 4641814016 efficientnet_model.py:143] round_filter input=112 output=112\n",
      "I0815 09:17:47.690235 4641814016 efficientnet_model.py:143] round_filter input=112 output=112\n",
      "I0815 09:17:47.690370 4641814016 efficientnet_model.py:143] round_filter input=192 output=192\n",
      "I0815 09:17:48.061171 4641814016 efficientnet_model.py:143] round_filter input=192 output=192\n",
      "I0815 09:17:48.061316 4641814016 efficientnet_model.py:143] round_filter input=320 output=320\n",
      "I0815 09:17:48.156335 4641814016 efficientnet_model.py:143] round_filter input=1280 output=1280\n",
      "I0815 09:17:48.204802 4641814016 efficientnet_model.py:453] Building model efficientnet with params ModelConfig(width_coefficient=1.0, depth_coefficient=1.0, resolution=224, dropout_rate=0.2, blocks=(BlockConfig(input_filters=32, output_filters=16, kernel_size=3, num_repeat=1, expand_ratio=1, strides=(1, 1), se_ratio=0.25, id_skip=True, fused_conv=False, conv_type='depthwise'), BlockConfig(input_filters=16, output_filters=24, kernel_size=3, num_repeat=2, expand_ratio=6, strides=(2, 2), se_ratio=0.25, id_skip=True, fused_conv=False, conv_type='depthwise'), BlockConfig(input_filters=24, output_filters=40, kernel_size=5, num_repeat=2, expand_ratio=6, strides=(2, 2), se_ratio=0.25, id_skip=True, fused_conv=False, conv_type='depthwise'), BlockConfig(input_filters=40, output_filters=80, kernel_size=3, num_repeat=3, expand_ratio=6, strides=(2, 2), se_ratio=0.25, id_skip=True, fused_conv=False, conv_type='depthwise'), BlockConfig(input_filters=80, output_filters=112, kernel_size=5, num_repeat=3, expand_ratio=6, strides=(1, 1), se_ratio=0.25, id_skip=True, fused_conv=False, conv_type='depthwise'), BlockConfig(input_filters=112, output_filters=192, kernel_size=5, num_repeat=4, expand_ratio=6, strides=(2, 2), se_ratio=0.25, id_skip=True, fused_conv=False, conv_type='depthwise'), BlockConfig(input_filters=192, output_filters=320, kernel_size=3, num_repeat=1, expand_ratio=6, strides=(1, 1), se_ratio=0.25, id_skip=True, fused_conv=False, conv_type='depthwise')), stem_base_filters=32, top_base_filters=1280, activation='simple_swish', batch_norm='default', bn_momentum=0.99, bn_epsilon=0.001, weight_decay=5e-06, drop_connect_rate=0.2, depth_divisor=8, min_depth=None, use_se=True, input_channels=3, num_classes=1000, model_name='efficientnet', rescale_input=False, data_format='channels_last', dtype='float32')\n",
      "I0815 09:17:48.258179 4641814016 ssd_efficientnet_bifpn_feature_extractor.py:145] EfficientDet EfficientNet backbone version: efficientnet-b1\n",
      "I0815 09:17:48.258295 4641814016 ssd_efficientnet_bifpn_feature_extractor.py:147] EfficientDet BiFPN num filters: 88\n",
      "I0815 09:17:48.258351 4641814016 ssd_efficientnet_bifpn_feature_extractor.py:148] EfficientDet BiFPN num iterations: 4\n",
      "I0815 09:17:48.259898 4641814016 efficientnet_model.py:143] round_filter input=32 output=32\n",
      "I0815 09:17:48.275114 4641814016 efficientnet_model.py:143] round_filter input=32 output=32\n",
      "I0815 09:17:48.275223 4641814016 efficientnet_model.py:143] round_filter input=16 output=16\n",
      "I0815 09:17:48.443256 4641814016 efficientnet_model.py:143] round_filter input=16 output=16\n",
      "I0815 09:17:48.443412 4641814016 efficientnet_model.py:143] round_filter input=24 output=24\n",
      "I0815 09:17:48.703773 4641814016 efficientnet_model.py:143] round_filter input=24 output=24\n",
      "I0815 09:17:48.703903 4641814016 efficientnet_model.py:143] round_filter input=40 output=40\n",
      "I0815 09:17:48.952914 4641814016 efficientnet_model.py:143] round_filter input=40 output=40\n",
      "I0815 09:17:48.953047 4641814016 efficientnet_model.py:143] round_filter input=80 output=80\n",
      "I0815 09:17:49.341058 4641814016 efficientnet_model.py:143] round_filter input=80 output=80\n",
      "I0815 09:17:49.341199 4641814016 efficientnet_model.py:143] round_filter input=112 output=112\n",
      "I0815 09:17:49.712476 4641814016 efficientnet_model.py:143] round_filter input=112 output=112\n",
      "I0815 09:17:49.712654 4641814016 efficientnet_model.py:143] round_filter input=192 output=192\n",
      "I0815 09:17:50.209034 4641814016 efficientnet_model.py:143] round_filter input=192 output=192\n",
      "I0815 09:17:50.209165 4641814016 efficientnet_model.py:143] round_filter input=320 output=320\n",
      "I0815 09:17:50.412730 4641814016 efficientnet_model.py:143] round_filter input=1280 output=1280\n",
      "I0815 09:17:50.463534 4641814016 efficientnet_model.py:453] Building model efficientnet with params ModelConfig(width_coefficient=1.0, depth_coefficient=1.1, resolution=240, dropout_rate=0.2, blocks=(BlockConfig(input_filters=32, output_filters=16, kernel_size=3, num_repeat=1, expand_ratio=1, strides=(1, 1), se_ratio=0.25, id_skip=True, fused_conv=False, conv_type='depthwise'), BlockConfig(input_filters=16, output_filters=24, kernel_size=3, num_repeat=2, expand_ratio=6, strides=(2, 2), se_ratio=0.25, id_skip=True, fused_conv=False, conv_type='depthwise'), BlockConfig(input_filters=24, output_filters=40, kernel_size=5, num_repeat=2, expand_ratio=6, strides=(2, 2), se_ratio=0.25, id_skip=True, fused_conv=False, conv_type='depthwise'), BlockConfig(input_filters=40, output_filters=80, kernel_size=3, num_repeat=3, expand_ratio=6, strides=(2, 2), se_ratio=0.25, id_skip=True, fused_conv=False, conv_type='depthwise'), BlockConfig(input_filters=80, output_filters=112, kernel_size=5, num_repeat=3, expand_ratio=6, strides=(1, 1), se_ratio=0.25, id_skip=True, fused_conv=False, conv_type='depthwise'), BlockConfig(input_filters=112, output_filters=192, kernel_size=5, num_repeat=4, expand_ratio=6, strides=(2, 2), se_ratio=0.25, id_skip=True, fused_conv=False, conv_type='depthwise'), BlockConfig(input_filters=192, output_filters=320, kernel_size=3, num_repeat=1, expand_ratio=6, strides=(1, 1), se_ratio=0.25, id_skip=True, fused_conv=False, conv_type='depthwise')), stem_base_filters=32, top_base_filters=1280, activation='simple_swish', batch_norm='default', bn_momentum=0.99, bn_epsilon=0.001, weight_decay=5e-06, drop_connect_rate=0.2, depth_divisor=8, min_depth=None, use_se=True, input_channels=3, num_classes=1000, model_name='efficientnet', rescale_input=False, data_format='channels_last', dtype='float32')\n",
      "I0815 09:17:50.540888 4641814016 ssd_efficientnet_bifpn_feature_extractor.py:145] EfficientDet EfficientNet backbone version: efficientnet-b2\n",
      "I0815 09:17:50.541136 4641814016 ssd_efficientnet_bifpn_feature_extractor.py:147] EfficientDet BiFPN num filters: 112\n",
      "I0815 09:17:50.541210 4641814016 ssd_efficientnet_bifpn_feature_extractor.py:148] EfficientDet BiFPN num iterations: 5\n",
      "I0815 09:17:50.542876 4641814016 efficientnet_model.py:143] round_filter input=32 output=32\n",
      "I0815 09:17:50.563297 4641814016 efficientnet_model.py:143] round_filter input=32 output=32\n",
      "I0815 09:17:50.563419 4641814016 efficientnet_model.py:143] round_filter input=16 output=16\n",
      "I0815 09:17:50.706907 4641814016 efficientnet_model.py:143] round_filter input=16 output=16\n",
      "I0815 09:17:50.707036 4641814016 efficientnet_model.py:143] round_filter input=24 output=24\n",
      "I0815 09:17:51.133460 4641814016 efficientnet_model.py:143] round_filter input=24 output=24\n",
      "I0815 09:17:51.133599 4641814016 efficientnet_model.py:143] round_filter input=40 output=48\n",
      "I0815 09:17:51.395282 4641814016 efficientnet_model.py:143] round_filter input=40 output=48\n",
      "I0815 09:17:51.395457 4641814016 efficientnet_model.py:143] round_filter input=80 output=88\n",
      "I0815 09:17:51.743849 4641814016 efficientnet_model.py:143] round_filter input=80 output=88\n",
      "I0815 09:17:51.743984 4641814016 efficientnet_model.py:143] round_filter input=112 output=120\n",
      "I0815 09:17:52.124729 4641814016 efficientnet_model.py:143] round_filter input=112 output=120\n",
      "I0815 09:17:52.124858 4641814016 efficientnet_model.py:143] round_filter input=192 output=208\n",
      "I0815 09:17:52.579019 4641814016 efficientnet_model.py:143] round_filter input=192 output=208\n",
      "I0815 09:17:52.579145 4641814016 efficientnet_model.py:143] round_filter input=320 output=352\n",
      "I0815 09:17:52.786589 4641814016 efficientnet_model.py:143] round_filter input=1280 output=1408\n"
     ]
    },
    {
     "name": "stdout",
     "output_type": "stream",
     "text": [
      "I0815 09:17:52.836718 4641814016 efficientnet_model.py:453] Building model efficientnet with params ModelConfig(width_coefficient=1.1, depth_coefficient=1.2, resolution=260, dropout_rate=0.3, blocks=(BlockConfig(input_filters=32, output_filters=16, kernel_size=3, num_repeat=1, expand_ratio=1, strides=(1, 1), se_ratio=0.25, id_skip=True, fused_conv=False, conv_type='depthwise'), BlockConfig(input_filters=16, output_filters=24, kernel_size=3, num_repeat=2, expand_ratio=6, strides=(2, 2), se_ratio=0.25, id_skip=True, fused_conv=False, conv_type='depthwise'), BlockConfig(input_filters=24, output_filters=40, kernel_size=5, num_repeat=2, expand_ratio=6, strides=(2, 2), se_ratio=0.25, id_skip=True, fused_conv=False, conv_type='depthwise'), BlockConfig(input_filters=40, output_filters=80, kernel_size=3, num_repeat=3, expand_ratio=6, strides=(2, 2), se_ratio=0.25, id_skip=True, fused_conv=False, conv_type='depthwise'), BlockConfig(input_filters=80, output_filters=112, kernel_size=5, num_repeat=3, expand_ratio=6, strides=(1, 1), se_ratio=0.25, id_skip=True, fused_conv=False, conv_type='depthwise'), BlockConfig(input_filters=112, output_filters=192, kernel_size=5, num_repeat=4, expand_ratio=6, strides=(2, 2), se_ratio=0.25, id_skip=True, fused_conv=False, conv_type='depthwise'), BlockConfig(input_filters=192, output_filters=320, kernel_size=3, num_repeat=1, expand_ratio=6, strides=(1, 1), se_ratio=0.25, id_skip=True, fused_conv=False, conv_type='depthwise')), stem_base_filters=32, top_base_filters=1280, activation='simple_swish', batch_norm='default', bn_momentum=0.99, bn_epsilon=0.001, weight_decay=5e-06, drop_connect_rate=0.2, depth_divisor=8, min_depth=None, use_se=True, input_channels=3, num_classes=1000, model_name='efficientnet', rescale_input=False, data_format='channels_last', dtype='float32')\n",
      "I0815 09:17:52.912550 4641814016 ssd_efficientnet_bifpn_feature_extractor.py:145] EfficientDet EfficientNet backbone version: efficientnet-b3\n",
      "I0815 09:17:52.912679 4641814016 ssd_efficientnet_bifpn_feature_extractor.py:147] EfficientDet BiFPN num filters: 160\n",
      "I0815 09:17:52.912739 4641814016 ssd_efficientnet_bifpn_feature_extractor.py:148] EfficientDet BiFPN num iterations: 6\n",
      "I0815 09:17:52.914435 4641814016 efficientnet_model.py:143] round_filter input=32 output=40\n",
      "I0815 09:17:52.943188 4641814016 efficientnet_model.py:143] round_filter input=32 output=40\n",
      "I0815 09:17:52.943312 4641814016 efficientnet_model.py:143] round_filter input=16 output=24\n",
      "I0815 09:17:53.072455 4641814016 efficientnet_model.py:143] round_filter input=16 output=24\n",
      "I0815 09:17:53.072778 4641814016 efficientnet_model.py:143] round_filter input=24 output=32\n",
      "I0815 09:17:53.369925 4641814016 efficientnet_model.py:143] round_filter input=24 output=32\n",
      "I0815 09:17:53.370055 4641814016 efficientnet_model.py:143] round_filter input=40 output=48\n",
      "I0815 09:17:53.628778 4641814016 efficientnet_model.py:143] round_filter input=40 output=48\n",
      "I0815 09:17:53.628912 4641814016 efficientnet_model.py:143] round_filter input=80 output=96\n",
      "I0815 09:17:54.123351 4641814016 efficientnet_model.py:143] round_filter input=80 output=96\n",
      "I0815 09:17:54.123539 4641814016 efficientnet_model.py:143] round_filter input=112 output=136\n",
      "I0815 09:17:54.731544 4641814016 efficientnet_model.py:143] round_filter input=112 output=136\n",
      "I0815 09:17:54.731678 4641814016 efficientnet_model.py:143] round_filter input=192 output=232\n",
      "I0815 09:17:55.336570 4641814016 efficientnet_model.py:143] round_filter input=192 output=232\n",
      "I0815 09:17:55.336704 4641814016 efficientnet_model.py:143] round_filter input=320 output=384\n",
      "I0815 09:17:55.547950 4641814016 efficientnet_model.py:143] round_filter input=1280 output=1536\n",
      "I0815 09:17:55.602901 4641814016 efficientnet_model.py:453] Building model efficientnet with params ModelConfig(width_coefficient=1.2, depth_coefficient=1.4, resolution=300, dropout_rate=0.3, blocks=(BlockConfig(input_filters=32, output_filters=16, kernel_size=3, num_repeat=1, expand_ratio=1, strides=(1, 1), se_ratio=0.25, id_skip=True, fused_conv=False, conv_type='depthwise'), BlockConfig(input_filters=16, output_filters=24, kernel_size=3, num_repeat=2, expand_ratio=6, strides=(2, 2), se_ratio=0.25, id_skip=True, fused_conv=False, conv_type='depthwise'), BlockConfig(input_filters=24, output_filters=40, kernel_size=5, num_repeat=2, expand_ratio=6, strides=(2, 2), se_ratio=0.25, id_skip=True, fused_conv=False, conv_type='depthwise'), BlockConfig(input_filters=40, output_filters=80, kernel_size=3, num_repeat=3, expand_ratio=6, strides=(2, 2), se_ratio=0.25, id_skip=True, fused_conv=False, conv_type='depthwise'), BlockConfig(input_filters=80, output_filters=112, kernel_size=5, num_repeat=3, expand_ratio=6, strides=(1, 1), se_ratio=0.25, id_skip=True, fused_conv=False, conv_type='depthwise'), BlockConfig(input_filters=112, output_filters=192, kernel_size=5, num_repeat=4, expand_ratio=6, strides=(2, 2), se_ratio=0.25, id_skip=True, fused_conv=False, conv_type='depthwise'), BlockConfig(input_filters=192, output_filters=320, kernel_size=3, num_repeat=1, expand_ratio=6, strides=(1, 1), se_ratio=0.25, id_skip=True, fused_conv=False, conv_type='depthwise')), stem_base_filters=32, top_base_filters=1280, activation='simple_swish', batch_norm='default', bn_momentum=0.99, bn_epsilon=0.001, weight_decay=5e-06, drop_connect_rate=0.2, depth_divisor=8, min_depth=None, use_se=True, input_channels=3, num_classes=1000, model_name='efficientnet', rescale_input=False, data_format='channels_last', dtype='float32')\n",
      "I0815 09:17:55.704396 4641814016 ssd_efficientnet_bifpn_feature_extractor.py:145] EfficientDet EfficientNet backbone version: efficientnet-b4\n",
      "I0815 09:17:55.704533 4641814016 ssd_efficientnet_bifpn_feature_extractor.py:147] EfficientDet BiFPN num filters: 224\n",
      "I0815 09:17:55.704596 4641814016 ssd_efficientnet_bifpn_feature_extractor.py:148] EfficientDet BiFPN num iterations: 7\n",
      "I0815 09:17:55.706213 4641814016 efficientnet_model.py:143] round_filter input=32 output=48\n",
      "I0815 09:17:55.722252 4641814016 efficientnet_model.py:143] round_filter input=32 output=48\n",
      "I0815 09:17:55.722368 4641814016 efficientnet_model.py:143] round_filter input=16 output=24\n",
      "I0815 09:17:55.905563 4641814016 efficientnet_model.py:143] round_filter input=16 output=24\n",
      "I0815 09:17:55.905694 4641814016 efficientnet_model.py:143] round_filter input=24 output=32\n",
      "I0815 09:17:56.310142 4641814016 efficientnet_model.py:143] round_filter input=24 output=32\n",
      "I0815 09:17:56.310277 4641814016 efficientnet_model.py:143] round_filter input=40 output=56\n",
      "I0815 09:17:56.739174 4641814016 efficientnet_model.py:143] round_filter input=40 output=56\n",
      "I0815 09:17:56.739315 4641814016 efficientnet_model.py:143] round_filter input=80 output=112\n",
      "I0815 09:17:57.310640 4641814016 efficientnet_model.py:143] round_filter input=80 output=112\n",
      "I0815 09:17:57.310774 4641814016 efficientnet_model.py:143] round_filter input=112 output=160\n",
      "I0815 09:17:58.084769 4641814016 efficientnet_model.py:143] round_filter input=112 output=160\n",
      "I0815 09:17:58.084903 4641814016 efficientnet_model.py:143] round_filter input=192 output=272\n",
      "I0815 09:17:59.056382 4641814016 efficientnet_model.py:143] round_filter input=192 output=272\n",
      "I0815 09:17:59.056519 4641814016 efficientnet_model.py:143] round_filter input=320 output=448\n",
      "I0815 09:17:59.304536 4641814016 efficientnet_model.py:143] round_filter input=1280 output=1792\n",
      "I0815 09:17:59.367612 4641814016 efficientnet_model.py:453] Building model efficientnet with params ModelConfig(width_coefficient=1.4, depth_coefficient=1.8, resolution=380, dropout_rate=0.4, blocks=(BlockConfig(input_filters=32, output_filters=16, kernel_size=3, num_repeat=1, expand_ratio=1, strides=(1, 1), se_ratio=0.25, id_skip=True, fused_conv=False, conv_type='depthwise'), BlockConfig(input_filters=16, output_filters=24, kernel_size=3, num_repeat=2, expand_ratio=6, strides=(2, 2), se_ratio=0.25, id_skip=True, fused_conv=False, conv_type='depthwise'), BlockConfig(input_filters=24, output_filters=40, kernel_size=5, num_repeat=2, expand_ratio=6, strides=(2, 2), se_ratio=0.25, id_skip=True, fused_conv=False, conv_type='depthwise'), BlockConfig(input_filters=40, output_filters=80, kernel_size=3, num_repeat=3, expand_ratio=6, strides=(2, 2), se_ratio=0.25, id_skip=True, fused_conv=False, conv_type='depthwise'), BlockConfig(input_filters=80, output_filters=112, kernel_size=5, num_repeat=3, expand_ratio=6, strides=(1, 1), se_ratio=0.25, id_skip=True, fused_conv=False, conv_type='depthwise'), BlockConfig(input_filters=112, output_filters=192, kernel_size=5, num_repeat=4, expand_ratio=6, strides=(2, 2), se_ratio=0.25, id_skip=True, fused_conv=False, conv_type='depthwise'), BlockConfig(input_filters=192, output_filters=320, kernel_size=3, num_repeat=1, expand_ratio=6, strides=(1, 1), se_ratio=0.25, id_skip=True, fused_conv=False, conv_type='depthwise')), stem_base_filters=32, top_base_filters=1280, activation='simple_swish', batch_norm='default', bn_momentum=0.99, bn_epsilon=0.001, weight_decay=5e-06, drop_connect_rate=0.2, depth_divisor=8, min_depth=None, use_se=True, input_channels=3, num_classes=1000, model_name='efficientnet', rescale_input=False, data_format='channels_last', dtype='float32')\n"
     ]
    },
    {
     "name": "stdout",
     "output_type": "stream",
     "text": [
      "I0815 09:17:59.467200 4641814016 ssd_efficientnet_bifpn_feature_extractor.py:145] EfficientDet EfficientNet backbone version: efficientnet-b5\n",
      "I0815 09:17:59.467331 4641814016 ssd_efficientnet_bifpn_feature_extractor.py:147] EfficientDet BiFPN num filters: 288\n",
      "I0815 09:17:59.467387 4641814016 ssd_efficientnet_bifpn_feature_extractor.py:148] EfficientDet BiFPN num iterations: 7\n",
      "I0815 09:17:59.469196 4641814016 efficientnet_model.py:143] round_filter input=32 output=48\n",
      "I0815 09:17:59.489827 4641814016 efficientnet_model.py:143] round_filter input=32 output=48\n",
      "I0815 09:17:59.489955 4641814016 efficientnet_model.py:143] round_filter input=16 output=24\n",
      "I0815 09:17:59.679039 4641814016 efficientnet_model.py:143] round_filter input=16 output=24\n",
      "I0815 09:17:59.679171 4641814016 efficientnet_model.py:143] round_filter input=24 output=40\n",
      "I0815 09:18:00.104116 4641814016 efficientnet_model.py:143] round_filter input=24 output=40\n",
      "I0815 09:18:00.104250 4641814016 efficientnet_model.py:143] round_filter input=40 output=64\n",
      "I0815 09:18:00.511778 4641814016 efficientnet_model.py:143] round_filter input=40 output=64\n",
      "I0815 09:18:00.511909 4641814016 efficientnet_model.py:143] round_filter input=80 output=128\n",
      "I0815 09:18:01.152564 4641814016 efficientnet_model.py:143] round_filter input=80 output=128\n",
      "I0815 09:18:01.152700 4641814016 efficientnet_model.py:143] round_filter input=112 output=176\n",
      "I0815 09:18:01.819270 4641814016 efficientnet_model.py:143] round_filter input=112 output=176\n",
      "I0815 09:18:01.819405 4641814016 efficientnet_model.py:143] round_filter input=192 output=304\n",
      "I0815 09:18:02.807226 4641814016 efficientnet_model.py:143] round_filter input=192 output=304\n",
      "I0815 09:18:02.807365 4641814016 efficientnet_model.py:143] round_filter input=320 output=512\n",
      "I0815 09:18:03.185776 4641814016 efficientnet_model.py:143] round_filter input=1280 output=2048\n",
      "I0815 09:18:03.248487 4641814016 efficientnet_model.py:453] Building model efficientnet with params ModelConfig(width_coefficient=1.6, depth_coefficient=2.2, resolution=456, dropout_rate=0.4, blocks=(BlockConfig(input_filters=32, output_filters=16, kernel_size=3, num_repeat=1, expand_ratio=1, strides=(1, 1), se_ratio=0.25, id_skip=True, fused_conv=False, conv_type='depthwise'), BlockConfig(input_filters=16, output_filters=24, kernel_size=3, num_repeat=2, expand_ratio=6, strides=(2, 2), se_ratio=0.25, id_skip=True, fused_conv=False, conv_type='depthwise'), BlockConfig(input_filters=24, output_filters=40, kernel_size=5, num_repeat=2, expand_ratio=6, strides=(2, 2), se_ratio=0.25, id_skip=True, fused_conv=False, conv_type='depthwise'), BlockConfig(input_filters=40, output_filters=80, kernel_size=3, num_repeat=3, expand_ratio=6, strides=(2, 2), se_ratio=0.25, id_skip=True, fused_conv=False, conv_type='depthwise'), BlockConfig(input_filters=80, output_filters=112, kernel_size=5, num_repeat=3, expand_ratio=6, strides=(1, 1), se_ratio=0.25, id_skip=True, fused_conv=False, conv_type='depthwise'), BlockConfig(input_filters=112, output_filters=192, kernel_size=5, num_repeat=4, expand_ratio=6, strides=(2, 2), se_ratio=0.25, id_skip=True, fused_conv=False, conv_type='depthwise'), BlockConfig(input_filters=192, output_filters=320, kernel_size=3, num_repeat=1, expand_ratio=6, strides=(1, 1), se_ratio=0.25, id_skip=True, fused_conv=False, conv_type='depthwise')), stem_base_filters=32, top_base_filters=1280, activation='simple_swish', batch_norm='default', bn_momentum=0.99, bn_epsilon=0.001, weight_decay=5e-06, drop_connect_rate=0.2, depth_divisor=8, min_depth=None, use_se=True, input_channels=3, num_classes=1000, model_name='efficientnet', rescale_input=False, data_format='channels_last', dtype='float32')\n",
      "I0815 09:18:03.352581 4641814016 ssd_efficientnet_bifpn_feature_extractor.py:145] EfficientDet EfficientNet backbone version: efficientnet-b6\n",
      "I0815 09:18:03.352708 4641814016 ssd_efficientnet_bifpn_feature_extractor.py:147] EfficientDet BiFPN num filters: 384\n",
      "I0815 09:18:03.352763 4641814016 ssd_efficientnet_bifpn_feature_extractor.py:148] EfficientDet BiFPN num iterations: 8\n",
      "I0815 09:18:03.354309 4641814016 efficientnet_model.py:143] round_filter input=32 output=56\n",
      "I0815 09:18:03.367615 4641814016 efficientnet_model.py:143] round_filter input=32 output=56\n",
      "I0815 09:18:03.367723 4641814016 efficientnet_model.py:143] round_filter input=16 output=32\n",
      "I0815 09:18:03.542732 4641814016 efficientnet_model.py:143] round_filter input=16 output=32\n",
      "I0815 09:18:03.542860 4641814016 efficientnet_model.py:143] round_filter input=24 output=40\n",
      "I0815 09:18:04.205437 4641814016 efficientnet_model.py:143] round_filter input=24 output=40\n",
      "I0815 09:18:04.205573 4641814016 efficientnet_model.py:143] round_filter input=40 output=72\n",
      "I0815 09:18:04.661276 4641814016 efficientnet_model.py:143] round_filter input=40 output=72\n",
      "I0815 09:18:04.661410 4641814016 efficientnet_model.py:143] round_filter input=80 output=144\n",
      "I0815 09:18:05.294431 4641814016 efficientnet_model.py:143] round_filter input=80 output=144\n",
      "I0815 09:18:05.294573 4641814016 efficientnet_model.py:143] round_filter input=112 output=200\n",
      "I0815 09:18:05.995480 4641814016 efficientnet_model.py:143] round_filter input=112 output=200\n",
      "I0815 09:18:05.995609 4641814016 efficientnet_model.py:143] round_filter input=192 output=344\n",
      "I0815 09:18:07.227279 4641814016 efficientnet_model.py:143] round_filter input=192 output=344\n",
      "I0815 09:18:07.227411 4641814016 efficientnet_model.py:143] round_filter input=320 output=576\n",
      "I0815 09:18:07.736265 4641814016 efficientnet_model.py:143] round_filter input=1280 output=2304\n",
      "I0815 09:18:07.821373 4641814016 efficientnet_model.py:453] Building model efficientnet with params ModelConfig(width_coefficient=1.8, depth_coefficient=2.6, resolution=528, dropout_rate=0.5, blocks=(BlockConfig(input_filters=32, output_filters=16, kernel_size=3, num_repeat=1, expand_ratio=1, strides=(1, 1), se_ratio=0.25, id_skip=True, fused_conv=False, conv_type='depthwise'), BlockConfig(input_filters=16, output_filters=24, kernel_size=3, num_repeat=2, expand_ratio=6, strides=(2, 2), se_ratio=0.25, id_skip=True, fused_conv=False, conv_type='depthwise'), BlockConfig(input_filters=24, output_filters=40, kernel_size=5, num_repeat=2, expand_ratio=6, strides=(2, 2), se_ratio=0.25, id_skip=True, fused_conv=False, conv_type='depthwise'), BlockConfig(input_filters=40, output_filters=80, kernel_size=3, num_repeat=3, expand_ratio=6, strides=(2, 2), se_ratio=0.25, id_skip=True, fused_conv=False, conv_type='depthwise'), BlockConfig(input_filters=80, output_filters=112, kernel_size=5, num_repeat=3, expand_ratio=6, strides=(1, 1), se_ratio=0.25, id_skip=True, fused_conv=False, conv_type='depthwise'), BlockConfig(input_filters=112, output_filters=192, kernel_size=5, num_repeat=4, expand_ratio=6, strides=(2, 2), se_ratio=0.25, id_skip=True, fused_conv=False, conv_type='depthwise'), BlockConfig(input_filters=192, output_filters=320, kernel_size=3, num_repeat=1, expand_ratio=6, strides=(1, 1), se_ratio=0.25, id_skip=True, fused_conv=False, conv_type='depthwise')), stem_base_filters=32, top_base_filters=1280, activation='simple_swish', batch_norm='default', bn_momentum=0.99, bn_epsilon=0.001, weight_decay=5e-06, drop_connect_rate=0.2, depth_divisor=8, min_depth=None, use_se=True, input_channels=3, num_classes=1000, model_name='efficientnet', rescale_input=False, data_format='channels_last', dtype='float32')\n",
      "I0815 09:18:07.968183 4641814016 ssd_efficientnet_bifpn_feature_extractor.py:145] EfficientDet EfficientNet backbone version: efficientnet-b7\n",
      "I0815 09:18:07.980028 4641814016 ssd_efficientnet_bifpn_feature_extractor.py:147] EfficientDet BiFPN num filters: 384\n",
      "I0815 09:18:08.032721 4641814016 ssd_efficientnet_bifpn_feature_extractor.py:148] EfficientDet BiFPN num iterations: 8\n",
      "I0815 09:18:08.059571 4641814016 efficientnet_model.py:143] round_filter input=32 output=64\n",
      "I0815 09:18:08.094844 4641814016 efficientnet_model.py:143] round_filter input=32 output=64\n",
      "I0815 09:18:08.094968 4641814016 efficientnet_model.py:143] round_filter input=16 output=32\n",
      "I0815 09:18:08.401818 4641814016 efficientnet_model.py:143] round_filter input=16 output=32\n",
      "I0815 09:18:08.401948 4641814016 efficientnet_model.py:143] round_filter input=24 output=48\n"
     ]
    },
    {
     "name": "stdout",
     "output_type": "stream",
     "text": [
      "I0815 09:18:08.931744 4641814016 efficientnet_model.py:143] round_filter input=24 output=48\n",
      "I0815 09:18:08.931930 4641814016 efficientnet_model.py:143] round_filter input=40 output=80\n",
      "I0815 09:18:09.459733 4641814016 efficientnet_model.py:143] round_filter input=40 output=80\n",
      "I0815 09:18:09.459865 4641814016 efficientnet_model.py:143] round_filter input=80 output=160\n",
      "I0815 09:18:10.414225 4641814016 efficientnet_model.py:143] round_filter input=80 output=160\n",
      "I0815 09:18:10.414355 4641814016 efficientnet_model.py:143] round_filter input=112 output=224\n",
      "I0815 09:18:11.511564 4641814016 efficientnet_model.py:143] round_filter input=112 output=224\n",
      "I0815 09:18:11.511702 4641814016 efficientnet_model.py:143] round_filter input=192 output=384\n",
      "I0815 09:18:13.238204 4641814016 efficientnet_model.py:143] round_filter input=192 output=384\n",
      "I0815 09:18:13.238332 4641814016 efficientnet_model.py:143] round_filter input=320 output=640\n",
      "I0815 09:18:13.864125 4641814016 efficientnet_model.py:143] round_filter input=1280 output=2560\n",
      "I0815 09:18:13.944378 4641814016 efficientnet_model.py:453] Building model efficientnet with params ModelConfig(width_coefficient=2.0, depth_coefficient=3.1, resolution=600, dropout_rate=0.5, blocks=(BlockConfig(input_filters=32, output_filters=16, kernel_size=3, num_repeat=1, expand_ratio=1, strides=(1, 1), se_ratio=0.25, id_skip=True, fused_conv=False, conv_type='depthwise'), BlockConfig(input_filters=16, output_filters=24, kernel_size=3, num_repeat=2, expand_ratio=6, strides=(2, 2), se_ratio=0.25, id_skip=True, fused_conv=False, conv_type='depthwise'), BlockConfig(input_filters=24, output_filters=40, kernel_size=5, num_repeat=2, expand_ratio=6, strides=(2, 2), se_ratio=0.25, id_skip=True, fused_conv=False, conv_type='depthwise'), BlockConfig(input_filters=40, output_filters=80, kernel_size=3, num_repeat=3, expand_ratio=6, strides=(2, 2), se_ratio=0.25, id_skip=True, fused_conv=False, conv_type='depthwise'), BlockConfig(input_filters=80, output_filters=112, kernel_size=5, num_repeat=3, expand_ratio=6, strides=(1, 1), se_ratio=0.25, id_skip=True, fused_conv=False, conv_type='depthwise'), BlockConfig(input_filters=112, output_filters=192, kernel_size=5, num_repeat=4, expand_ratio=6, strides=(2, 2), se_ratio=0.25, id_skip=True, fused_conv=False, conv_type='depthwise'), BlockConfig(input_filters=192, output_filters=320, kernel_size=3, num_repeat=1, expand_ratio=6, strides=(1, 1), se_ratio=0.25, id_skip=True, fused_conv=False, conv_type='depthwise')), stem_base_filters=32, top_base_filters=1280, activation='simple_swish', batch_norm='default', bn_momentum=0.99, bn_epsilon=0.001, weight_decay=5e-06, drop_connect_rate=0.2, depth_divisor=8, min_depth=None, use_se=True, input_channels=3, num_classes=1000, model_name='efficientnet', rescale_input=False, data_format='channels_last', dtype='float32')\n",
      "INFO:tensorflow:time(__main__.ModelBuilderTF2Test.test_create_ssd_models_from_config): 27.71s\n",
      "I0815 09:18:14.075880 4641814016 test_util.py:2458] time(__main__.ModelBuilderTF2Test.test_create_ssd_models_from_config): 27.71s\n",
      "[       OK ] ModelBuilderTF2Test.test_create_ssd_models_from_config\n",
      "[ RUN      ] ModelBuilderTF2Test.test_invalid_faster_rcnn_batchnorm_update\n",
      "INFO:tensorflow:time(__main__.ModelBuilderTF2Test.test_invalid_faster_rcnn_batchnorm_update): 0.0s\n",
      "I0815 09:18:14.085522 4641814016 test_util.py:2458] time(__main__.ModelBuilderTF2Test.test_invalid_faster_rcnn_batchnorm_update): 0.0s\n",
      "[       OK ] ModelBuilderTF2Test.test_invalid_faster_rcnn_batchnorm_update\n",
      "[ RUN      ] ModelBuilderTF2Test.test_invalid_first_stage_nms_iou_threshold\n",
      "INFO:tensorflow:time(__main__.ModelBuilderTF2Test.test_invalid_first_stage_nms_iou_threshold): 0.0s\n",
      "I0815 09:18:14.087311 4641814016 test_util.py:2458] time(__main__.ModelBuilderTF2Test.test_invalid_first_stage_nms_iou_threshold): 0.0s\n",
      "[       OK ] ModelBuilderTF2Test.test_invalid_first_stage_nms_iou_threshold\n",
      "[ RUN      ] ModelBuilderTF2Test.test_invalid_model_config_proto\n",
      "INFO:tensorflow:time(__main__.ModelBuilderTF2Test.test_invalid_model_config_proto): 0.0s\n",
      "I0815 09:18:14.087887 4641814016 test_util.py:2458] time(__main__.ModelBuilderTF2Test.test_invalid_model_config_proto): 0.0s\n",
      "[       OK ] ModelBuilderTF2Test.test_invalid_model_config_proto\n",
      "[ RUN      ] ModelBuilderTF2Test.test_invalid_second_stage_batch_size\n",
      "INFO:tensorflow:time(__main__.ModelBuilderTF2Test.test_invalid_second_stage_batch_size): 0.0s\n",
      "I0815 09:18:14.089413 4641814016 test_util.py:2458] time(__main__.ModelBuilderTF2Test.test_invalid_second_stage_batch_size): 0.0s\n",
      "[       OK ] ModelBuilderTF2Test.test_invalid_second_stage_batch_size\n",
      "[ RUN      ] ModelBuilderTF2Test.test_session\n",
      "[  SKIPPED ] ModelBuilderTF2Test.test_session\n",
      "[ RUN      ] ModelBuilderTF2Test.test_unknown_faster_rcnn_feature_extractor\n",
      "INFO:tensorflow:time(__main__.ModelBuilderTF2Test.test_unknown_faster_rcnn_feature_extractor): 0.0s\n",
      "I0815 09:18:14.090764 4641814016 test_util.py:2458] time(__main__.ModelBuilderTF2Test.test_unknown_faster_rcnn_feature_extractor): 0.0s\n",
      "[       OK ] ModelBuilderTF2Test.test_unknown_faster_rcnn_feature_extractor\n",
      "[ RUN      ] ModelBuilderTF2Test.test_unknown_meta_architecture\n",
      "INFO:tensorflow:time(__main__.ModelBuilderTF2Test.test_unknown_meta_architecture): 0.0s\n",
      "I0815 09:18:14.091098 4641814016 test_util.py:2458] time(__main__.ModelBuilderTF2Test.test_unknown_meta_architecture): 0.0s\n",
      "[       OK ] ModelBuilderTF2Test.test_unknown_meta_architecture\n",
      "[ RUN      ] ModelBuilderTF2Test.test_unknown_ssd_feature_extractor\n",
      "INFO:tensorflow:time(__main__.ModelBuilderTF2Test.test_unknown_ssd_feature_extractor): 0.0s\n",
      "I0815 09:18:14.092065 4641814016 test_util.py:2458] time(__main__.ModelBuilderTF2Test.test_unknown_ssd_feature_extractor): 0.0s\n",
      "[       OK ] ModelBuilderTF2Test.test_unknown_ssd_feature_extractor\n",
      "----------------------------------------------------------------------\n",
      "Ran 24 tests in 32.623s\n",
      "\n",
      "OK (skipped=1)\n"
     ]
    }
   ],
   "source": [
    "# Move to 'research' directory\n",
    "os.chdir(paths['research'])\n",
    "import object_detection\n",
    "\n",
    "# Local machine\n",
    "if system_id == 0:\n",
    "    !python {paths['research']+'/object_detection/builders/model_builder_tf2_test.py'}\n",
    "    \n",
    "\n",
    "# Google colab    \n",
    "elif system_id == 1:\n",
    "    !pip install numpy --upgrade # This had to be added for execution on colab. Problem solved using stackoverflow\n",
    "\n",
    "    !python {paths['research']+'/object_detection/builders/model_builder_tf2_test.py'}\n",
    "else:\n",
    "    print('No operating system was defined...')\n",
    "\n",
    "# Move back to home directory\n",
    "os.chdir(paths['home'])"
   ]
  },
  {
   "cell_type": "markdown",
   "id": "0006de28",
   "metadata": {
    "id": "0006de28"
   },
   "source": [
    "# 4. Prepare new training job"
   ]
  },
  {
   "cell_type": "markdown",
   "id": "e441180b",
   "metadata": {
    "id": "e441180b"
   },
   "source": [
    "## 4.1 Install dependencies and import modules (only on Colab)"
   ]
  },
  {
   "cell_type": "code",
   "execution_count": 14,
   "id": "57a4556e",
   "metadata": {
    "colab": {
     "base_uri": "https://localhost:8080/"
    },
    "id": "57a4556e",
    "outputId": "da9eb563-7db9-418e-f2f2-6a91cca5180b"
   },
   "outputs": [
    {
     "name": "stdout",
     "output_type": "stream",
     "text": [
      "Skipping step\n"
     ]
    }
   ],
   "source": [
    "# Local machine\n",
    "if system_id == 0:\n",
    "    print('Skipping step')\n",
    "\n",
    "# Google colab    \n",
    "elif system_id == 1:\n",
    "  \n",
    "  ## Install missing modules for randomTrafficSign\n",
    "  !pip install matplotlib\n",
    "  !pip install lxml\n",
    "\n",
    "  import numpy as np\n",
    "  from xml.etree.ElementTree import ElementTree\n",
    "  from xml.etree.ElementTree import Element\n",
    "  import xml.etree.ElementTree as etree\n",
    "  import xml.dom.minidom\n",
    "\n",
    "  from lxml import etree\n",
    "  os.chdir(paths['home'])\n",
    "\n",
    "else:\n",
    "    print('No operating system was defined...')"
   ]
  },
  {
   "cell_type": "markdown",
   "id": "XxrqC-lQ7IXF",
   "metadata": {
    "id": "XxrqC-lQ7IXF"
   },
   "source": [
    "## 4.2 Partition images for testing and training (only on Colab)"
   ]
  },
  {
   "cell_type": "markdown",
   "id": "KYPtSyTxziNo",
   "metadata": {
    "id": "KYPtSyTxziNo"
   },
   "source": [
    "**Important**: Images of objects must be in the following format: \"Mug_1.jpg\", \"Cat_3.jpg\" and must be located in their respective folders"
   ]
  },
  {
   "cell_type": "code",
   "execution_count": 15,
   "id": "KqMKGZRBYKfR",
   "metadata": {
    "colab": {
     "base_uri": "https://localhost:8080/"
    },
    "id": "KqMKGZRBYKfR",
    "outputId": "433ce14a-67df-4d49-e66a-6de70c95bdd8"
   },
   "outputs": [
    {
     "name": "stdout",
     "output_type": "stream",
     "text": [
      "Skipping step\n"
     ]
    }
   ],
   "source": [
    "if system_id == 0:\n",
    "    print('Skipping step')\n",
    "\n",
    "# Google colab    \n",
    "elif system_id == 1:\n",
    "    !pip install -U albumentations --no-binary qudida,albumentations"
   ]
  },
  {
   "cell_type": "code",
   "execution_count": 16,
   "id": "sapVybbT3jYk",
   "metadata": {
    "colab": {
     "base_uri": "https://localhost:8080/"
    },
    "id": "sapVybbT3jYk",
    "outputId": "7892db7f-d6d3-47f2-8160-facde352a266"
   },
   "outputs": [
    {
     "name": "stdout",
     "output_type": "stream",
     "text": [
      "Skipping step\n"
     ]
    }
   ],
   "source": [
    "if system_id == 0:\n",
    "    print('Skipping step')\n",
    "\n",
    "# Google colab    \n",
    "elif system_id == 1:\n",
    "\n",
    "    # imagePreprocessing.py must be in same directory as this main script\n",
    "    %matplotlib inline\n",
    "    path = paths['0_User_Input']+'/scripts'\n",
    "    os.chdir(path)\n",
    "    import imageProcessing as imgprep\n",
    "    os.chdir(paths['home'])\n",
    "\n",
    "    imgprep.clearPreprocessing(paths['images'])\n",
    "    imgprep.clearTraining(paths['training']+'/images')\n",
    "\n",
    "    numImgs = 150\n",
    "    upperScale = 150\n",
    "    lowerScale = 80\n",
    "\n",
    "    # Modify and multiply images and store in 1_Preprocessing folder\n",
    "    imgprep.main(dict_labels, paths['backgrounds'], paths['objects'], numImgs, upperScale, lowerScale, paths['images']+'/', paths['training']+'/')\n",
    "\n",
    "    imgprep.clearPreprocessing(paths['images'])"
   ]
  },
  {
   "cell_type": "markdown",
   "id": "11a93934",
   "metadata": {
    "id": "11a93934"
   },
   "source": [
    "## 5.4 Create labelmap (only on Colab)"
   ]
  },
  {
   "cell_type": "code",
   "execution_count": 17,
   "id": "c6e44434",
   "metadata": {
    "colab": {
     "base_uri": "https://localhost:8080/"
    },
    "id": "c6e44434",
    "outputId": "36819b83-f3a5-48a4-af04-e9af7dfd38da"
   },
   "outputs": [
    {
     "name": "stdout",
     "output_type": "stream",
     "text": [
      "Skipping step\n"
     ]
    }
   ],
   "source": [
    "# Local machine\n",
    "if system_id == 0:\n",
    "    print('Skipping step')\n",
    "\n",
    "# Google colab    \n",
    "elif system_id == 1:\n",
    "\n",
    "    # Convert label-dict to needed format\n",
    "    labelmap = []\n",
    "    for key in dict_labels:\n",
    "      temp = {}\n",
    "      temp['name'] = key\n",
    "      temp['id'] = dict_labels[key]\n",
    "      labelmap.append(temp)\n",
    "    print(labelmap)\n",
    "\n",
    "    files['labelmap'] = paths['annotations']+'/label_map.pbtxt'\n",
    "\n",
    "    with open(files['labelmap'], 'w') as file:\n",
    "      for label in labelmap:\n",
    "          file.write('item { \\n')\n",
    "          file.write('\\tname:\\'{}\\'\\n'.format(label['name']))\n",
    "          file.write('\\tid:{}\\n'.format(label['id']))\n",
    "          file.write('}\\n')\n",
    "        \n",
    "else:\n",
    "    print('No operating system was defined...')"
   ]
  },
  {
   "cell_type": "code",
   "execution_count": 18,
   "id": "42670147",
   "metadata": {
    "colab": {
     "base_uri": "https://localhost:8080/"
    },
    "id": "42670147",
    "outputId": "a33a2d30-e496-40a7-ae26-23ac2eaa3365"
   },
   "outputs": [
    {
     "name": "stdout",
     "output_type": "stream",
     "text": [
      "Requirement already satisfied: pandas in /Users/niklas/Virtual_Environment/Version_5/joshBakNew/lib/python3.9/site-packages (1.4.3)\r\n",
      "Requirement already satisfied: python-dateutil>=2.8.1 in /Users/niklas/Virtual_Environment/Version_5/joshBakNew/lib/python3.9/site-packages (from pandas) (2.8.2)\r\n",
      "Requirement already satisfied: pytz>=2020.1 in /Users/niklas/Virtual_Environment/Version_5/joshBakNew/lib/python3.9/site-packages (from pandas) (2022.1)\r\n",
      "Requirement already satisfied: numpy>=1.18.5 in /Users/niklas/Virtual_Environment/Version_5/joshBakNew/lib/python3.9/site-packages (from pandas) (1.22.4)\r\n",
      "Requirement already satisfied: six>=1.5 in /Users/niklas/Virtual_Environment/Version_5/joshBakNew/lib/python3.9/site-packages (from python-dateutil>=2.8.1->pandas) (1.15.0)\r\n"
     ]
    }
   ],
   "source": [
    "# Install pandas\n",
    "!pip install pandas"
   ]
  },
  {
   "cell_type": "markdown",
   "id": "edbe07d6",
   "metadata": {
    "id": "edbe07d6"
   },
   "source": [
    "## 5.5 Create TFRecord (only on colab)"
   ]
  },
  {
   "cell_type": "code",
   "execution_count": 19,
   "id": "3668f3c2",
   "metadata": {
    "colab": {
     "base_uri": "https://localhost:8080/"
    },
    "id": "3668f3c2",
    "outputId": "f254afdd-87c1-45ae-8c7a-7ef2dfd57247"
   },
   "outputs": [
    {
     "name": "stdout",
     "output_type": "stream",
     "text": [
      "Skipping step\n"
     ]
    }
   ],
   "source": [
    "# Local machine\n",
    "if system_id == 0:\n",
    "    print('Skipping step')\n",
    "\n",
    "# Google colab    \n",
    "elif system_id == 1:\n",
    "\n",
    "  # Add labelmap and tfrecords to 'files' dictionary\n",
    "  files['tf_train'] = paths['annotations']+'/train.record'\n",
    "  files['tf_test'] = paths['annotations']+'/test.record'\n",
    "\n",
    "  # Add line to download TF record file from nicknochnack\n",
    "\n",
    "  # Copy generatetfrecord.py to scripts\n",
    "  source = paths['0_User_Input']+'/scripts/generatetfrecord.py'\n",
    "  shutil.copy(source, paths['scripts'])\n",
    "\n",
    "  # Change directory to 'scripts'\n",
    "  os.chdir(paths['workspace']+'/scripts')\n",
    "\n",
    "  # Create / overwrite TFRecord files for training and testing\n",
    "\n",
    "  # Create train data:\n",
    "  !python generatetfrecord.py -x {paths['images_training']} -l {files['labelmap']} -o {files['tf_train']}\n",
    "\n",
    "  # Create test data:\n",
    "  !python generatetfrecord.py -x {paths['images_testing']} -l {files['labelmap']} -o {files['tf_test']}\n",
    "\n",
    "  # Go back to home directory\n",
    "  os.chdir(paths['home'])\n",
    "\n",
    " \n",
    "else:\n",
    "    print('No operating system was defined...')"
   ]
  },
  {
   "cell_type": "markdown",
   "id": "3b339fe9",
   "metadata": {
    "id": "3b339fe9"
   },
   "source": [
    "## 5.6 Download pre-trained model (only on colab)\n",
    "\n"
   ]
  },
  {
   "cell_type": "code",
   "execution_count": 20,
   "id": "44cd98fc",
   "metadata": {
    "colab": {
     "base_uri": "https://localhost:8080/"
    },
    "id": "44cd98fc",
    "outputId": "d6d5bc01-0a21-48de-ca18-ffedd1725471"
   },
   "outputs": [
    {
     "name": "stdout",
     "output_type": "stream",
     "text": [
      "Skipping step\n"
     ]
    }
   ],
   "source": [
    "# Local machine\n",
    "if system_id == 0:\n",
    "    print('Skipping step')\n",
    "\n",
    "# Google colab    \n",
    "elif system_id == 1:\n",
    "\n",
    "  # Update the settings for the image import and multiplication script depending on which size of image the model uses!\n",
    "\n",
    "  # Check if the chosen model has already been downloaded\n",
    "  if os.path.exists(paths['pre_trained_models']+'/'+str(pre_trained_model_name)) is False:\n",
    "\n",
    "      # Go to destination directory\n",
    "      os.chdir(paths['pre_trained_models'])\n",
    "      wget.download(pre_trained_model_url)\n",
    "\n",
    "      # Extract all content of downloaded file\n",
    "      import tarfile\n",
    "\n",
    "      file = tarfile.open('ssd_mobilenet_v2_fpnlite_640x640_coco17_tpu-8.tar.gz')\n",
    "\n",
    "      file.extractall(paths['pre_trained_models'])\n",
    "\n",
    "      file.close()\n",
    "                    \n",
    "      # Delete downloaded tar.gz file to save storage space\n",
    "      # Add code here\n",
    "      #\n",
    "      #\n",
    "      \n",
    "      # Create new folder for this model in training/models\n",
    "      paths['active_model'] = paths['models']+'/'+custom_model_name\n",
    "      os.makedirs(paths['active_model'])\n",
    "      \n",
    "      print('Model was successfully downloaded...')\n",
    "\n",
    "\n",
    "  else:\n",
    "    print(str(pre_trained_model_name)+' was already installed...')\n",
    "    \n",
    "    os.chdir(paths['home'])\n",
    "\n",
    "else:\n",
    "    print('No operating system was defined...')"
   ]
  },
  {
   "cell_type": "markdown",
   "id": "5d9d8741",
   "metadata": {
    "id": "5d9d8741"
   },
   "source": [
    "## 5.7 Update the config file and pipeline for the new training job"
   ]
  },
  {
   "cell_type": "code",
   "execution_count": 21,
   "id": "ae3f7e2a",
   "metadata": {
    "id": "ae3f7e2a"
   },
   "outputs": [
    {
     "ename": "AttributeError",
     "evalue": "module 'tensorflow.python.util.dispatch' has no attribute 'add_fallback_dispatch_list'",
     "output_type": "error",
     "traceback": [
      "\u001b[0;31m---------------------------------------------------------------------------\u001b[0m",
      "\u001b[0;31mAttributeError\u001b[0m                            Traceback (most recent call last)",
      "Input \u001b[0;32mIn [21]\u001b[0m, in \u001b[0;36m<cell line: 2>\u001b[0;34m()\u001b[0m\n\u001b[1;32m      1\u001b[0m \u001b[38;5;28;01mimport\u001b[39;00m \u001b[38;5;21;01mtensorflow\u001b[39;00m \u001b[38;5;28;01mas\u001b[39;00m \u001b[38;5;21;01mtf\u001b[39;00m\n\u001b[0;32m----> 2\u001b[0m \u001b[38;5;28;01mfrom\u001b[39;00m \u001b[38;5;21;01mobject_detection\u001b[39;00m\u001b[38;5;21;01m.\u001b[39;00m\u001b[38;5;21;01mutils\u001b[39;00m \u001b[38;5;28;01mimport\u001b[39;00m config_util\n\u001b[1;32m      3\u001b[0m \u001b[38;5;28;01mfrom\u001b[39;00m \u001b[38;5;21;01mobject_detection\u001b[39;00m\u001b[38;5;21;01m.\u001b[39;00m\u001b[38;5;21;01mprotos\u001b[39;00m \u001b[38;5;28;01mimport\u001b[39;00m pipeline_pb2\n\u001b[1;32m      4\u001b[0m \u001b[38;5;28;01mfrom\u001b[39;00m \u001b[38;5;21;01mgoogle\u001b[39;00m\u001b[38;5;21;01m.\u001b[39;00m\u001b[38;5;21;01mprotobuf\u001b[39;00m \u001b[38;5;28;01mimport\u001b[39;00m text_format\n",
      "File \u001b[0;32m~/Virtual_Environment/Version_5/projectAutonomous/2_Tensorflow/models/research/object_detection/utils/config_util.py:24\u001b[0m, in \u001b[0;36m<module>\u001b[0;34m\u001b[0m\n\u001b[1;32m     21\u001b[0m \u001b[38;5;28;01mimport\u001b[39;00m \u001b[38;5;21;01mos\u001b[39;00m\n\u001b[1;32m     23\u001b[0m \u001b[38;5;28;01mfrom\u001b[39;00m \u001b[38;5;21;01mgoogle\u001b[39;00m\u001b[38;5;21;01m.\u001b[39;00m\u001b[38;5;21;01mprotobuf\u001b[39;00m \u001b[38;5;28;01mimport\u001b[39;00m text_format\n\u001b[0;32m---> 24\u001b[0m \u001b[38;5;28;01mimport\u001b[39;00m \u001b[38;5;21;01mtensorflow\u001b[39;00m\u001b[38;5;21;01m.\u001b[39;00m\u001b[38;5;21;01mcompat\u001b[39;00m\u001b[38;5;21;01m.\u001b[39;00m\u001b[38;5;21;01mv1\u001b[39;00m \u001b[38;5;28;01mas\u001b[39;00m \u001b[38;5;21;01mtf\u001b[39;00m\n\u001b[1;32m     26\u001b[0m \u001b[38;5;28;01mfrom\u001b[39;00m \u001b[38;5;21;01mtensorflow\u001b[39;00m\u001b[38;5;21;01m.\u001b[39;00m\u001b[38;5;21;01mpython\u001b[39;00m\u001b[38;5;21;01m.\u001b[39;00m\u001b[38;5;21;01mlib\u001b[39;00m\u001b[38;5;21;01m.\u001b[39;00m\u001b[38;5;21;01mio\u001b[39;00m \u001b[38;5;28;01mimport\u001b[39;00m file_io\n\u001b[1;32m     28\u001b[0m \u001b[38;5;28;01mfrom\u001b[39;00m \u001b[38;5;21;01mobject_detection\u001b[39;00m\u001b[38;5;21;01m.\u001b[39;00m\u001b[38;5;21;01mprotos\u001b[39;00m \u001b[38;5;28;01mimport\u001b[39;00m eval_pb2\n",
      "File \u001b[0;32m~/Virtual_Environment/Version_5/joshBakNew/lib/python3.9/site-packages/tensorflow/_api/v2/compat/__init__.py:37\u001b[0m, in \u001b[0;36m<module>\u001b[0;34m\u001b[0m\n\u001b[1;32m      3\u001b[0m \u001b[38;5;124;03m\"\"\"Compatibility functions.\u001b[39;00m\n\u001b[1;32m      4\u001b[0m \n\u001b[1;32m      5\u001b[0m \u001b[38;5;124;03mThe `tf.compat` module contains two sets of compatibility functions.\u001b[39;00m\n\u001b[0;32m   (...)\u001b[0m\n\u001b[1;32m     32\u001b[0m \n\u001b[1;32m     33\u001b[0m \u001b[38;5;124;03m\"\"\"\u001b[39;00m\n\u001b[1;32m     35\u001b[0m \u001b[38;5;28;01mimport\u001b[39;00m \u001b[38;5;21;01msys\u001b[39;00m \u001b[38;5;28;01mas\u001b[39;00m \u001b[38;5;21;01m_sys\u001b[39;00m\n\u001b[0;32m---> 37\u001b[0m \u001b[38;5;28;01mfrom\u001b[39;00m \u001b[38;5;21;01m.\u001b[39;00m \u001b[38;5;28;01mimport\u001b[39;00m v1\n\u001b[1;32m     38\u001b[0m \u001b[38;5;28;01mfrom\u001b[39;00m \u001b[38;5;21;01m.\u001b[39;00m \u001b[38;5;28;01mimport\u001b[39;00m v2\n\u001b[1;32m     39\u001b[0m \u001b[38;5;28;01mfrom\u001b[39;00m \u001b[38;5;21;01mtensorflow\u001b[39;00m\u001b[38;5;21;01m.\u001b[39;00m\u001b[38;5;21;01mpython\u001b[39;00m\u001b[38;5;21;01m.\u001b[39;00m\u001b[38;5;21;01mcompat\u001b[39;00m\u001b[38;5;21;01m.\u001b[39;00m\u001b[38;5;21;01mcompat\u001b[39;00m \u001b[38;5;28;01mimport\u001b[39;00m forward_compatibility_horizon\n",
      "File \u001b[0;32m~/Virtual_Environment/Version_5/joshBakNew/lib/python3.9/site-packages/tensorflow/_api/v2/compat/v1/__init__.py:30\u001b[0m, in \u001b[0;36m<module>\u001b[0;34m\u001b[0m\n\u001b[1;32m     28\u001b[0m \u001b[38;5;28;01mfrom\u001b[39;00m \u001b[38;5;21;01m.\u001b[39;00m \u001b[38;5;28;01mimport\u001b[39;00m autograph\n\u001b[1;32m     29\u001b[0m \u001b[38;5;28;01mfrom\u001b[39;00m \u001b[38;5;21;01m.\u001b[39;00m \u001b[38;5;28;01mimport\u001b[39;00m bitwise\n\u001b[0;32m---> 30\u001b[0m \u001b[38;5;28;01mfrom\u001b[39;00m \u001b[38;5;21;01m.\u001b[39;00m \u001b[38;5;28;01mimport\u001b[39;00m compat\n\u001b[1;32m     31\u001b[0m \u001b[38;5;28;01mfrom\u001b[39;00m \u001b[38;5;21;01m.\u001b[39;00m \u001b[38;5;28;01mimport\u001b[39;00m config\n\u001b[1;32m     32\u001b[0m \u001b[38;5;28;01mfrom\u001b[39;00m \u001b[38;5;21;01m.\u001b[39;00m \u001b[38;5;28;01mimport\u001b[39;00m data\n",
      "File \u001b[0;32m~/Virtual_Environment/Version_5/joshBakNew/lib/python3.9/site-packages/tensorflow/_api/v2/compat/v1/compat/__init__.py:37\u001b[0m, in \u001b[0;36m<module>\u001b[0;34m\u001b[0m\n\u001b[1;32m      3\u001b[0m \u001b[38;5;124;03m\"\"\"Compatibility functions.\u001b[39;00m\n\u001b[1;32m      4\u001b[0m \n\u001b[1;32m      5\u001b[0m \u001b[38;5;124;03mThe `tf.compat` module contains two sets of compatibility functions.\u001b[39;00m\n\u001b[0;32m   (...)\u001b[0m\n\u001b[1;32m     32\u001b[0m \n\u001b[1;32m     33\u001b[0m \u001b[38;5;124;03m\"\"\"\u001b[39;00m\n\u001b[1;32m     35\u001b[0m \u001b[38;5;28;01mimport\u001b[39;00m \u001b[38;5;21;01msys\u001b[39;00m \u001b[38;5;28;01mas\u001b[39;00m \u001b[38;5;21;01m_sys\u001b[39;00m\n\u001b[0;32m---> 37\u001b[0m \u001b[38;5;28;01mfrom\u001b[39;00m \u001b[38;5;21;01m.\u001b[39;00m \u001b[38;5;28;01mimport\u001b[39;00m v1\n\u001b[1;32m     38\u001b[0m \u001b[38;5;28;01mfrom\u001b[39;00m \u001b[38;5;21;01m.\u001b[39;00m \u001b[38;5;28;01mimport\u001b[39;00m v2\n\u001b[1;32m     39\u001b[0m \u001b[38;5;28;01mfrom\u001b[39;00m \u001b[38;5;21;01mtensorflow\u001b[39;00m\u001b[38;5;21;01m.\u001b[39;00m\u001b[38;5;21;01mpython\u001b[39;00m\u001b[38;5;21;01m.\u001b[39;00m\u001b[38;5;21;01mcompat\u001b[39;00m\u001b[38;5;21;01m.\u001b[39;00m\u001b[38;5;21;01mcompat\u001b[39;00m \u001b[38;5;28;01mimport\u001b[39;00m forward_compatibility_horizon\n",
      "File \u001b[0;32m~/Virtual_Environment/Version_5/joshBakNew/lib/python3.9/site-packages/tensorflow/_api/v2/compat/v1/compat/v1/__init__.py:430\u001b[0m, in \u001b[0;36m<module>\u001b[0;34m\u001b[0m\n\u001b[1;32m    428\u001b[0m \u001b[38;5;28;01mfrom\u001b[39;00m \u001b[38;5;21;01mtensorflow\u001b[39;00m\u001b[38;5;21;01m.\u001b[39;00m\u001b[38;5;21;01mpython\u001b[39;00m\u001b[38;5;21;01m.\u001b[39;00m\u001b[38;5;21;01mops\u001b[39;00m\u001b[38;5;21;01m.\u001b[39;00m\u001b[38;5;21;01mgen_parsing_ops\u001b[39;00m \u001b[38;5;28;01mimport\u001b[39;00m decode_compressed\n\u001b[1;32m    429\u001b[0m \u001b[38;5;28;01mfrom\u001b[39;00m \u001b[38;5;21;01mtensorflow\u001b[39;00m\u001b[38;5;21;01m.\u001b[39;00m\u001b[38;5;21;01mpython\u001b[39;00m\u001b[38;5;21;01m.\u001b[39;00m\u001b[38;5;21;01mops\u001b[39;00m\u001b[38;5;21;01m.\u001b[39;00m\u001b[38;5;21;01mgen_parsing_ops\u001b[39;00m \u001b[38;5;28;01mimport\u001b[39;00m parse_tensor\n\u001b[0;32m--> 430\u001b[0m \u001b[38;5;28;01mfrom\u001b[39;00m \u001b[38;5;21;01mtensorflow\u001b[39;00m\u001b[38;5;21;01m.\u001b[39;00m\u001b[38;5;21;01mpython\u001b[39;00m\u001b[38;5;21;01m.\u001b[39;00m\u001b[38;5;21;01mops\u001b[39;00m\u001b[38;5;21;01m.\u001b[39;00m\u001b[38;5;21;01mgen_random_index_shuffle_ops\u001b[39;00m \u001b[38;5;28;01mimport\u001b[39;00m random_index_shuffle\n\u001b[1;32m    431\u001b[0m \u001b[38;5;28;01mfrom\u001b[39;00m \u001b[38;5;21;01mtensorflow\u001b[39;00m\u001b[38;5;21;01m.\u001b[39;00m\u001b[38;5;21;01mpython\u001b[39;00m\u001b[38;5;21;01m.\u001b[39;00m\u001b[38;5;21;01mops\u001b[39;00m\u001b[38;5;21;01m.\u001b[39;00m\u001b[38;5;21;01mgen_spectral_ops\u001b[39;00m \u001b[38;5;28;01mimport\u001b[39;00m fft\n\u001b[1;32m    432\u001b[0m \u001b[38;5;28;01mfrom\u001b[39;00m \u001b[38;5;21;01mtensorflow\u001b[39;00m\u001b[38;5;21;01m.\u001b[39;00m\u001b[38;5;21;01mpython\u001b[39;00m\u001b[38;5;21;01m.\u001b[39;00m\u001b[38;5;21;01mops\u001b[39;00m\u001b[38;5;21;01m.\u001b[39;00m\u001b[38;5;21;01mgen_spectral_ops\u001b[39;00m \u001b[38;5;28;01mimport\u001b[39;00m fft2d\n",
      "File \u001b[0;32m~/Virtual_Environment/Version_5/joshBakNew/lib/python3.9/site-packages/tensorflow/python/ops/gen_random_index_shuffle_ops.py:24\u001b[0m, in \u001b[0;36m<module>\u001b[0;34m\u001b[0m\n\u001b[1;32m     20\u001b[0m \u001b[38;5;28;01mfrom\u001b[39;00m \u001b[38;5;21;01mtensorflow\u001b[39;00m\u001b[38;5;21;01m.\u001b[39;00m\u001b[38;5;21;01mpython\u001b[39;00m\u001b[38;5;21;01m.\u001b[39;00m\u001b[38;5;21;01mutil\u001b[39;00m\u001b[38;5;21;01m.\u001b[39;00m\u001b[38;5;21;01mtf_export\u001b[39;00m \u001b[38;5;28;01mimport\u001b[39;00m tf_export\n\u001b[1;32m     22\u001b[0m \u001b[38;5;28;01mfrom\u001b[39;00m \u001b[38;5;21;01mtyping\u001b[39;00m \u001b[38;5;28;01mimport\u001b[39;00m TypeVar\n\u001b[0;32m---> 24\u001b[0m \u001b[38;5;129m@_dispatch\u001b[39m\u001b[38;5;241;43m.\u001b[39;49m\u001b[43madd_fallback_dispatch_list\u001b[49m\n\u001b[1;32m     25\u001b[0m \u001b[38;5;129m@_dispatch\u001b[39m\u001b[38;5;241m.\u001b[39madd_type_based_api_dispatcher\n\u001b[1;32m     26\u001b[0m \u001b[38;5;129m@tf_export\u001b[39m(\u001b[38;5;124m'\u001b[39m\u001b[38;5;124mrandom_index_shuffle\u001b[39m\u001b[38;5;124m'\u001b[39m)\n\u001b[1;32m     27\u001b[0m \u001b[38;5;28;01mdef\u001b[39;00m \u001b[38;5;21mrandom_index_shuffle\u001b[39m(index, seed, max_index, name\u001b[38;5;241m=\u001b[39m\u001b[38;5;28;01mNone\u001b[39;00m):\n\u001b[1;32m     28\u001b[0m   \u001b[38;5;124mr\u001b[39m\u001b[38;5;124;03m\"\"\"Outputs the position of `value` in a permutation of [0, ..., max_index].\u001b[39;00m\n\u001b[1;32m     29\u001b[0m \n\u001b[1;32m     30\u001b[0m \u001b[38;5;124;03m  Output values are a bijection of the `index` for any combination and `seed` and `max_index`.\u001b[39;00m\n\u001b[0;32m   (...)\u001b[0m\n\u001b[1;32m     47\u001b[0m \u001b[38;5;124;03m    A `Tensor`. Has the same type as `index`.\u001b[39;00m\n\u001b[1;32m     48\u001b[0m \u001b[38;5;124;03m  \"\"\"\u001b[39;00m\n\u001b[1;32m     49\u001b[0m   _ctx \u001b[38;5;241m=\u001b[39m _context\u001b[38;5;241m.\u001b[39m_context \u001b[38;5;129;01mor\u001b[39;00m _context\u001b[38;5;241m.\u001b[39mcontext()\n",
      "\u001b[0;31mAttributeError\u001b[0m: module 'tensorflow.python.util.dispatch' has no attribute 'add_fallback_dispatch_list'"
     ]
    }
   ],
   "source": [
    "import tensorflow as tf\n",
    "from object_detection.utils import config_util\n",
    "from object_detection.protos import pipeline_pb2\n",
    "from google.protobuf import text_format"
   ]
  },
  {
   "cell_type": "code",
   "execution_count": null,
   "id": "256fe75d",
   "metadata": {
    "colab": {
     "base_uri": "https://localhost:8080/"
    },
    "id": "256fe75d",
    "outputId": "ddaad63d-b87e-4dbe-f480-49a3a7a2eada"
   },
   "outputs": [],
   "source": [
    "# Local machine\n",
    "if system_id == 0:\n",
    "    print('Skipping step')\n",
    "\n",
    "# Google colab    \n",
    "elif system_id == 1:\n",
    "\n",
    "  ## Copy or replace pipeline in active model directory\n",
    "  files['pipeline_downloaded'] = paths['pre_trained_models']+'/'+pre_trained_model_name+'/pipeline.config'\n",
    "  paths['active_model'] = paths['models']+'/'+custom_model_name\n",
    "  files['pipeline_active'] = paths['active_model']+'/pipeline.config'\n",
    "  paths['downloaded_model'] = paths['pre_trained_models']+'/'+pre_trained_model_name\n",
    "\n",
    "  # If pipeline already exists in active directory, replace it\n",
    "  if os.path.exists(files['pipeline_active']) == True:\n",
    "      os.remove(files['pipeline_active'])\n",
    "      shutil.copy(files['pipeline_downloaded'], paths['active_model'])\n",
    "      print('Pipeline replaced in active model directory...')\n",
    "\n",
    "  # If pipeline does not yet exist in active directory, copy it from downloaded model\n",
    "  else:\n",
    "      files['pipeline_downloaded'] = paths['pre_trained_models']+'/'+pre_trained_model_name+'/pipeline.config' \n",
    "      shutil.copy(files['pipeline_downloaded'], paths['active_model'])\n",
    "      print('Pipeline copied to active model directory...')\n",
    "\n",
    "  ## Configure pipeline\n",
    "\n",
    "  config = config_util.get_configs_from_pipeline_file(files['pipeline_active'])\n",
    "  pipeline_config = pipeline_pb2.TrainEvalPipelineConfig()\n",
    "  with tf.io.gfile.GFile(files['pipeline_active'], \"r\") as f:                                                                                                                                                                                                                     \n",
    "      proto_str = f.read()                                                                                                                                                                                                                                          \n",
    "      text_format.Merge(proto_str, pipeline_config)  \n",
    "\n",
    "\n",
    "  pipeline_config.model.ssd.num_classes = len(labels) # Number of labels the model should be trained for\n",
    "  pipeline_config.train_config.batch_size = 4 # This should be the number of training jobs that run parallel\n",
    "\n",
    "  # Get checkpoint 0 from (original) downloaded model \n",
    "  files['checkpoint0'] = paths['downloaded_model']+'/checkpoint/ckpt-0'\n",
    "\n",
    "  pipeline_config.train_config.fine_tune_checkpoint = files['checkpoint0']\n",
    "\n",
    "  pipeline_config.train_config.fine_tune_checkpoint_type = \"detection\"\n",
    "\n",
    "  # Get labelmap\n",
    "  pipeline_config.train_input_reader.label_map_path= files['labelmap']\n",
    "\n",
    "  # Get TF-Record\n",
    "  pipeline_config.train_input_reader.tf_record_input_reader.input_path[:] = [files['tf_train']]\n",
    "  pipeline_config.eval_input_reader[0].label_map_path = files['labelmap']\n",
    "  pipeline_config.eval_input_reader[0].tf_record_input_reader.input_path[:] = [files['tf_test']]\n",
    "\n",
    "  config_text = text_format.MessageToString(pipeline_config)\n",
    "\n",
    "  # Update active pipeline\n",
    "  with tf.io.gfile.GFile(files['pipeline_active'], \"wb\") as f:                                                                                                                                                                                                                     \n",
    "      f.write(config_text)   \n",
    "      \n",
    "  print('Pipeline successfully configured...')  \n",
    "\n",
    "  # Copy model_main_tf2.py to workspace -> training   'TensorFlow/models/research/' file to \n",
    "  source = paths['research']+'/object_detection/model_main_tf2.py'\n",
    "  destination = paths['training']\n",
    "  shutil.copy(source, destination)\n",
    "\n",
    "else:\n",
    "    print('No operating system was defined...')\n"
   ]
  },
  {
   "cell_type": "markdown",
   "id": "b08eb2c1",
   "metadata": {
    "id": "b08eb2c1"
   },
   "source": [
    "# 6. Start new training job (only on colab)"
   ]
  },
  {
   "cell_type": "code",
   "execution_count": null,
   "id": "054d6094",
   "metadata": {
    "colab": {
     "base_uri": "https://localhost:8080/"
    },
    "id": "054d6094",
    "outputId": "e6bec8fd-8040-4f8e-9699-18c4d91c4e47"
   },
   "outputs": [],
   "source": [
    "# Local machine\n",
    "if system_id == 0:\n",
    "    print('Skipping step')\n",
    "\n",
    "# Google colab    \n",
    "elif system_id == 1:\n",
    "  \n",
    "  files['training_script'] = paths['training']+'/model_main_tf2.py'\n",
    "  model_dir = paths['active_model']\n",
    "  \n",
    "  command = \"python {} --model_dir={} --pipeline_config_path={} --num_train_steps=10000\".format(files['training_script'], model_dir, files['pipeline_active'])\n",
    "  # first argument: Path to the model_main_tf2.py file\n",
    "  # second argument: Path to the diretory in which the pipeline.config file is placed (not the path to the file itself)\n",
    "  # third argument: Path to actual pipeline.config in active directory\n",
    "\n",
    "  # This command is necessary to fix issue with training on colab\n",
    "  # source: https://stackoverflow.com/questions/70998639/dnn-library-is-not-found-ssd-mobile-net-v2-in-colab#answer-72404540\n",
    "  !apt install --allow-change-held-packages libcudnn8=8.1.0.77-1+cuda11.2\n",
    "\n",
    "  !{command}\n",
    "\n",
    "else:\n",
    "  print('No operating system was defined...')"
   ]
  },
  {
   "cell_type": "markdown",
   "id": "9AuGfWolM0nF",
   "metadata": {
    "id": "9AuGfWolM0nF"
   },
   "source": [
    "# 7 Evaluate training (both)"
   ]
  },
  {
   "cell_type": "code",
   "execution_count": 25,
   "id": "BECyzsFhM4P-",
   "metadata": {
    "colab": {
     "base_uri": "https://localhost:8080/"
    },
    "id": "BECyzsFhM4P-",
    "outputId": "f3ea5633-969d-4a55-caa4-5110beb379ff"
   },
   "outputs": [
    {
     "name": "stdout",
     "output_type": "stream",
     "text": [
      "\n",
      "NOTE: Using experimental fast data loading logic. To disable, pass\n",
      "    \"--load_fast=false\" and report issues on GitHub. More details:\n",
      "    https://github.com/tensorflow/tensorboard/issues/4784\n",
      "\n",
      "Serving TensorBoard on localhost; to expose to the network, use a proxy or pass --bind_all\n",
      "TensorBoard 2.9.1 at http://localhost:6006/ (Press CTRL+C to quit)\n",
      "^C\n"
     ]
    }
   ],
   "source": [
    "# Local machine\n",
    "if system_id == 0:\n",
    "\n",
    "  paths['train'] = paths['3_Output']+'/my_ssd_mobilenet_v2_fpnlite/train'\n",
    "  paths['eval'] = paths['3_Output']+'/my_ssd_mobilenet_v2_fpnlite/eval'\n",
    "\n",
    "  os.chdir(paths['eval'])\n",
    "  !tensorboard --logdir=.\n",
    "\n",
    "# Google colab    \n",
    "elif system_id == 1:\n",
    "\n",
    "  command = \"python {} --model_dir={} --pipeline_config_path={} --checkpoint_dir={}\".format(files['training_script'], model_dir, files['pipeline_active'], model_dir)\n",
    "  !{command}\n",
    "\n",
    "else:\n",
    "  print('No operating system was defined...')"
   ]
  },
  {
   "cell_type": "markdown",
   "id": "Z8h8jfhMAPw4",
   "metadata": {
    "id": "Z8h8jfhMAPw4"
   },
   "source": [
    "# 8 Download model (Colab)"
   ]
  },
  {
   "cell_type": "code",
   "execution_count": null,
   "id": "VCeIQNwLALYQ",
   "metadata": {
    "colab": {
     "base_uri": "https://localhost:8080/",
     "height": 496
    },
    "id": "VCeIQNwLALYQ",
    "outputId": "ed124b8d-188c-4945-ea76-faf95ab15a88"
   },
   "outputs": [],
   "source": [
    "# Local machine\n",
    "if system_id == 0:\n",
    "  print('Skipping step...')\n",
    "\n",
    "# Google colab    \n",
    "elif system_id == 1:\n",
    "\n",
    "    # Copy labelmap to model folder\n",
    "    source = files['labelmap']\n",
    "    shutil.copy(source, paths['actt copy_tree\n",
    "    copy_tree(paths['active_model'], paths['3_Output']+'/'+custom_model_name)\n",
    "\n",
    "else:\n",
    "  print('No operating system was defined...')"
   ]
  },
  {
   "cell_type": "code",
   "execution_count": null,
   "id": "dd43200e",
   "metadata": {},
   "outputs": [],
   "source": []
  }
 ],
 "metadata": {
  "accelerator": "GPU",
  "colab": {
   "include_colab_link": true,
   "name": "1_Preparing_Model.ipynb",
   "provenance": []
  },
  "gpuClass": "standard",
  "kernelspec": {
   "display_name": "joshBakNew",
   "language": "python",
   "name": "joshbaknew"
  },
  "language_info": {
   "codemirror_mode": {
    "name": "ipython",
    "version": 3
   },
   "file_extension": ".py",
   "mimetype": "text/x-python",
   "name": "python",
   "nbconvert_exporter": "python",
   "pygments_lexer": "ipython3",
   "version": "3.9.6"
  }
 },
 "nbformat": 4,
 "nbformat_minor": 5
}
