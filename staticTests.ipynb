{
 "cells": [
  {
   "cell_type": "markdown",
   "id": "97b79444",
   "metadata": {
    "heading_collapsed": true
   },
   "source": [
    "# System setup"
   ]
  },
  {
   "cell_type": "code",
   "execution_count": null,
   "id": "0a2329b8",
   "metadata": {
    "hidden": true
   },
   "outputs": [],
   "source": [
    "# Import fundamental dependencies (which are installed by default or by cloning taxibot repo)\n",
    "import os\n",
    "import sys\n",
    "import time\n",
    "from pprint import pprint\n",
    "import argparse\n",
    "\n",
    "import userSettings\n",
    "import setup\n",
    "\n",
    "#%% System setup\n",
    "\n",
    "# Load user settings\n",
    "userSettings = userSettings.main()\n",
    "\n",
    "files, paths = setup.installPackages(userSettings['homePath'], userSettings['labels'], firstInstallation=False)\n",
    "                                     \n",
    "import cv2 as cv\n",
    "import numpy as np\n",
    "import cameraSetup as cameraSetup\n",
    "\n",
    "cameraSetup.getIntrinsicsLeftCamera(0, paths, singleLGenImages=False, singleLTestCombinations=False, singleLCalibration=False, debuggingMode=False)\n",
    "cameraSetup.getIntrinsicsRightCamera(0, paths, singleRGenImages=False, singleRTestCombinations=False, singleRCalibration=False, debuggingMode=False)\n",
    "\n",
    "\n",
    "Trns = cameraSetup.calibrateStereoSetup(0, 0, paths, stereoGenImages=False, stereoTestCombinations=False, stereoCalibration=False, debuggingMode=False)\n",
    "leftMapX, leftMapY, rightMapX, rightMapY, Q, rectifiedCameraMatrixL = cameraSetup.getRectificationMap(0, 0, paths, newRectificationMapping=False, debuggingMode=False)"
   ]
  },
  {
   "cell_type": "code",
   "execution_count": null,
   "id": "714c13b2",
   "metadata": {
    "hidden": true
   },
   "outputs": [],
   "source": [
    "print('Importing modules for object detection')\n",
    "import tensorflow as tf\n",
    "import object_detection\n",
    "from object_detection.utils import label_map_util\n",
    "from object_detection.utils import visualization_utils as viz_utils\n",
    "from object_detection.builders import model_builder\n",
    "from object_detection.utils import config_util\n",
    "print('Finished importing modules')\n",
    "os.chdir(paths['home'])\n",
    "\n",
    "# Determine latest checkpoint\n",
    "path_model = paths['trainedModels']+'/'+userSettings['pretrainedModelName']\n",
    "files = os.listdir(path_model)\n",
    "last_checkpoint = 0\n",
    "for file in files:\n",
    "    ckpt = file.split('.')[0]\n",
    "    try:\n",
    "        ckpt = ckpt.split('-')[1]\n",
    "    except:\n",
    "        break\n",
    "    else:\n",
    "        #print('Current checkpoint: '+ckpt)\n",
    "        if (int(ckpt) > last_checkpoint):\n",
    "            last_checkpoint = int(ckpt)\n",
    "last_checkpoint = 'ckpt-'+str(last_checkpoint)\n",
    "print('Found latest checkpoint: '+last_checkpoint)\n",
    "\n",
    "# Load pipeline config and build a detection model\n",
    "path_pipeline = path_model+'/pipeline.config'\n",
    "configs = config_util.get_configs_from_pipeline_file(path_pipeline)\n",
    "detection_model = model_builder.build(model_config=configs['model'], is_training=False)\n",
    "\n",
    "# Restore checkpoint\n",
    "ckpt = tf.compat.v2.train.Checkpoint(model=detection_model)\n",
    "ckpt.restore(os.path.join(path_model, str(last_checkpoint))).expect_partial()\n",
    "\n",
    "def detect_fn(image):\n",
    "    image, shapes = detection_model.preprocess(image)\n",
    "    prediction_dict = detection_model.predict(image, shapes)\n",
    "    detections = detection_model.postprocess(prediction_dict, shapes)\n",
    "    return detections\n",
    "\n",
    "\n",
    "path_labelmap = path_model+'/label_map.pbtxt'\n",
    "category_index = label_map_util.create_category_index_from_labelmap(path_labelmap)"
   ]
  },
  {
   "cell_type": "code",
   "execution_count": null,
   "id": "acc5182e",
   "metadata": {
    "hidden": true
   },
   "outputs": [],
   "source": [
    "%matplotlib inline\n",
    "import matplotlib.pyplot as plt\n",
    "import time\n"
   ]
  },
  {
   "cell_type": "markdown",
   "id": "b199a686",
   "metadata": {
    "heading_collapsed": true
   },
   "source": [
    "# Test detection"
   ]
  },
  {
   "cell_type": "markdown",
   "id": "42ea4419",
   "metadata": {
    "hidden": true
   },
   "source": [
    "## Set detection parameters"
   ]
  },
  {
   "cell_type": "code",
   "execution_count": null,
   "id": "83eaa584",
   "metadata": {
    "hidden": true
   },
   "outputs": [],
   "source": [
    "testResults = []"
   ]
  },
  {
   "cell_type": "code",
   "execution_count": null,
   "id": "25d83bf2",
   "metadata": {
    "hidden": true
   },
   "outputs": [],
   "source": [
    "minDisparity = 192\n",
    "maxDisparity = 272\n",
    "numDisparities = maxDisparity-minDisparity\n",
    "blockSize = 5\n",
    "uniquenessRatio = 15\n",
    "\n",
    "groundTruthDistance = str(40)"
   ]
  },
  {
   "cell_type": "markdown",
   "id": "32a2e8e9",
   "metadata": {
    "hidden": true
   },
   "source": [
    "## Object detection"
   ]
  },
  {
   "cell_type": "code",
   "execution_count": null,
   "id": "c155b68d",
   "metadata": {
    "hidden": true
   },
   "outputs": [],
   "source": [
    "# Display new image\n",
    "frameL = cv.imread(userSettings['homePath']+'/3_Evaluation/imagesPrinted/stereoAlgTestPrintedCamL_'+groundTruthDistance+'cm.png')\n",
    "frameR = cv.imread(userSettings['homePath']+'/3_Evaluation/imagesPrinted/stereoAlgTestPrintedCamR_'+groundTruthDistance+'cm.png')\n",
    "\n",
    "f, axarr = plt.subplots(1,2, figsize=(15, 15))\n",
    "axarr[0].imshow(cv.cvtColor(frameL, cv.COLOR_BGR2RGB))\n",
    "axarr[1].imshow(cv.cvtColor(frameR, cv.COLOR_BGR2RGB))\n",
    "\n",
    "bboxCentreCoords = {}"
   ]
  },
  {
   "cell_type": "markdown",
   "id": "449a5275",
   "metadata": {
    "heading_collapsed": true,
    "hidden": true
   },
   "source": [
    "### Detect object in left image"
   ]
  },
  {
   "cell_type": "code",
   "execution_count": null,
   "id": "1f5947d6",
   "metadata": {
    "hidden": true
   },
   "outputs": [],
   "source": [
    "# Rectify and convert color\n",
    "prev_frame_time = time.time()\n",
    "Left_rectified = cv.remap(frameL,leftMapX,leftMapY, cv.INTER_LINEAR, cv.BORDER_CONSTANT)\n",
    "height, width, channels = Left_rectified.shape\n",
    "\n",
    "image_np = np.array(Left_rectified)\n",
    "input_tensor = tf.convert_to_tensor(np.expand_dims(image_np, 0), dtype=tf.float32)\n",
    "detections = detect_fn(input_tensor)\n",
    "\n",
    "num_detections = int(detections.pop('num_detections'))\n",
    "detections = {key: value[0, :num_detections].numpy()\n",
    "            for key, value in detections.items()}\n",
    "detections['num_detections'] = num_detections\n",
    "detections['detection_classes'] = detections['detection_classes'].astype(np.int64)\n",
    "label_id_offset = 1\n",
    "image_np_with_detections = image_np.copy()\n",
    "\n",
    "image_np_with_detections, aryFound = viz_utils.visualize_boxes_and_labels_on_image_array(\n",
    "            image_np_with_detections,\n",
    "            detections['detection_boxes'],\n",
    "            detections['detection_classes']+label_id_offset,\n",
    "            detections['detection_scores'],\n",
    "            category_index,\n",
    "            use_normalized_coordinates=True,\n",
    "            max_boxes_to_draw=2,\n",
    "            min_score_thresh=.8,\n",
    "            agnostic_mode=False)\n",
    "\n",
    "\n",
    "if aryFound != 0:\n",
    "\n",
    "    keys = aryFound.keys()\n",
    "    coordsLeftImg = []\n",
    "\n",
    "    for key in keys:\n",
    "\n",
    "        xmin = aryFound[key][0]*width\n",
    "        xmax = aryFound[key][1]*width\n",
    "        ymin = aryFound[key][2]*height\n",
    "        ymax = aryFound[key][3]*height\n",
    "\n",
    "        # Location (centre of object)\n",
    "        x_centre = xmin+0.5*(xmax-xmin)\n",
    "        x_centre = int(x_centre)\n",
    "        y_centre = ymin+0.5*(ymax-ymin)\n",
    "        y_centre = int(y_centre)\n",
    "        \n",
    "        # Store bbox centre coordinates in left image to be used for depth\n",
    "        bboxCentreCoords[key] = [x_centre, y_centre]\n",
    "\n",
    "        # Store coordiantes for disparity by object detection\n",
    "        coordsLeftImg.append(x_centre)\n",
    "\n",
    "        # Mark point\n",
    "        text = ('x. u = {:.2f}pixels'.format(x_centre))\n",
    "        cv.putText(image_np_with_detections, text, (x_centre, y_centre), cv.FONT_HERSHEY_PLAIN, 2, (0, 255, 255), 2, cv.LINE_AA)\n",
    "\n",
    "\n",
    "\n",
    "new_frame_time = time.time()\n",
    "timePassed = (new_frame_time-prev_frame_time)\n",
    "print('Computation time: {:.4f} seconds'.format(timePassed))\n",
    "\n",
    "plt.figure(figsize=(5, 5))\n",
    "plt.imshow(cv.cvtColor(image_np_with_detections, cv.COLOR_BGR2RGB))\n",
    "plt.show()"
   ]
  },
  {
   "cell_type": "markdown",
   "id": "85855f70",
   "metadata": {
    "heading_collapsed": true,
    "hidden": true
   },
   "source": [
    "### Detect in right image"
   ]
  },
  {
   "cell_type": "code",
   "execution_count": null,
   "id": "112c546c",
   "metadata": {
    "hidden": true
   },
   "outputs": [],
   "source": [
    "Right_rectified = cv.remap(frameR,rightMapX,rightMapY, cv.INTER_LINEAR, cv.BORDER_CONSTANT)\n",
    "height, width, channels = Right_rectified.shape\n",
    "\n",
    "# Detect object on right rectified camera stream\n",
    "height, width, channels = Right_rectified.shape\n",
    "image_np = np.array(Right_rectified)\n",
    "input_tensor = tf.convert_to_tensor(np.expand_dims(image_np, 0), dtype=tf.float32)\n",
    "detections = detect_fn(input_tensor)\n",
    "\n",
    "num_detections = int(detections.pop('num_detections'))\n",
    "detections = {key: value[0, :num_detections].numpy()\n",
    "        for key, value in detections.items()}\n",
    "detections['num_detections'] = num_detections\n",
    "detections['detection_classes'] = detections['detection_classes'].astype(np.int64)\n",
    "label_id_offset = 1\n",
    "image_np_with_detectionsR = image_np.copy()\n",
    "\n",
    "image_np_with_detectionsR, aryFoundR = viz_utils.visualize_boxes_and_labels_on_image_array(\n",
    "        image_np_with_detectionsR,\n",
    "        detections['detection_boxes'],\n",
    "        detections['detection_classes']+label_id_offset,\n",
    "        detections['detection_scores'],\n",
    "        category_index,\n",
    "        use_normalized_coordinates=True,\n",
    "        max_boxes_to_draw=2,\n",
    "        min_score_thresh=.8,\n",
    "        agnostic_mode=False)\n",
    "\n",
    "\n",
    "if aryFoundR != 0:\n",
    "\n",
    "    keys = aryFoundR.keys()\n",
    "    coordsRightImg = []\n",
    "\n",
    "    for key in keys:\n",
    "\n",
    "        xmin = aryFoundR[key][0]*width\n",
    "        xmax = aryFoundR[key][1]*width\n",
    "        ymin = aryFoundR[key][2]*height\n",
    "        ymax = aryFoundR[key][3]*height\n",
    "\n",
    "        # Location (centre of object) as seen from left rectified camera\n",
    "        x_centre = xmin+0.5*(xmax-xmin)\n",
    "        x_centre = int(x_centre)\n",
    "        y_centre = ymin+0.5*(ymax-ymin)\n",
    "        y_centre = int(y_centre)\n",
    "\n",
    "        # Store coordiantes for disparity by object detection\n",
    "        coordsRightImg.append(x_centre)\n",
    "\n",
    "        # Mark point\n",
    "        text = ('x. u = {:.2f}pixels'.format(x_centre))\n",
    "        cv.putText(image_np_with_detectionsR, text, (x_centre, y_centre), cv.FONT_HERSHEY_PLAIN, 2, (0, 255, 255), 2, cv.LINE_AA)\n",
    "\n",
    "new_frame_time = time.time()\n",
    "timePassed = (new_frame_time-prev_frame_time)\n",
    "print('Computation time: {:.4f} seconds'.format(timePassed))\n",
    "\n",
    "plt.figure(figsize=(5, 5))\n",
    "plt.imshow(cv.cvtColor(image_np_with_detectionsR, cv.COLOR_BGR2RGB))\n",
    "plt.axis('off')\n",
    "plt.show()"
   ]
  },
  {
   "cell_type": "code",
   "execution_count": null,
   "id": "0f2eec5b",
   "metadata": {
    "hidden": true
   },
   "outputs": [],
   "source": []
  },
  {
   "cell_type": "markdown",
   "id": "1808d1e8",
   "metadata": {
    "heading_collapsed": true,
    "hidden": true
   },
   "source": [
    "### Object detection result"
   ]
  },
  {
   "cell_type": "code",
   "execution_count": null,
   "id": "de905630",
   "metadata": {
    "hidden": true
   },
   "outputs": [],
   "source": [
    "print(sorted(coordsLeftImg))"
   ]
  },
  {
   "cell_type": "code",
   "execution_count": null,
   "id": "4687edd6",
   "metadata": {
    "hidden": true
   },
   "outputs": [],
   "source": [
    "# Check if all bounding box centre coordiantes of the left image are correct\n",
    "print('Coordinates to be checked for in all functions: '+str(bboxCentreCoords))\n",
    "\n",
    "# Check disparity via difference between image coords\n",
    "       \n",
    "if (len(coordsLeftImg) >= 2) and (len(coordsRightImg) >= 2):\n",
    "    engineL = sorted(coordsLeftImg)[0] - sorted(coordsRightImg)[0]\n",
    "    engineR = sorted(coordsLeftImg)[1] - sorted(coordsRightImg)[1]\n",
    "    print('Disparity from img coords left engine: {:.2f}pixels'.format(engineL))\n",
    "    print('Disparity from img coords right engine: {:.2f}pixels'.format(engineR))\n",
    "    meanDisparity = 0.5*(engineL+engineR)\n",
    "else:\n",
    "    engine = coordsLeftImg[0] - coordsRightImg[0]\n",
    "    #print('Disparity from img coords right engine: {:.2f}pixels'.format(engine))\n",
    "    meanDisparity = engine\n",
    "\n",
    "# Add to global results \n",
    "localResults = ['ObjectDetection', groundTruthDistance, '-', meanDisparity, timePassed, blockSize]\n",
    "testResults.append(localResults.copy())\n",
    "\n",
    "print('Coordinates of engine(s) in left image: {} pixels'.format(coordsLeftImg))\n",
    "print('Coordinates of engine(s) in right image: {} pixels'.format(coordsRightImg))\n",
    "print('Result: '+str(localResults))"
   ]
  },
  {
   "cell_type": "markdown",
   "id": "7b1d2471",
   "metadata": {
    "hidden": true
   },
   "source": [
    "## Compute depth"
   ]
  },
  {
   "cell_type": "code",
   "execution_count": null,
   "id": "9efcad14",
   "metadata": {
    "hidden": true
   },
   "outputs": [],
   "source": [
    "Left_rectified = cv.cvtColor(Left_rectified, cv.COLOR_BGR2GRAY)\n",
    "Right_rectified = cv.cvtColor(Right_rectified, cv.COLOR_BGR2GRAY)"
   ]
  },
  {
   "cell_type": "markdown",
   "id": "f976fbcb",
   "metadata": {
    "hidden": true
   },
   "source": [
    "### SGBM"
   ]
  },
  {
   "cell_type": "code",
   "execution_count": null,
   "id": "a85f2940",
   "metadata": {
    "hidden": true
   },
   "outputs": [],
   "source": [
    "def getAverageDisp(disparityMap, y, x, margin):\n",
    "    ymin = y-margin\n",
    "    ymax = y+margin\n",
    "    xmin = x-margin\n",
    "    xmax = x+margin\n",
    "    img_piece = disparityMap[ymin:ymax, xmin:xmax].copy()\n",
    "    \n",
    "    res = [sum(idx) / len(idx) for idx in zip(*img_piece)]\n",
    "    res = sum(res) / len(res)\n",
    "    \n",
    "    return res    "
   ]
  },
  {
   "cell_type": "code",
   "execution_count": null,
   "id": "6cee02dc",
   "metadata": {
    "hidden": true
   },
   "outputs": [],
   "source": [
    "# SGBM Initialisation\n",
    "left_matcherSGBM = cv.StereoSGBM_create(minDisparity = minDisparity,\n",
    "                                    numDisparities = numDisparities,\n",
    "                                    blockSize = blockSize,\n",
    "                                    uniquenessRatio = uniquenessRatio,\n",
    "                                       )                           \n",
    "\n",
    "# Filter settings\n",
    "sigma = 1.5\n",
    "lmbda = 8000.0\n",
    "\n",
    "right_matcherSGBM = cv.ximgproc.createRightMatcher(left_matcherSGBM)\n",
    "wls_filterSGBM = cv.ximgproc.createDisparityWLSFilter(left_matcherSGBM)\n",
    "wls_filterSGBM.setLambda(lmbda)\n",
    "wls_filterSGBM.setSigmaColor(sigma)\n",
    "\n",
    "left_dispSGBM = left_matcherSGBM.compute(Left_rectified, Right_rectified).astype(np.float32) / 16\n",
    "right_dispSGBM = right_matcherSGBM.compute(Right_rectified,Left_rectified).astype(np.float32) / 16\n",
    "filtered_dispSGBM = wls_filterSGBM.filter(left_dispSGBM, Left_rectified, disparity_map_right=right_dispSGBM)\n"
   ]
  },
  {
   "cell_type": "code",
   "execution_count": null,
   "id": "34905fec",
   "metadata": {
    "hidden": true
   },
   "outputs": [],
   "source": [
    "# Left disparity map\n",
    "prev_frame_time = time.time()\n",
    "leftdisptime = time.time()\n",
    "\n",
    "left_dispSGBM = left_matcherSGBM.compute(Left_rectified, Right_rectified).astype(np.float32) / 16\n",
    "\n",
    "# Compute disparity and depth for both engines, use mean value\n",
    "meanDepth = 0\n",
    "meanDisp = 0\n",
    "for key in bboxCentreCoords.keys():\n",
    "    \n",
    "    x_centre = bboxCentreCoords[key][0]\n",
    "    y_centre = bboxCentreCoords[key][1]\n",
    "    \n",
    "    disparity = left_dispSGBM[y_centre][x_centre]\n",
    "    depth =(-Trns[0][0]*rectifiedCameraMatrixL[0][0])/disparity\n",
    "    print('Depth {:.2f} cm'.format(depth))\n",
    "    meanDepth += depth\n",
    "    meanDisp += disparity\n",
    "\n",
    "meanDepth = meanDepth/len(bboxCentreCoords.keys())\n",
    "meanDisp = meanDisp/len(bboxCentreCoords.keys())\n",
    "\n",
    "print('Mean depth {:.2f} cm'.format(meanDepth))\n",
    "print('Mean disparity {:.2f} pixels'.format(meanDisp))\n",
    "\n",
    "new_frame_time = time.time()\n",
    "timePassed = (new_frame_time-prev_frame_time)\n",
    "print('Computation time: {:.4f} seconds'.format(timePassed))\n",
    "\n",
    "# Add to global results[Algo, ground truth, computed depth, disparity, time, blockSize]\n",
    "localResults = ['SGBM_LeftDispMap', groundTruthDistance, meanDepth, meanDisp, timePassed, blockSize]\n",
    "testResults.append(localResults.copy())\n",
    "\n",
    "# Visualisation\n",
    "dispForColor = left_dispSGBM.copy()\n",
    "dispForColor = cv.normalize(src=dispForColor, dst=dispForColor, alpha=255, beta=0 , norm_type=cv.NORM_MINMAX)\n",
    "disp8 = np.uint8(dispForColor)\n",
    "colored_disp = cv.applyColorMap(disp8, cv.COLORMAP_JET)\n",
    "plt.figure(figsize=(5, 5))\n",
    "plt.imshow(cv.cvtColor(colored_disp, cv.COLOR_BGR2RGB))\n",
    "plt.show()"
   ]
  },
  {
   "cell_type": "code",
   "execution_count": null,
   "id": "5d490a45",
   "metadata": {
    "hidden": true
   },
   "outputs": [],
   "source": [
    "## PCL from left disparity map\n",
    "prev_frame_time = time.time()\n",
    "\n",
    "points_3DSGBM_left = cv.reprojectImageTo3D(left_dispSGBM, Q)\n",
    "\n",
    "# Compute depth for both engines, use mean value\n",
    "meanDepth = 0\n",
    "for key in bboxCentreCoords.keys():\n",
    "    \n",
    "    x_centre = bboxCentreCoords[key][0]\n",
    "    y_centre = bboxCentreCoords[key][1]\n",
    "    depth = points_3DSGBM_left[y_centre][x_centre][2]\n",
    "    \n",
    "    print('Depth {:.2f} cm'.format(depth))\n",
    "    meanDepth += depth\n",
    "\n",
    "meanDepth = meanDepth/len(bboxCentreCoords.keys())\n",
    "print('Mean depth {:.2f} cm'.format(meanDepth))\n",
    "\n",
    "new_frame_time = time.time()\n",
    "timePassed = (new_frame_time-leftdisptime)\n",
    "print('Computation time: {:.4f} seconds'.format(timePassed))\n",
    "\n",
    "# Add to global results[Algo, ground truth, computed depth, disparity, time, blockSize]\n",
    "localResults = ['SGBM_PCL_LeftDispMap', groundTruthDistance, meanDepth, '-', timePassed, blockSize]\n",
    "testResults.append(localResults.copy())"
   ]
  },
  {
   "cell_type": "code",
   "execution_count": null,
   "id": "a5649003",
   "metadata": {
    "hidden": true
   },
   "outputs": [],
   "source": [
    "## Filtered disparity map\n",
    "prev_frame_time = time.time()\n",
    "FilteredDisptime = time.time()\n",
    "\n",
    "left_dispSGBM = left_matcherSGBM.compute(Left_rectified, Right_rectified).astype(np.float32) / 16\n",
    "right_dispSGBM = right_matcherSGBM.compute(Right_rectified,Left_rectified).astype(np.float32) / 16\n",
    "filtered_dispSGBM = wls_filterSGBM.filter(left_dispSGBM, Left_rectified, disparity_map_right=right_dispSGBM)\n",
    "\n",
    "# Compute disparity and depth for both engines, use mean value\n",
    "meanDepth = 0\n",
    "meanDisp = 0\n",
    "for key in bboxCentreCoords.keys():\n",
    "    \n",
    "    x_centre = bboxCentreCoords[key][0]\n",
    "    y_centre = bboxCentreCoords[key][1]\n",
    "    \n",
    "    disparity = filtered_dispSGBM[y_centre][x_centre]\n",
    "    depth =(-Trns[0][0]*rectifiedCameraMatrixL[0][0])/disparity\n",
    "    print('Depth {:.2f} cm'.format(depth))\n",
    "    meanDepth += depth\n",
    "    meanDisp += disparity\n",
    "\n",
    "meanDepth = meanDepth/len(bboxCentreCoords.keys())\n",
    "print('Mean depth {:.2f} cm'.format(meanDepth))\n",
    "\n",
    "meanDisp = meanDisp/len(bboxCentreCoords.keys())\n",
    "print('Mean disparity {:.2f} pixels'.format(meanDisp))\n",
    "\n",
    "new_frame_time = time.time()\n",
    "timePassed = (new_frame_time-prev_frame_time)\n",
    "print('Computation time: {:.4f} seconds'.format(timePassed))\n",
    "\n",
    "# Add to global results[Algo, ground truth, computed depth, disparity, time, blockSize]\n",
    "localResults = ['SGBM_FilteredLeftDispMap', groundTruthDistance, meanDepth, meanDisp, timePassed, blockSize]\n",
    "testResults.append(localResults.copy())\n",
    "\n",
    "# Visualisation\n",
    "dispForColor = filtered_dispSGBM.copy()\n",
    "dispForColor = cv.normalize(src=dispForColor, dst=dispForColor, alpha=255, beta=0 , norm_type=cv.NORM_MINMAX)\n",
    "disp8 = np.uint8(dispForColor)\n",
    "colored_disp = cv.applyColorMap(disp8, cv.COLORMAP_JET)\n",
    "plt.figure(figsize=(5, 5))\n",
    "plt.imshow(cv.cvtColor(colored_disp, cv.COLOR_BGR2RGB))\n",
    "plt.show()"
   ]
  },
  {
   "cell_type": "code",
   "execution_count": null,
   "id": "dd9a522c",
   "metadata": {
    "hidden": true
   },
   "outputs": [],
   "source": [
    "## PCL from filtered disparity map\n",
    "prev_frame_time = time.time()\n",
    "\n",
    "points_3DSGBM_filtered = cv.reprojectImageTo3D(filtered_dispSGBM, Q)\n",
    "\n",
    "# Compute depth for both engines, use mean value\n",
    "meanDepth = 0\n",
    "for key in bboxCentreCoords.keys():\n",
    "    \n",
    "    x_centre = bboxCentreCoords[key][0]\n",
    "    y_centre = bboxCentreCoords[key][1]\n",
    "    depth = points_3DSGBM_filtered[y_centre][x_centre][2]\n",
    "    \n",
    "    print('Depth {:.2f} cm'.format(depth))\n",
    "    meanDepth += depth\n",
    "\n",
    "meanDepth = meanDepth/len(bboxCentreCoords.keys())\n",
    "print('Mean depth {:.2f} cm'.format(meanDepth))\n",
    "\n",
    "\n",
    "new_frame_time = time.time()\n",
    "timePassed = (new_frame_time-FilteredDisptime)\n",
    "print('Computation time: {:.4f} seconds'.format(timePassed))\n",
    "\n",
    "# Add to global results[Algo, ground truth, computed depth, disparity, time, blockSize]\n",
    "localResults = ['SGBM_PCL_FilteredLeftDispMap', groundTruthDistance, meanDepth, '-', timePassed, blockSize]\n",
    "testResults.append(localResults.copy())"
   ]
  },
  {
   "cell_type": "markdown",
   "id": "cc04602a",
   "metadata": {
    "hidden": true
   },
   "source": [
    "### BM"
   ]
  },
  {
   "cell_type": "code",
   "execution_count": null,
   "id": "f4da9687",
   "metadata": {
    "hidden": true
   },
   "outputs": [],
   "source": [
    "## BM Settings\n",
    "left_matcherBM = cv.StereoBM_create(numDisparities = numDisparities,\n",
    "                                    blockSize = blockSize)\n",
    "\n",
    "left_matcherBM.setUniquenessRatio(uniquenessRatio)\n",
    "left_matcherBM.setMinDisparity(minDisparity)\n",
    "\n",
    "## Filter settings\n",
    "sigma = 1.5\n",
    "lmbda = 8000.0\n",
    "\n",
    "right_matcherBM = cv.ximgproc.createRightMatcher(left_matcherBM)\n",
    "wls_filterBM = cv.ximgproc.createDisparityWLSFilter(left_matcherBM)\n",
    "wls_filterBM.setLambda(lmbda)\n",
    "wls_filterBM.setSigmaColor(sigma)"
   ]
  },
  {
   "cell_type": "code",
   "execution_count": null,
   "id": "c868bba8",
   "metadata": {
    "hidden": true
   },
   "outputs": [],
   "source": [
    "## Left disparity map\n",
    "prev_frame_time = time.time()\n",
    "leftdisptime = time.time()\n",
    "\n",
    "left_dispBM = left_matcherBM.compute(Left_rectified, Right_rectified).astype(np.float32) / 16\n",
    "\n",
    "# Compute disparity and depth for both engines, use mean value\n",
    "meanDepth = 0\n",
    "meanDisp = 0\n",
    "for key in bboxCentreCoords.keys():\n",
    "    \n",
    "    x_centre = bboxCentreCoords[key][0]\n",
    "    y_centre = bboxCentreCoords[key][1]\n",
    "    \n",
    "    disparity = left_dispBM[y_centre][x_centre]\n",
    "    depth =(-Trns[0][0]*rectifiedCameraMatrixL[0][0])/disparity\n",
    "    print('Depth {:.2f} cm'.format(depth))\n",
    "    meanDepth += depth\n",
    "    meanDisp += disparity\n",
    "\n",
    "meanDepth = meanDepth/len(bboxCentreCoords.keys())\n",
    "print('Mean depth {:.2f} cm'.format(meanDepth))\n",
    "\n",
    "meanDisp = meanDisp/len(bboxCentreCoords.keys())\n",
    "print('Mean disp {:.2f} pixels'.format(meanDisp))\n",
    "\n",
    "new_frame_time = time.time()\n",
    "timePassed = (new_frame_time-prev_frame_time)\n",
    "print('Computation time: {:.4f} seconds'.format(timePassed))\n",
    "\n",
    "# Visualisation\n",
    "dispForColor = left_dispBM.copy()\n",
    "dispForColor = cv.normalize(src=dispForColor, dst=dispForColor, alpha=255, beta=0 , norm_type=cv.NORM_MINMAX)\n",
    "disp8 = np.uint8(dispForColor)\n",
    "colored_disp = cv.applyColorMap(disp8, cv.COLORMAP_JET)\n",
    "plt.figure(figsize=(5, 5))\n",
    "plt.imshow(cv.cvtColor(colored_disp, cv.COLOR_BGR2RGB))\n",
    "plt.show()\n",
    "\n",
    "# Add to global results[Algo, ground truth, computed depth, disparity, time, blockSize]\n",
    "localResults = ['BM_LeftDispMap', groundTruthDistance, meanDepth, meanDisp, timePassed, blockSize]\n",
    "testResults.append(localResults.copy())"
   ]
  },
  {
   "cell_type": "code",
   "execution_count": null,
   "id": "fb2f6773",
   "metadata": {
    "hidden": true
   },
   "outputs": [],
   "source": [
    "## PCL from left disparity map\n",
    "prev_frame_time = time.time()\n",
    "\n",
    "points_3DBM_left = cv.reprojectImageTo3D(left_dispBM, Q)\n",
    "\n",
    "# Compute depth for both engines, use mean value\n",
    "meanDepth = 0\n",
    "for key in bboxCentreCoords.keys():\n",
    "    \n",
    "    x_centre = bboxCentreCoords[key][0]\n",
    "    y_centre = bboxCentreCoords[key][1]\n",
    "    depth = points_3DBM_left[y_centre][x_centre][2]\n",
    "    \n",
    "    print('Depth {:.2f} cm'.format(depth))\n",
    "    meanDepth += depth\n",
    "\n",
    "meanDepth = meanDepth/len(bboxCentreCoords.keys())\n",
    "print('Mean depth {:.2f} cm'.format(meanDepth))\n",
    "\n",
    "new_frame_time = time.time()\n",
    "timePassed = (new_frame_time-leftdisptime)\n",
    "print('Computation time: {:.4f} seconds'.format(timePassed))\n",
    "\n",
    "# Add to global results[Algo, ground truth, computed depth, disparity, time, blockSize]\n",
    "localResults = ['BM_PCL_LeftDispMap', groundTruthDistance, meanDepth, '-', timePassed, blockSize]\n",
    "testResults.append(localResults.copy())"
   ]
  },
  {
   "cell_type": "code",
   "execution_count": null,
   "id": "2ec1be57",
   "metadata": {
    "hidden": true
   },
   "outputs": [],
   "source": [
    "## Filtered disparity map\n",
    "prev_frame_time = time.time()\n",
    "FilteredDisptime = time.time()\n",
    "\n",
    "left_dispBM = left_matcherBM.compute(Left_rectified, Right_rectified).astype(np.float32) / 16\n",
    "right_dispBM = right_matcherBM.compute(Right_rectified,Left_rectified).astype(np.float32) / 16\n",
    "filtered_dispBM = wls_filterBM.filter(left_dispBM, Left_rectified, disparity_map_right=right_dispBM)\n",
    "\n",
    "\n",
    "# Compute disparity and depth for both engines, use mean value\n",
    "meanDepth = 0\n",
    "meanDisp = 0\n",
    "for key in bboxCentreCoords.keys():\n",
    "    \n",
    "    x_centre = bboxCentreCoords[key][0]\n",
    "    y_centre = bboxCentreCoords[key][1]\n",
    "    \n",
    "    disparity = filtered_dispBM[y_centre][x_centre]\n",
    "    depth =(-Trns[0][0]*rectifiedCameraMatrixL[0][0])/disparity\n",
    "    print('Depth {:.2f} cm'.format(depth))\n",
    "    print('Disparity: '+str(disparity))\n",
    "    meanDepth += depth\n",
    "    meanDisp += disparity\n",
    "\n",
    "meanDepth = meanDepth/len(bboxCentreCoords.keys())\n",
    "print('Mean depth {:.2f} cm'.format(meanDepth))\n",
    "\n",
    "meanDisp = meanDisp/len(bboxCentreCoords.keys())\n",
    "print('Mean disp {:.2f} pixels'.format(meanDisp))\n",
    "\n",
    "new_frame_time = time.time()\n",
    "timePassed = (new_frame_time-prev_frame_time)\n",
    "print('Computation time: {:.4f} seconds'.format(timePassed))\n",
    "\n",
    "# Visualisation\n",
    "dispForColor = filtered_dispBM.copy()\n",
    "dispForColor = cv.normalize(src=dispForColor, dst=dispForColor, alpha=255, beta=0 , norm_type=cv.NORM_MINMAX)\n",
    "disp8 = np.uint8(dispForColor)\n",
    "colored_disp = cv.applyColorMap(disp8, cv.COLORMAP_JET)\n",
    "plt.figure(figsize=(5, 5))\n",
    "plt.imshow(cv.cvtColor(colored_disp, cv.COLOR_BGR2RGB))\n",
    "plt.show()\n",
    "\n",
    "# Add to global results[Algo, ground truth, computed depth, disparity, time, blockSize]\n",
    "localResults = ['BM_FilteredLeftDispMap', groundTruthDistance, meanDepth, meanDisp, timePassed, blockSize]\n",
    "testResults.append(localResults.copy())"
   ]
  },
  {
   "cell_type": "code",
   "execution_count": null,
   "id": "6de35262",
   "metadata": {
    "hidden": true
   },
   "outputs": [],
   "source": [
    "## PCL from filtered disparity map\n",
    "prev_frame_time = time.time()\n",
    "\n",
    "points_3DBM_filtered = cv.reprojectImageTo3D(filtered_dispBM, Q)\n",
    "\n",
    "# Compute depth for both engines, use mean value\n",
    "meanDepth = 0\n",
    "for key in bboxCentreCoords.keys():\n",
    "    \n",
    "    x_centre = bboxCentreCoords[key][0]\n",
    "    y_centre = bboxCentreCoords[key][1]\n",
    "    depth = points_3DBM_filtered[y_centre][x_centre][2]\n",
    "    \n",
    "    print('Depth {:.2f} cm'.format(depth))\n",
    "    meanDepth += depth\n",
    "\n",
    "meanDepth = meanDepth/len(bboxCentreCoords.keys())\n",
    "print('Mean depth {:.2f} cm'.format(meanDepth))\n",
    "\n",
    "new_frame_time = time.time()\n",
    "timePassed = (new_frame_time-FilteredDisptime)\n",
    "print('Computation time: {:.4f} seconds'.format(timePassed))\n",
    "\n",
    "# Add to global results[Algo, ground truth, computed depth, disparity, time, blockSize]\n",
    "localResults = ['BM_PCL_FilteredLeftDispMap', groundTruthDistance, meanDepth, '-', timePassed, blockSize]\n",
    "testResults.append(localResults.copy())"
   ]
  },
  {
   "cell_type": "markdown",
   "id": "cb701292",
   "metadata": {},
   "source": [
    "# Result "
   ]
  },
  {
   "cell_type": "code",
   "execution_count": null,
   "id": "655c0dd2",
   "metadata": {},
   "outputs": [],
   "source": [
    "from pprint import pprint\n",
    "pprint(testResults)"
   ]
  },
  {
   "cell_type": "code",
   "execution_count": null,
   "id": "889b3752",
   "metadata": {},
   "outputs": [],
   "source": [
    "# Run this at the end after checking multiple parameters\n",
    "import csv\n",
    "header = ['Algorithm', 'Actual distance', 'Computed distance', 'Disparity', 'Computation time', 'blocksize']\n",
    "\n",
    "# Output error vis to csv\n",
    "#with open(userSettings['homePath']+'/3_Evaluation/stereoAlgoResults.csv', 'w', encoding='UTF8') as f:\n",
    "#    writer = csv.writer(f)\n",
    "#    writer.writerow(header)\n",
    "#    for element in testResults:\n",
    "#        writer.writerow(element)"
   ]
  }
 ],
 "metadata": {
  "kernelspec": {
   "display_name": "joshBak",
   "language": "python",
   "name": "joshbak"
  },
  "language_info": {
   "codemirror_mode": {
    "name": "ipython",
    "version": 3
   },
   "file_extension": ".py",
   "mimetype": "text/x-python",
   "name": "python",
   "nbconvert_exporter": "python",
   "pygments_lexer": "ipython3",
   "version": "3.9.6"
  }
 },
 "nbformat": 4,
 "nbformat_minor": 5
}
