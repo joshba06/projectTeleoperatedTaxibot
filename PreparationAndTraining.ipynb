{
 "cells": [
  {
   "cell_type": "markdown",
   "id": "28293d11",
   "metadata": {
    "colab_type": "text",
    "id": "view-in-github"
   },
   "source": [
    "<a href=\"https://colab.research.google.com/github/joshba06/Object_Detection/blob/main/PreparationAndTraining.ipynb\" target=\"_parent\"><img src=\"https://colab.research.google.com/assets/colab-badge.svg\" alt=\"Open In Colab\"/></a>"
   ]
  },
  {
   "cell_type": "markdown",
   "id": "h3jZ8O9eJKiC",
   "metadata": {
    "id": "h3jZ8O9eJKiC"
   },
   "source": [
    "# Readme\n",
    "\n",
    "**Step 1**: \n",
    "\n",
    "This script has to be run on both, Colab (training) and the local machine (object detection). Set the variable \"system_id\" to 1, if running on Colab or to 0 if running on local machine"
   ]
  },
  {
   "cell_type": "markdown",
   "id": "16bba4db",
   "metadata": {
    "id": "16bba4db"
   },
   "source": [
    "# 1. Getting Started"
   ]
  },
  {
   "cell_type": "markdown",
   "id": "xTsthyMa7O1t",
   "metadata": {
    "id": "xTsthyMa7O1t"
   },
   "source": [
    "## 1.1 Define parameters"
   ]
  },
  {
   "cell_type": "code",
   "execution_count": 1,
   "id": "900cbd24",
   "metadata": {
    "id": "900cbd24"
   },
   "outputs": [],
   "source": [
    "# Choose 1, if running on colab and 0 if running on local machine\n",
    "system_id = 1\n",
    "\n",
    "# Define the objects that you would like to train the deep learning-model with below\n",
    "labels = ['Car', 'Mug']\n",
    "\n",
    "# Change model url and name if model changes\n",
    "pre_trained_model_url = 'http://download.tensorflow.org/models/object_detection/tf2/20200711/ssd_mobilenet_v2_fpnlite_640x640_coco17_tpu-8.tar.gz'\n",
    "pre_trained_model_name = 'ssd_mobilenet_v2_fpnlite_640x640_coco17_tpu-8'\n",
    "custom_model_name = 'my_ssd_mobilenet_v2_fpnlite'\n",
    "\n",
    "img_size = (640, 640)"
   ]
  },
  {
   "cell_type": "markdown",
   "id": "edb1fba8",
   "metadata": {
    "id": "edb1fba8"
   },
   "source": [
    "## 1.2 Create file and folder structure"
   ]
  },
  {
   "cell_type": "code",
   "execution_count": 2,
   "id": "VYjsBYZoo2PX",
   "metadata": {
    "colab": {
     "base_uri": "https://localhost:8080/"
    },
    "id": "VYjsBYZoo2PX",
    "outputId": "f404483b-7b53-40c3-9b64-34c4445df23c"
   },
   "outputs": [
    {
     "name": "stdout",
     "output_type": "stream",
     "text": [
      "Running on local machine...\n"
     ]
    }
   ],
   "source": [
    "import os\n",
    "import shutil\n",
    "\n",
    "# Local machine\n",
    "if system_id == 0:\n",
    "    home_path = '/Users/niklas/Virtual_Environment/Version_5/projectAutonomous'\n",
    "    print('Running on local machine...')\n",
    "\n",
    "# Google colab    \n",
    "elif system_id == 1:\n",
    "    \n",
    "    print('Running on Google Colab...')\n",
    "    \n",
    "    # Mount Google Drive\n",
    "    from google.colab import drive\n",
    "    drive.mount('/content/drive')\n",
    "\n",
    "    # Setup path to home directory \n",
    "    home_path = '/content/drive/MyDrive/Colab_Notebooks/Object_Detection'\n",
    "    os.chdir(home_path)    \n",
    "\n",
    "else:\n",
    "    print('No operating system was defined...')"
   ]
  },
  {
   "cell_type": "code",
   "execution_count": 3,
   "id": "56a85065",
   "metadata": {
    "colab": {
     "base_uri": "https://localhost:8080/"
    },
    "id": "56a85065",
    "outputId": "895ba508-07df-4f1e-bbb9-ad5f370b4901"
   },
   "outputs": [
    {
     "name": "stdout",
     "output_type": "stream",
     "text": [
      "/Users/niklas/Virtual_Environment/Version_5/projectAutonomous/0_User_Input already exists..\n",
      "/Users/niklas/Virtual_Environment/Version_5/projectAutonomous/0_User_Input/backgrounds already exists..\n",
      "/Users/niklas/Virtual_Environment/Version_5/projectAutonomous/0_User_Input/objects already exists..\n",
      "/Users/niklas/Virtual_Environment/Version_5/projectAutonomous/1_Preprocessing already exists..\n",
      "/Users/niklas/Virtual_Environment/Version_5/projectAutonomous/1_Preprocessing/images already exists..\n",
      "/Users/niklas/Virtual_Environment/Version_5/projectAutonomous/1_Calibration already exists..\n",
      "/Users/niklas/Virtual_Environment/Version_5/projectAutonomous/1_Calibration/stereo already exists..\n",
      "/Users/niklas/Virtual_Environment/Version_5/projectAutonomous/1_Calibration/individual already exists..\n",
      "/Users/niklas/Virtual_Environment/Version_5/projectAutonomous/1_Calibration/stereo/camL already exists..\n",
      "/Users/niklas/Virtual_Environment/Version_5/projectAutonomous/1_Calibration/stereo/camR already exists..\n",
      "/Users/niklas/Virtual_Environment/Version_5/projectAutonomous/1_Calibration/individual/camR already exists..\n",
      "/Users/niklas/Virtual_Environment/Version_5/projectAutonomous/1_Calibration/individual/camL already exists..\n",
      "Successfully created /Users/niklas/Virtual_Environment/Version_5/projectAutonomous/2_Tensorflow from scratch. \n",
      "Successfully created /Users/niklas/Virtual_Environment/Version_5/projectAutonomous/2_Tensorflow/protoc from scratch. \n",
      "Successfully created /Users/niklas/Virtual_Environment/Version_5/projectAutonomous/2_Tensorflow/workspace from scratch. \n",
      "Successfully created /Users/niklas/Virtual_Environment/Version_5/projectAutonomous/2_Tensorflow/workspace/scripts from scratch. \n",
      "Successfully created /Users/niklas/Virtual_Environment/Version_5/projectAutonomous/2_Tensorflow/workspace/training from scratch. \n",
      "Successfully created /Users/niklas/Virtual_Environment/Version_5/projectAutonomous/2_Tensorflow/workspace/training/annotations from scratch. \n",
      "Successfully created /Users/niklas/Virtual_Environment/Version_5/projectAutonomous/2_Tensorflow/workspace/training/images/training from scratch. \n",
      "Successfully created /Users/niklas/Virtual_Environment/Version_5/projectAutonomous/2_Tensorflow/workspace/training/images/testing from scratch. \n",
      "Successfully created /Users/niklas/Virtual_Environment/Version_5/projectAutonomous/2_Tensorflow/workspace/training/models from scratch. \n",
      "Successfully created /Users/niklas/Virtual_Environment/Version_5/projectAutonomous/2_Tensorflow/workspace/training/pre_trained_models from scratch. \n",
      "/Users/niklas/Virtual_Environment/Version_5/projectAutonomous/3_Output already exists..\n"
     ]
    }
   ],
   "source": [
    "import setup\n",
    "files, paths = setup.createFolderStructure(labels, home_path, system_id)"
   ]
  },
  {
   "cell_type": "code",
   "execution_count": 4,
   "id": "caaf9fcf",
   "metadata": {
    "colab": {
     "base_uri": "https://localhost:8080/"
    },
    "id": "caaf9fcf",
    "outputId": "5a85cbca-3f1d-4bd8-83a2-5ab37a2592e1"
   },
   "outputs": [
    {
     "name": "stdout",
     "output_type": "stream",
     "text": [
      "{'Car': 1, 'Mug': 2}\n"
     ]
    }
   ],
   "source": [
    "# Create dict with labels\n",
    "dict_labels = {}\n",
    "num = 1\n",
    "for label in labels:\n",
    "    dict_labels[label]= num\n",
    "    num += 1\n",
    "print(dict_labels)"
   ]
  },
  {
   "cell_type": "markdown",
   "id": "44d6bd0a",
   "metadata": {
    "id": "44d6bd0a"
   },
   "source": [
    "## 1.3 Installing Dependencies and importing modules"
   ]
  },
  {
   "cell_type": "code",
   "execution_count": 5,
   "id": "5e42ecf9",
   "metadata": {
    "colab": {
     "base_uri": "https://localhost:8080/"
    },
    "id": "5e42ecf9",
    "outputId": "693f87f6-7124-4fb1-a119-4293fb2df8be"
   },
   "outputs": [
    {
     "name": "stdout",
     "output_type": "stream",
     "text": [
      "OpenCV version 4.6.0 is already installed...\n"
     ]
    }
   ],
   "source": [
    "# Local machine\n",
    "if system_id == 0:\n",
    "    try:\n",
    "        import cv2 as cv\n",
    "        if cv.__version__ == \"4.6.0\":\n",
    "            print('OpenCV version 4.6.0 is already installed...')\n",
    "        else:\n",
    "            !pip uninstall opencv-python -y\n",
    "            !pip install opencv-python==4.6.0\n",
    "    except:\n",
    "            !pip uninstall opencv-python -y\n",
    "            !pip install opencv-python==4.6.0"
   ]
  },
  {
   "cell_type": "code",
   "execution_count": 6,
   "id": "01564f7e",
   "metadata": {
    "colab": {
     "base_uri": "https://localhost:8080/"
    },
    "id": "01564f7e",
    "outputId": "80d062bb-879c-4582-d893-a1ac930b1afd"
   },
   "outputs": [
    {
     "name": "stdout",
     "output_type": "stream",
     "text": [
      "Requirement already satisfied: wget in /Users/niklas/Virtual_Environment/Version_5/joshBakNew/lib/python3.9/site-packages (3.2)\r\n"
     ]
    }
   ],
   "source": [
    "!pip install wget"
   ]
  },
  {
   "cell_type": "code",
   "execution_count": 7,
   "id": "f4bb5647",
   "metadata": {
    "id": "f4bb5647"
   },
   "outputs": [],
   "source": [
    "import cv2 as cv\n",
    "\n",
    "import uuid\n",
    "\n",
    "import time\n",
    "\n",
    "import pathlib\n",
    "\n",
    "import shutil\n",
    "\n",
    "import math\n",
    "\n",
    "import wget"
   ]
  },
  {
   "cell_type": "markdown",
   "id": "520241f2",
   "metadata": {
    "id": "520241f2"
   },
   "source": [
    "# 3. Prepare Tensorflow Object Detection API"
   ]
  },
  {
   "cell_type": "markdown",
   "id": "2d900ebb",
   "metadata": {
    "id": "2d900ebb"
   },
   "source": [
    "## 3.1 Install dependencies"
   ]
  },
  {
   "cell_type": "code",
   "execution_count": 8,
   "id": "a7923f0c",
   "metadata": {
    "colab": {
     "base_uri": "https://localhost:8080/",
     "height": 0
    },
    "id": "a7923f0c",
    "outputId": "7707ed6e-a4f1-47aa-f963-8f5327cb7ddc"
   },
   "outputs": [
    {
     "name": "stdout",
     "output_type": "stream",
     "text": [
      "Collecting tensorflow==2.5.0\n",
      "  Using cached tensorflow-2.5.0-cp39-cp39-macosx_10_11_x86_64.whl (195.7 MB)\n",
      "Collecting tensorflow-estimator<2.6.0,>=2.5.0rc0\n",
      "  Using cached tensorflow_estimator-2.5.0-py2.py3-none-any.whl (462 kB)\n",
      "Requirement already satisfied: astunparse~=1.6.3 in /Users/niklas/Virtual_Environment/Version_5/joshBakNew/lib/python3.9/site-packages (from tensorflow==2.5.0) (1.6.3)\n",
      "Requirement already satisfied: h5py~=3.1.0 in /Users/niklas/Virtual_Environment/Version_5/joshBakNew/lib/python3.9/site-packages (from tensorflow==2.5.0) (3.1.0)\n",
      "Collecting absl-py~=0.10\n",
      "  Using cached absl_py-0.15.0-py3-none-any.whl (132 kB)\n",
      "Requirement already satisfied: keras-preprocessing~=1.1.2 in /Users/niklas/Virtual_Environment/Version_5/joshBakNew/lib/python3.9/site-packages (from tensorflow==2.5.0) (1.1.2)\n",
      "Requirement already satisfied: keras-nightly~=2.5.0.dev in /Users/niklas/Virtual_Environment/Version_5/joshBakNew/lib/python3.9/site-packages (from tensorflow==2.5.0) (2.5.0.dev2021032900)\n",
      "Requirement already satisfied: wrapt~=1.12.1 in /Users/niklas/Virtual_Environment/Version_5/joshBakNew/lib/python3.9/site-packages (from tensorflow==2.5.0) (1.12.1)\n",
      "Requirement already satisfied: grpcio~=1.34.0 in /Users/niklas/Virtual_Environment/Version_5/joshBakNew/lib/python3.9/site-packages (from tensorflow==2.5.0) (1.34.1)\n",
      "Requirement already satisfied: protobuf>=3.9.2 in /Users/niklas/Virtual_Environment/Version_5/joshBakNew/lib/python3.9/site-packages (from tensorflow==2.5.0) (3.19.4)\n",
      "Requirement already satisfied: flatbuffers~=1.12.0 in /Users/niklas/Virtual_Environment/Version_5/joshBakNew/lib/python3.9/site-packages (from tensorflow==2.5.0) (1.12)\n",
      "Requirement already satisfied: six~=1.15.0 in /Users/niklas/Virtual_Environment/Version_5/joshBakNew/lib/python3.9/site-packages (from tensorflow==2.5.0) (1.15.0)\n",
      "Requirement already satisfied: wheel~=0.35 in /Users/niklas/Virtual_Environment/Version_5/joshBakNew/lib/python3.9/site-packages (from tensorflow==2.5.0) (0.37.1)\n",
      "Requirement already satisfied: termcolor~=1.1.0 in /Users/niklas/Virtual_Environment/Version_5/joshBakNew/lib/python3.9/site-packages (from tensorflow==2.5.0) (1.1.0)\n",
      "Requirement already satisfied: opt-einsum~=3.3.0 in /Users/niklas/Virtual_Environment/Version_5/joshBakNew/lib/python3.9/site-packages (from tensorflow==2.5.0) (3.3.0)\n",
      "Collecting numpy~=1.19.2\n",
      "  Using cached numpy-1.19.5-cp39-cp39-macosx_10_9_x86_64.whl (15.6 MB)\n",
      "Requirement already satisfied: google-pasta~=0.2 in /Users/niklas/Virtual_Environment/Version_5/joshBakNew/lib/python3.9/site-packages (from tensorflow==2.5.0) (0.2.0)\n",
      "Requirement already satisfied: typing-extensions~=3.7.4 in /Users/niklas/Virtual_Environment/Version_5/joshBakNew/lib/python3.9/site-packages (from tensorflow==2.5.0) (3.7.4.3)\n",
      "Requirement already satisfied: gast==0.4.0 in /Users/niklas/Virtual_Environment/Version_5/joshBakNew/lib/python3.9/site-packages (from tensorflow==2.5.0) (0.4.0)\n",
      "Requirement already satisfied: tensorboard~=2.5 in /Users/niklas/Virtual_Environment/Version_5/joshBakNew/lib/python3.9/site-packages (from tensorflow==2.5.0) (2.9.1)\n",
      "Requirement already satisfied: tensorboard-plugin-wit>=1.6.0 in /Users/niklas/Virtual_Environment/Version_5/joshBakNew/lib/python3.9/site-packages (from tensorboard~=2.5->tensorflow==2.5.0) (1.8.1)\n",
      "Requirement already satisfied: setuptools>=41.0.0 in /Users/niklas/Virtual_Environment/Version_5/joshBakNew/lib/python3.9/site-packages (from tensorboard~=2.5->tensorflow==2.5.0) (56.0.0)\n",
      "Requirement already satisfied: google-auth<3,>=1.6.3 in /Users/niklas/Virtual_Environment/Version_5/joshBakNew/lib/python3.9/site-packages (from tensorboard~=2.5->tensorflow==2.5.0) (2.10.0)\n",
      "Requirement already satisfied: markdown>=2.6.8 in /Users/niklas/Virtual_Environment/Version_5/joshBakNew/lib/python3.9/site-packages (from tensorboard~=2.5->tensorflow==2.5.0) (3.4.1)\n",
      "Requirement already satisfied: requests<3,>=2.21.0 in /Users/niklas/Virtual_Environment/Version_5/joshBakNew/lib/python3.9/site-packages (from tensorboard~=2.5->tensorflow==2.5.0) (2.28.1)\n",
      "Requirement already satisfied: tensorboard-data-server<0.7.0,>=0.6.0 in /Users/niklas/Virtual_Environment/Version_5/joshBakNew/lib/python3.9/site-packages (from tensorboard~=2.5->tensorflow==2.5.0) (0.6.1)\n",
      "Requirement already satisfied: werkzeug>=1.0.1 in /Users/niklas/Virtual_Environment/Version_5/joshBakNew/lib/python3.9/site-packages (from tensorboard~=2.5->tensorflow==2.5.0) (2.2.1)\n",
      "Requirement already satisfied: google-auth-oauthlib<0.5,>=0.4.1 in /Users/niklas/Virtual_Environment/Version_5/joshBakNew/lib/python3.9/site-packages (from tensorboard~=2.5->tensorflow==2.5.0) (0.4.6)\n",
      "Requirement already satisfied: pyasn1-modules>=0.2.1 in /Users/niklas/Virtual_Environment/Version_5/joshBakNew/lib/python3.9/site-packages (from google-auth<3,>=1.6.3->tensorboard~=2.5->tensorflow==2.5.0) (0.2.8)\n",
      "Requirement already satisfied: cachetools<6.0,>=2.0.0 in /Users/niklas/Virtual_Environment/Version_5/joshBakNew/lib/python3.9/site-packages (from google-auth<3,>=1.6.3->tensorboard~=2.5->tensorflow==2.5.0) (5.2.0)\n",
      "Requirement already satisfied: rsa<5,>=3.1.4 in /Users/niklas/Virtual_Environment/Version_5/joshBakNew/lib/python3.9/site-packages (from google-auth<3,>=1.6.3->tensorboard~=2.5->tensorflow==2.5.0) (4.9)\n",
      "Requirement already satisfied: requests-oauthlib>=0.7.0 in /Users/niklas/Virtual_Environment/Version_5/joshBakNew/lib/python3.9/site-packages (from google-auth-oauthlib<0.5,>=0.4.1->tensorboard~=2.5->tensorflow==2.5.0) (1.3.1)\n",
      "Requirement already satisfied: importlib-metadata>=4.4 in /Users/niklas/Virtual_Environment/Version_5/joshBakNew/lib/python3.9/site-packages (from markdown>=2.6.8->tensorboard~=2.5->tensorflow==2.5.0) (4.12.0)\n",
      "Requirement already satisfied: charset-normalizer<3,>=2 in /Users/niklas/Virtual_Environment/Version_5/joshBakNew/lib/python3.9/site-packages (from requests<3,>=2.21.0->tensorboard~=2.5->tensorflow==2.5.0) (2.1.0)\n",
      "Requirement already satisfied: idna<4,>=2.5 in /Users/niklas/Virtual_Environment/Version_5/joshBakNew/lib/python3.9/site-packages (from requests<3,>=2.21.0->tensorboard~=2.5->tensorflow==2.5.0) (3.3)\n",
      "Requirement already satisfied: urllib3<1.27,>=1.21.1 in /Users/niklas/Virtual_Environment/Version_5/joshBakNew/lib/python3.9/site-packages (from requests<3,>=2.21.0->tensorboard~=2.5->tensorflow==2.5.0) (1.26.11)\n",
      "Requirement already satisfied: certifi>=2017.4.17 in /Users/niklas/Virtual_Environment/Version_5/joshBakNew/lib/python3.9/site-packages (from requests<3,>=2.21.0->tensorboard~=2.5->tensorflow==2.5.0) (2022.6.15)\n",
      "Requirement already satisfied: MarkupSafe>=2.1.1 in /Users/niklas/Virtual_Environment/Version_5/joshBakNew/lib/python3.9/site-packages (from werkzeug>=1.0.1->tensorboard~=2.5->tensorflow==2.5.0) (2.1.1)\n",
      "Requirement already satisfied: zipp>=0.5 in /Users/niklas/Virtual_Environment/Version_5/joshBakNew/lib/python3.9/site-packages (from importlib-metadata>=4.4->markdown>=2.6.8->tensorboard~=2.5->tensorflow==2.5.0) (3.8.1)\n",
      "Requirement already satisfied: pyasn1<0.5.0,>=0.4.6 in /Users/niklas/Virtual_Environment/Version_5/joshBakNew/lib/python3.9/site-packages (from pyasn1-modules>=0.2.1->google-auth<3,>=1.6.3->tensorboard~=2.5->tensorflow==2.5.0) (0.4.8)\n",
      "Requirement already satisfied: oauthlib>=3.0.0 in /Users/niklas/Virtual_Environment/Version_5/joshBakNew/lib/python3.9/site-packages (from requests-oauthlib>=0.7.0->google-auth-oauthlib<0.5,>=0.4.1->tensorboard~=2.5->tensorflow==2.5.0) (3.2.0)\n",
      "Installing collected packages: tensorflow-estimator, numpy, absl-py, tensorflow\n",
      "  Attempting uninstall: tensorflow-estimator\n",
      "    Found existing installation: tensorflow-estimator 2.9.0\n",
      "    Uninstalling tensorflow-estimator-2.9.0:\n",
      "      Successfully uninstalled tensorflow-estimator-2.9.0\n",
      "  Attempting uninstall: numpy\n",
      "    Found existing installation: numpy 1.22.4\n",
      "    Uninstalling numpy-1.22.4:\n",
      "      Successfully uninstalled numpy-1.22.4\n",
      "  Attempting uninstall: absl-py\n",
      "    Found existing installation: absl-py 1.2.0\n",
      "    Uninstalling absl-py-1.2.0:\n",
      "      Successfully uninstalled absl-py-1.2.0\n",
      "  Attempting uninstall: tensorflow\n",
      "    Found existing installation: tensorflow 2.9.1\n",
      "    Uninstalling tensorflow-2.9.1:\n",
      "      Successfully uninstalled tensorflow-2.9.1\n"
     ]
    },
    {
     "name": "stdout",
     "output_type": "stream",
     "text": [
      "\u001b[31mERROR: pip's dependency resolver does not currently take into account all the packages that are installed. This behaviour is the source of the following dependency conflicts.\r\n",
      "tf-models-official 2.9.2 requires numpy>=1.20, but you have numpy 1.19.5 which is incompatible.\r\n",
      "tf-models-official 2.9.2 requires tensorflow~=2.9.0, but you have tensorflow 2.5.0 which is incompatible.\r\n",
      "tensorflow-text 2.9.0 requires tensorflow<2.10,>=2.9.0; platform_machine != \"arm64\" or platform_system != \"Darwin\", but you have tensorflow 2.5.0 which is incompatible.\u001b[0m\u001b[31m\r\n",
      "\u001b[0mSuccessfully installed absl-py-0.15.0 numpy-1.19.5 tensorflow-2.5.0 tensorflow-estimator-2.5.0\r\n"
     ]
    }
   ],
   "source": [
    "# Local machine\n",
    "if system_id == 0:\n",
    "    try:\n",
    "        import tensorflow as tf\n",
    "        if tf.__version__ == \"2.5.0\":\n",
    "            print('Tenforflow version 2.5.0 is already installed...')\n",
    "        else:\n",
    "            !pip install tensorflow==2.5.0\n",
    "    except:\n",
    "        !pip install tensorflow==2.5.0\n",
    "\n",
    "# Google colab    \n",
    "elif system_id == 1:\n",
    "    !pip install tensorflow-gpu==2.5.0 \n",
    "\n",
    "else:\n",
    "    print('No operating system was defined...')"
   ]
  },
  {
   "cell_type": "code",
   "execution_count": 9,
   "id": "e16c0b45",
   "metadata": {
    "colab": {
     "base_uri": "https://localhost:8080/"
    },
    "id": "e16c0b45",
    "outputId": "b678b7d5-2978-4ad5-d083-b5afcbe9ddc4"
   },
   "outputs": [
    {
     "name": "stdout",
     "output_type": "stream",
     "text": [
      "Cloning model garden..\n",
      "Cloning into 'models'...\n",
      "remote: Enumerating objects: 75999, done.\u001b[K\n",
      "remote: Counting objects: 100% (461/461), done.\u001b[K\n",
      "remote: Compressing objects: 100% (254/254), done.\u001b[K\n",
      "remote: Total 75999 (delta 251), reused 394 (delta 204), pack-reused 75538\u001b[K\n",
      "Receiving objects: 100% (75999/75999), 589.46 MiB | 9.71 MiB/s, done.\n",
      "Resolving deltas: 100% (53862/53862), done.\n",
      "Updating files: 100% (3117/3117), done.\n"
     ]
    }
   ],
   "source": [
    "# Download the model garden (model garden is an environment that is necessary to train new models from scratch or to continue training existing models)\n",
    "# The model itself will be downloaded later\n",
    "\n",
    "# Clone repository only if it does not exist already\n",
    "os.chdir(paths['2_Tensorflow'])\n",
    "if os.path.exists(paths['2_Tensorflow']+'/models/research') is False:\n",
    "    print('Cloning model garden..')\n",
    "    !git clone https://github.com/tensorflow/models.git\n",
    "    \n",
    "else:\n",
    "    print('Model garden is already installed...')\n",
    "    \n",
    "os.chdir(paths['home'])"
   ]
  },
  {
   "cell_type": "code",
   "execution_count": 10,
   "id": "1c6592a9",
   "metadata": {
    "id": "1c6592a9"
   },
   "outputs": [
    {
     "name": "stdout",
     "output_type": "stream",
     "text": [
      "\r\n",
      "  0% [                                                      ]       0 / 1357797\r\n",
      "  0% [                                                      ]    8192 / 1357797\r\n",
      "  1% [                                                      ]   16384 / 1357797\r\n",
      "  1% [                                                      ]   24576 / 1357797\r\n",
      "  2% [.                                                     ]   32768 / 1357797\r\n",
      "  3% [.                                                     ]   40960 / 1357797\r\n",
      "  3% [.                                                     ]   49152 / 1357797\r\n",
      "  4% [..                                                    ]   57344 / 1357797\r\n",
      "  4% [..                                                    ]   65536 / 1357797\r\n",
      "  5% [..                                                    ]   73728 / 1357797\r\n",
      "  6% [...                                                   ]   81920 / 1357797\r\n",
      "  6% [...                                                   ]   90112 / 1357797\r\n",
      "  7% [...                                                   ]   98304 / 1357797\r\n",
      "  7% [....                                                  ]  106496 / 1357797\r\n",
      "  8% [....                                                  ]  114688 / 1357797\r\n",
      "  9% [....                                                  ]  122880 / 1357797\r\n",
      "  9% [.....                                                 ]  131072 / 1357797\r\n",
      " 10% [.....                                                 ]  139264 / 1357797\r\n",
      " 10% [.....                                                 ]  147456 / 1357797\r\n",
      " 11% [......                                                ]  155648 / 1357797\r\n",
      " 12% [......                                                ]  163840 / 1357797\r\n",
      " 12% [......                                                ]  172032 / 1357797\r\n",
      " 13% [.......                                               ]  180224 / 1357797\r\n",
      " 13% [.......                                               ]  188416 / 1357797\r\n",
      " 14% [.......                                               ]  196608 / 1357797\r\n",
      " 15% [........                                              ]  204800 / 1357797\r\n",
      " 15% [........                                              ]  212992 / 1357797\r\n",
      " 16% [........                                              ]  221184 / 1357797\r\n",
      " 16% [.........                                             ]  229376 / 1357797\r\n",
      " 17% [.........                                             ]  237568 / 1357797\r\n",
      " 18% [.........                                             ]  245760 / 1357797\r\n",
      " 18% [..........                                            ]  253952 / 1357797\r\n",
      " 19% [..........                                            ]  262144 / 1357797\r\n",
      " 19% [..........                                            ]  270336 / 1357797\r\n",
      " 20% [...........                                           ]  278528 / 1357797\r\n",
      " 21% [...........                                           ]  286720 / 1357797\r\n",
      " 21% [...........                                           ]  294912 / 1357797\r\n",
      " 22% [............                                          ]  303104 / 1357797\r\n",
      " 22% [............                                          ]  311296 / 1357797\r\n",
      " 23% [............                                          ]  319488 / 1357797\r\n",
      " 24% [.............                                         ]  327680 / 1357797\r\n",
      " 24% [.............                                         ]  335872 / 1357797\r\n",
      " 25% [.............                                         ]  344064 / 1357797\r\n",
      " 25% [..............                                        ]  352256 / 1357797\r\n",
      " 26% [..............                                        ]  360448 / 1357797\r\n",
      " 27% [..............                                        ]  368640 / 1357797\r\n",
      " 27% [..............                                        ]  376832 / 1357797\r\n",
      " 28% [...............                                       ]  385024 / 1357797\r\n",
      " 28% [...............                                       ]  393216 / 1357797\r\n",
      " 29% [...............                                       ]  401408 / 1357797\r\n",
      " 30% [................                                      ]  409600 / 1357797\r\n",
      " 30% [................                                      ]  417792 / 1357797\r\n",
      " 31% [................                                      ]  425984 / 1357797\r\n",
      " 31% [.................                                     ]  434176 / 1357797\r\n",
      " 32% [.................                                     ]  442368 / 1357797\r\n",
      " 33% [.................                                     ]  450560 / 1357797\r\n",
      " 33% [..................                                    ]  458752 / 1357797\r\n",
      " 34% [..................                                    ]  466944 / 1357797\r\n",
      " 34% [..................                                    ]  475136 / 1357797\r\n",
      " 35% [...................                                   ]  483328 / 1357797\r\n",
      " 36% [...................                                   ]  491520 / 1357797\r\n",
      " 36% [...................                                   ]  499712 / 1357797\r\n",
      " 37% [....................                                  ]  507904 / 1357797\r\n",
      " 38% [....................                                  ]  516096 / 1357797\r\n",
      " 38% [....................                                  ]  524288 / 1357797\r\n",
      " 39% [.....................                                 ]  532480 / 1357797\r\n",
      " 39% [.....................                                 ]  540672 / 1357797\r\n",
      " 40% [.....................                                 ]  548864 / 1357797\r\n",
      " 41% [......................                                ]  557056 / 1357797\r\n",
      " 41% [......................                                ]  565248 / 1357797\r\n",
      " 42% [......................                                ]  573440 / 1357797\r\n",
      " 42% [.......................                               ]  581632 / 1357797\r\n",
      " 43% [.......................                               ]  589824 / 1357797\r\n",
      " 44% [.......................                               ]  598016 / 1357797\r\n",
      " 44% [........................                              ]  606208 / 1357797\r\n",
      " 45% [........................                              ]  614400 / 1357797\r\n",
      " 45% [........................                              ]  622592 / 1357797\r\n",
      " 46% [.........................                             ]  630784 / 1357797\r\n",
      " 47% [.........................                             ]  638976 / 1357797\r\n",
      " 47% [.........................                             ]  647168 / 1357797\r\n",
      " 48% [..........................                            ]  655360 / 1357797\r\n",
      " 48% [..........................                            ]  663552 / 1357797\r\n",
      " 49% [..........................                            ]  671744 / 1357797\r\n",
      " 50% [...........................                           ]  679936 / 1357797\r\n",
      " 50% [...........................                           ]  688128 / 1357797\r\n",
      " 51% [...........................                           ]  696320 / 1357797\r\n",
      " 51% [............................                          ]  704512 / 1357797\r\n",
      " 52% [............................                          ]  712704 / 1357797\r\n",
      " 53% [............................                          ]  720896 / 1357797\r\n",
      " 53% [............................                          ]  729088 / 1357797\r\n",
      " 54% [.............................                         ]  737280 / 1357797\r\n",
      " 54% [.............................                         ]  745472 / 1357797\r\n",
      " 55% [.............................                         ]  753664 / 1357797\r\n",
      " 56% [..............................                        ]  761856 / 1357797\r\n",
      " 56% [..............................                        ]  770048 / 1357797\r\n",
      " 57% [..............................                        ]  778240 / 1357797\r\n",
      " 57% [...............................                       ]  786432 / 1357797\r\n",
      " 58% [...............................                       ]  794624 / 1357797\r\n",
      " 59% [...............................                       ]  802816 / 1357797\r\n",
      " 59% [................................                      ]  811008 / 1357797\r\n",
      " 60% [................................                      ]  819200 / 1357797\r\n",
      " 60% [................................                      ]  827392 / 1357797\r\n",
      " 61% [.................................                     ]  835584 / 1357797\r\n",
      " 62% [.................................                     ]  843776 / 1357797\r\n",
      " 62% [.................................                     ]  851968 / 1357797\r\n",
      " 63% [..................................                    ]  860160 / 1357797\r\n",
      " 63% [..................................                    ]  868352 / 1357797\r\n",
      " 64% [..................................                    ]  876544 / 1357797\r\n",
      " 65% [...................................                   ]  884736 / 1357797\r\n",
      " 65% [...................................                   ]  892928 / 1357797\r\n",
      " 66% [...................................                   ]  901120 / 1357797\r\n",
      " 66% [....................................                  ]  909312 / 1357797\r\n",
      " 67% [....................................                  ]  917504 / 1357797\r\n",
      " 68% [....................................                  ]  925696 / 1357797\r\n",
      " 68% [.....................................                 ]  933888 / 1357797\r\n",
      " 69% [.....................................                 ]  942080 / 1357797\r\n",
      " 69% [.....................................                 ]  950272 / 1357797"
     ]
    },
    {
     "name": "stdout",
     "output_type": "stream",
     "text": [
      "100% [......................................................] 1357797 / 1357797"
     ]
    }
   ],
   "source": [
    "# Install protobuf\n",
    "if os.path.exists(paths['2_Tensorflow']+'/protoc/protoc-21.1-osx-aarch_64.zip') is False:\n",
    "\n",
    "    # Go to destination directory\n",
    "    os.chdir(paths['protoc'])\n",
    "    protoc_url = 'https://github.com/protocolbuffers/protobuf/releases/download/v21.1/protoc-21.1-osx-aarch_64.zip'\n",
    "    wget.download(protoc_url)\n",
    "\n",
    "    # Extract all content of downloaded file\n",
    "    from zipfile import ZipFile\n",
    "\n",
    "    with ZipFile('protoc-21.1-osx-aarch_64.zip', 'r') as zipObj:\n",
    "        zipObj.extractall()\n",
    "\n",
    "    os.environ['Path'] = paths['protoc']+'/bin'\n",
    "    os.chdir(paths['research'])\n",
    "\n",
    "    !protoc object_detection/protos/*.proto --python_out=.\n",
    "\n",
    "else:\n",
    "    print('Protobuf is already installed...')\n",
    "    \n",
    "os.chdir(paths['home'])"
   ]
  },
  {
   "cell_type": "code",
   "execution_count": 11,
   "id": "06ec3dc7",
   "metadata": {
    "colab": {
     "base_uri": "https://localhost:8080/"
    },
    "id": "06ec3dc7",
    "outputId": "701dfb16-7d67-4fc8-bf5f-daabcbc1f029"
   },
   "outputs": [
    {
     "name": "stdout",
     "output_type": "stream",
     "text": [
      "Cloning cocoapi..\n",
      "Cloning into 'cocoapi'...\n",
      "remote: Enumerating objects: 975, done.\u001b[K\n",
      "remote: Total 975 (delta 0), reused 0 (delta 0), pack-reused 975\u001b[K\n",
      "Receiving objects: 100% (975/975), 11.72 MiB | 6.50 MiB/s, done.\n",
      "Resolving deltas: 100% (576/576), done.\n"
     ]
    }
   ],
   "source": [
    "# Install pycocotools\n",
    "\n",
    "# Clone repository only if it does not exist already\n",
    "if os.path.exists(paths['research']+'/cocoapi') is False:\n",
    "    print('Cloning cocoapi..')\n",
    "    !git clone https://github.com/cocodataset/cocoapi.git\n",
    "    \n",
    "    # Moving cloned file to 'research' folder\n",
    "    destination = paths['research']\n",
    "    source = paths['home']+'/cocoapi'\n",
    "    shutil.move(source, destination)\n",
    "    \n",
    "else:\n",
    "    print('Cocoapi is already installed...')\n",
    "\n",
    "os.chdir(paths['home'])"
   ]
  },
  {
   "cell_type": "markdown",
   "id": "fe70c4aa",
   "metadata": {
    "id": "fe70c4aa"
   },
   "source": [
    "## 3.2 Install Tensorflow Object Detection API"
   ]
  },
  {
   "cell_type": "code",
   "execution_count": 12,
   "id": "b2d18cae",
   "metadata": {
    "colab": {
     "base_uri": "https://localhost:8080/"
    },
    "id": "b2d18cae",
    "outputId": "c8d449f3-d8d7-49bd-a822-f253526fbec1"
   },
   "outputs": [
    {
     "name": "stdout",
     "output_type": "stream",
     "text": [
      "Installing setup.py...\n",
      "Processing /Users/niklas/Virtual_Environment/Version_5/projectAutonomous/2_Tensorflow/models/research\n",
      "  Preparing metadata (setup.py) ... \u001b[?25ldone\n",
      "\u001b[?25hRequirement already satisfied: avro-python3 in /Users/niklas/Virtual_Environment/Version_5/joshBakNew/lib/python3.9/site-packages (from object-detection==0.1) (1.10.2)\n",
      "Requirement already satisfied: apache-beam in /Users/niklas/Virtual_Environment/Version_5/joshBakNew/lib/python3.9/site-packages (from object-detection==0.1) (2.40.0)\n",
      "Requirement already satisfied: pillow in /Users/niklas/Virtual_Environment/Version_5/joshBakNew/lib/python3.9/site-packages (from object-detection==0.1) (9.2.0)\n",
      "Requirement already satisfied: lxml in /Users/niklas/Virtual_Environment/Version_5/joshBakNew/lib/python3.9/site-packages (from object-detection==0.1) (4.9.1)\n",
      "Requirement already satisfied: matplotlib in /Users/niklas/Virtual_Environment/Version_5/joshBakNew/lib/python3.9/site-packages (from object-detection==0.1) (3.5.2)\n",
      "Requirement already satisfied: Cython in /Users/niklas/Virtual_Environment/Version_5/joshBakNew/lib/python3.9/site-packages (from object-detection==0.1) (0.29.32)\n",
      "Requirement already satisfied: contextlib2 in /Users/niklas/Virtual_Environment/Version_5/joshBakNew/lib/python3.9/site-packages (from object-detection==0.1) (21.6.0)\n",
      "Requirement already satisfied: tf-slim in /Users/niklas/Virtual_Environment/Version_5/joshBakNew/lib/python3.9/site-packages (from object-detection==0.1) (1.1.0)\n",
      "Requirement already satisfied: six in /Users/niklas/Virtual_Environment/Version_5/joshBakNew/lib/python3.9/site-packages (from object-detection==0.1) (1.15.0)\n",
      "Requirement already satisfied: pycocotools in /Users/niklas/Virtual_Environment/Version_5/joshBakNew/lib/python3.9/site-packages (from object-detection==0.1) (2.0.4)\n",
      "Requirement already satisfied: lvis in /Users/niklas/Virtual_Environment/Version_5/joshBakNew/lib/python3.9/site-packages (from object-detection==0.1) (0.5.3)\n",
      "Requirement already satisfied: scipy in /Users/niklas/Virtual_Environment/Version_5/joshBakNew/lib/python3.9/site-packages (from object-detection==0.1) (1.9.0)\n",
      "Requirement already satisfied: pandas in /Users/niklas/Virtual_Environment/Version_5/joshBakNew/lib/python3.9/site-packages (from object-detection==0.1) (1.4.3)\n",
      "Requirement already satisfied: tf-models-official>=2.5.1 in /Users/niklas/Virtual_Environment/Version_5/joshBakNew/lib/python3.9/site-packages (from object-detection==0.1) (2.9.2)\n",
      "Requirement already satisfied: tensorflow_io in /Users/niklas/Virtual_Environment/Version_5/joshBakNew/lib/python3.9/site-packages (from object-detection==0.1) (0.26.0)\n",
      "Requirement already satisfied: keras in /Users/niklas/Virtual_Environment/Version_5/joshBakNew/lib/python3.9/site-packages (from object-detection==0.1) (2.9.0)\n",
      "Requirement already satisfied: pyparsing==2.4.7 in /Users/niklas/Virtual_Environment/Version_5/joshBakNew/lib/python3.9/site-packages (from object-detection==0.1) (2.4.7)\n",
      "Requirement already satisfied: google-api-python-client>=1.6.7 in /Users/niklas/Virtual_Environment/Version_5/joshBakNew/lib/python3.9/site-packages (from tf-models-official>=2.5.1->object-detection==0.1) (2.55.0)\n",
      "Requirement already satisfied: opencv-python-headless in /Users/niklas/Virtual_Environment/Version_5/joshBakNew/lib/python3.9/site-packages (from tf-models-official>=2.5.1->object-detection==0.1) (4.6.0.66)\n",
      "Requirement already satisfied: tensorflow-text~=2.9.0 in /Users/niklas/Virtual_Environment/Version_5/joshBakNew/lib/python3.9/site-packages (from tf-models-official>=2.5.1->object-detection==0.1) (2.9.0)\n",
      "Collecting numpy>=1.20\n",
      "  Using cached numpy-1.23.1-cp39-cp39-macosx_10_9_x86_64.whl (18.1 MB)\n",
      "Requirement already satisfied: py-cpuinfo>=3.3.0 in /Users/niklas/Virtual_Environment/Version_5/joshBakNew/lib/python3.9/site-packages (from tf-models-official>=2.5.1->object-detection==0.1) (8.0.0)\n",
      "Requirement already satisfied: tensorflow-hub>=0.6.0 in /Users/niklas/Virtual_Environment/Version_5/joshBakNew/lib/python3.9/site-packages (from tf-models-official>=2.5.1->object-detection==0.1) (0.12.0)\n",
      "Requirement already satisfied: sacrebleu in /Users/niklas/Virtual_Environment/Version_5/joshBakNew/lib/python3.9/site-packages (from tf-models-official>=2.5.1->object-detection==0.1) (2.2.0)\n",
      "Requirement already satisfied: pyyaml<6.0,>=5.1 in /Users/niklas/Virtual_Environment/Version_5/joshBakNew/lib/python3.9/site-packages (from tf-models-official>=2.5.1->object-detection==0.1) (5.4.1)\n",
      "Requirement already satisfied: tensorflow-datasets in /Users/niklas/Virtual_Environment/Version_5/joshBakNew/lib/python3.9/site-packages (from tf-models-official>=2.5.1->object-detection==0.1) (4.6.0)\n",
      "Requirement already satisfied: seqeval in /Users/niklas/Virtual_Environment/Version_5/joshBakNew/lib/python3.9/site-packages (from tf-models-official>=2.5.1->object-detection==0.1) (1.2.2)\n",
      "Requirement already satisfied: tensorflow-addons in /Users/niklas/Virtual_Environment/Version_5/joshBakNew/lib/python3.9/site-packages (from tf-models-official>=2.5.1->object-detection==0.1) (0.17.1)\n",
      "Requirement already satisfied: tensorflow-model-optimization>=0.4.1 in /Users/niklas/Virtual_Environment/Version_5/joshBakNew/lib/python3.9/site-packages (from tf-models-official>=2.5.1->object-detection==0.1) (0.7.3)\n",
      "Requirement already satisfied: kaggle>=1.3.9 in /Users/niklas/Virtual_Environment/Version_5/joshBakNew/lib/python3.9/site-packages (from tf-models-official>=2.5.1->object-detection==0.1) (1.5.12)\n",
      "Requirement already satisfied: oauth2client in /Users/niklas/Virtual_Environment/Version_5/joshBakNew/lib/python3.9/site-packages (from tf-models-official>=2.5.1->object-detection==0.1) (4.1.3)\n",
      "Requirement already satisfied: sentencepiece in /Users/niklas/Virtual_Environment/Version_5/joshBakNew/lib/python3.9/site-packages (from tf-models-official>=2.5.1->object-detection==0.1) (0.1.97)\n",
      "Requirement already satisfied: gin-config in /Users/niklas/Virtual_Environment/Version_5/joshBakNew/lib/python3.9/site-packages (from tf-models-official>=2.5.1->object-detection==0.1) (0.5.0)\n",
      "Collecting tensorflow~=2.9.0\n",
      "  Using cached tensorflow-2.9.1-cp39-cp39-macosx_10_14_x86_64.whl (228.5 MB)\n",
      "Requirement already satisfied: psutil>=5.4.3 in /Users/niklas/Virtual_Environment/Version_5/joshBakNew/lib/python3.9/site-packages (from tf-models-official>=2.5.1->object-detection==0.1) (5.9.1)\n",
      "Requirement already satisfied: python-dateutil>=2.8.1 in /Users/niklas/Virtual_Environment/Version_5/joshBakNew/lib/python3.9/site-packages (from pandas->object-detection==0.1) (2.8.2)\n",
      "Requirement already satisfied: pytz>=2020.1 in /Users/niklas/Virtual_Environment/Version_5/joshBakNew/lib/python3.9/site-packages (from pandas->object-detection==0.1) (2022.1)\n",
      "Requirement already satisfied: absl-py>=0.2.2 in /Users/niklas/Virtual_Environment/Version_5/joshBakNew/lib/python3.9/site-packages (from tf-slim->object-detection==0.1) (0.15.0)\n",
      "Requirement already satisfied: requests<3.0.0,>=2.24.0 in /Users/niklas/Virtual_Environment/Version_5/joshBakNew/lib/python3.9/site-packages (from apache-beam->object-detection==0.1) (2.28.1)\n",
      "Requirement already satisfied: cloudpickle<3,>=2.1.0 in /Users/niklas/Virtual_Environment/Version_5/joshBakNew/lib/python3.9/site-packages (from apache-beam->object-detection==0.1) (2.1.0)\n",
      "Requirement already satisfied: fastavro<2,>=0.23.6 in /Users/niklas/Virtual_Environment/Version_5/joshBakNew/lib/python3.9/site-packages (from apache-beam->object-detection==0.1) (1.5.4)\n",
      "Requirement already satisfied: grpcio<2,>=1.33.1 in /Users/niklas/Virtual_Environment/Version_5/joshBakNew/lib/python3.9/site-packages (from apache-beam->object-detection==0.1) (1.34.1)\n",
      "Requirement already satisfied: pydot<2,>=1.2.0 in /Users/niklas/Virtual_Environment/Version_5/joshBakNew/lib/python3.9/site-packages (from apache-beam->object-detection==0.1) (1.4.2)\n",
      "Requirement already satisfied: crcmod<2.0,>=1.7 in /Users/niklas/Virtual_Environment/Version_5/joshBakNew/lib/python3.9/site-packages (from apache-beam->object-detection==0.1) (1.7)\n",
      "Requirement already satisfied: dill<0.3.2,>=0.3.1.1 in /Users/niklas/Virtual_Environment/Version_5/joshBakNew/lib/python3.9/site-packages (from apache-beam->object-detection==0.1) (0.3.1.1)\n",
      "Requirement already satisfied: hdfs<3.0.0,>=2.1.0 in /Users/niklas/Virtual_Environment/Version_5/joshBakNew/lib/python3.9/site-packages (from apache-beam->object-detection==0.1) (2.7.0)\n",
      "Requirement already satisfied: pymongo<4.0.0,>=3.8.0 in /Users/niklas/Virtual_Environment/Version_5/joshBakNew/lib/python3.9/site-packages (from apache-beam->object-detection==0.1) (3.12.3)\n",
      "Requirement already satisfied: pyarrow<8.0.0,>=0.15.1 in /Users/niklas/Virtual_Environment/Version_5/joshBakNew/lib/python3.9/site-packages (from apache-beam->object-detection==0.1) (7.0.0)\n",
      "Requirement already satisfied: httplib2<0.21.0,>=0.8 in /Users/niklas/Virtual_Environment/Version_5/joshBakNew/lib/python3.9/site-packages (from apache-beam->object-detection==0.1) (0.20.4)\n"
     ]
    },
    {
     "name": "stdout",
     "output_type": "stream",
     "text": [
      "Collecting numpy>=1.20\n",
      "  Using cached numpy-1.22.4-cp39-cp39-macosx_10_15_x86_64.whl (17.7 MB)\n",
      "Requirement already satisfied: typing-extensions>=3.7.0 in /Users/niklas/Virtual_Environment/Version_5/joshBakNew/lib/python3.9/site-packages (from apache-beam->object-detection==0.1) (3.7.4.3)\n",
      "Requirement already satisfied: protobuf<4,>=3.12.2 in /Users/niklas/Virtual_Environment/Version_5/joshBakNew/lib/python3.9/site-packages (from apache-beam->object-detection==0.1) (3.19.4)\n",
      "Requirement already satisfied: proto-plus<2,>=1.7.1 in /Users/niklas/Virtual_Environment/Version_5/joshBakNew/lib/python3.9/site-packages (from apache-beam->object-detection==0.1) (1.20.6)\n",
      "Requirement already satisfied: orjson<4.0 in /Users/niklas/Virtual_Environment/Version_5/joshBakNew/lib/python3.9/site-packages (from apache-beam->object-detection==0.1) (3.7.11)\n",
      "Requirement already satisfied: cycler>=0.10.0 in /Users/niklas/Virtual_Environment/Version_5/joshBakNew/lib/python3.9/site-packages (from lvis->object-detection==0.1) (0.11.0)\n",
      "Requirement already satisfied: opencv-python>=4.1.0.25 in /Users/niklas/Virtual_Environment/Version_5/joshBakNew/lib/python3.9/site-packages (from lvis->object-detection==0.1) (4.6.0.66)\n",
      "Requirement already satisfied: kiwisolver>=1.1.0 in /Users/niklas/Virtual_Environment/Version_5/joshBakNew/lib/python3.9/site-packages (from lvis->object-detection==0.1) (1.4.4)\n",
      "Requirement already satisfied: packaging>=20.0 in /Users/niklas/Virtual_Environment/Version_5/joshBakNew/lib/python3.9/site-packages (from matplotlib->object-detection==0.1) (21.3)\n",
      "Requirement already satisfied: fonttools>=4.22.0 in /Users/niklas/Virtual_Environment/Version_5/joshBakNew/lib/python3.9/site-packages (from matplotlib->object-detection==0.1) (4.34.4)\n",
      "Requirement already satisfied: tensorflow-io-gcs-filesystem==0.26.0 in /Users/niklas/Virtual_Environment/Version_5/joshBakNew/lib/python3.9/site-packages (from tensorflow_io->object-detection==0.1) (0.26.0)\n",
      "Requirement already satisfied: google-auth-httplib2>=0.1.0 in /Users/niklas/Virtual_Environment/Version_5/joshBakNew/lib/python3.9/site-packages (from google-api-python-client>=1.6.7->tf-models-official>=2.5.1->object-detection==0.1) (0.1.0)\n",
      "Requirement already satisfied: google-auth<3.0.0dev,>=1.19.0 in /Users/niklas/Virtual_Environment/Version_5/joshBakNew/lib/python3.9/site-packages (from google-api-python-client>=1.6.7->tf-models-official>=2.5.1->object-detection==0.1) (2.10.0)\n",
      "Requirement already satisfied: google-api-core!=2.0.*,!=2.1.*,!=2.2.*,!=2.3.0,<3.0.0dev,>=1.31.5 in /Users/niklas/Virtual_Environment/Version_5/joshBakNew/lib/python3.9/site-packages (from google-api-python-client>=1.6.7->tf-models-official>=2.5.1->object-detection==0.1) (2.8.2)\n",
      "Requirement already satisfied: uritemplate<5,>=3.0.1 in /Users/niklas/Virtual_Environment/Version_5/joshBakNew/lib/python3.9/site-packages (from google-api-python-client>=1.6.7->tf-models-official>=2.5.1->object-detection==0.1) (4.1.1)\n",
      "Requirement already satisfied: docopt in /Users/niklas/Virtual_Environment/Version_5/joshBakNew/lib/python3.9/site-packages (from hdfs<3.0.0,>=2.1.0->apache-beam->object-detection==0.1) (0.6.2)\n",
      "Requirement already satisfied: tqdm in /Users/niklas/Virtual_Environment/Version_5/joshBakNew/lib/python3.9/site-packages (from kaggle>=1.3.9->tf-models-official>=2.5.1->object-detection==0.1) (4.64.0)\n",
      "Requirement already satisfied: python-slugify in /Users/niklas/Virtual_Environment/Version_5/joshBakNew/lib/python3.9/site-packages (from kaggle>=1.3.9->tf-models-official>=2.5.1->object-detection==0.1) (6.1.2)\n",
      "Requirement already satisfied: urllib3 in /Users/niklas/Virtual_Environment/Version_5/joshBakNew/lib/python3.9/site-packages (from kaggle>=1.3.9->tf-models-official>=2.5.1->object-detection==0.1) (1.26.11)\n",
      "Requirement already satisfied: certifi in /Users/niklas/Virtual_Environment/Version_5/joshBakNew/lib/python3.9/site-packages (from kaggle>=1.3.9->tf-models-official>=2.5.1->object-detection==0.1) (2022.6.15)\n",
      "Requirement already satisfied: charset-normalizer<3,>=2 in /Users/niklas/Virtual_Environment/Version_5/joshBakNew/lib/python3.9/site-packages (from requests<3.0.0,>=2.24.0->apache-beam->object-detection==0.1) (2.1.0)\n",
      "Requirement already satisfied: idna<4,>=2.5 in /Users/niklas/Virtual_Environment/Version_5/joshBakNew/lib/python3.9/site-packages (from requests<3.0.0,>=2.24.0->apache-beam->object-detection==0.1) (3.3)\n",
      "Requirement already satisfied: flatbuffers<2,>=1.12 in /Users/niklas/Virtual_Environment/Version_5/joshBakNew/lib/python3.9/site-packages (from tensorflow~=2.9.0->tf-models-official>=2.5.1->object-detection==0.1) (1.12)\n",
      "Requirement already satisfied: keras-preprocessing>=1.1.1 in /Users/niklas/Virtual_Environment/Version_5/joshBakNew/lib/python3.9/site-packages (from tensorflow~=2.9.0->tf-models-official>=2.5.1->object-detection==0.1) (1.1.2)\n",
      "Requirement already satisfied: h5py>=2.9.0 in /Users/niklas/Virtual_Environment/Version_5/joshBakNew/lib/python3.9/site-packages (from tensorflow~=2.9.0->tf-models-official>=2.5.1->object-detection==0.1) (3.1.0)\n",
      "Requirement already satisfied: setuptools in /Users/niklas/Virtual_Environment/Version_5/joshBakNew/lib/python3.9/site-packages (from tensorflow~=2.9.0->tf-models-official>=2.5.1->object-detection==0.1) (56.0.0)\n",
      "Collecting tensorflow-estimator<2.10.0,>=2.9.0rc0\n",
      "  Using cached tensorflow_estimator-2.9.0-py2.py3-none-any.whl (438 kB)\n",
      "Requirement already satisfied: wrapt>=1.11.0 in /Users/niklas/Virtual_Environment/Version_5/joshBakNew/lib/python3.9/site-packages (from tensorflow~=2.9.0->tf-models-official>=2.5.1->object-detection==0.1) (1.12.1)\n",
      "Collecting absl-py>=0.2.2\n",
      "  Using cached absl_py-1.2.0-py3-none-any.whl (123 kB)\n",
      "Requirement already satisfied: gast<=0.4.0,>=0.2.1 in /Users/niklas/Virtual_Environment/Version_5/joshBakNew/lib/python3.9/site-packages (from tensorflow~=2.9.0->tf-models-official>=2.5.1->object-detection==0.1) (0.4.0)\n",
      "Requirement already satisfied: termcolor>=1.1.0 in /Users/niklas/Virtual_Environment/Version_5/joshBakNew/lib/python3.9/site-packages (from tensorflow~=2.9.0->tf-models-official>=2.5.1->object-detection==0.1) (1.1.0)\n",
      "Requirement already satisfied: astunparse>=1.6.0 in /Users/niklas/Virtual_Environment/Version_5/joshBakNew/lib/python3.9/site-packages (from tensorflow~=2.9.0->tf-models-official>=2.5.1->object-detection==0.1) (1.6.3)\n",
      "Requirement already satisfied: opt-einsum>=2.3.2 in /Users/niklas/Virtual_Environment/Version_5/joshBakNew/lib/python3.9/site-packages (from tensorflow~=2.9.0->tf-models-official>=2.5.1->object-detection==0.1) (3.3.0)\n",
      "Requirement already satisfied: google-pasta>=0.1.1 in /Users/niklas/Virtual_Environment/Version_5/joshBakNew/lib/python3.9/site-packages (from tensorflow~=2.9.0->tf-models-official>=2.5.1->object-detection==0.1) (0.2.0)\n",
      "Requirement already satisfied: libclang>=13.0.0 in /Users/niklas/Virtual_Environment/Version_5/joshBakNew/lib/python3.9/site-packages (from tensorflow~=2.9.0->tf-models-official>=2.5.1->object-detection==0.1) (14.0.6)\n",
      "Requirement already satisfied: tensorboard<2.10,>=2.9 in /Users/niklas/Virtual_Environment/Version_5/joshBakNew/lib/python3.9/site-packages (from tensorflow~=2.9.0->tf-models-official>=2.5.1->object-detection==0.1) (2.9.1)\n",
      "Requirement already satisfied: dm-tree~=0.1.1 in /Users/niklas/Virtual_Environment/Version_5/joshBakNew/lib/python3.9/site-packages (from tensorflow-model-optimization>=0.4.1->tf-models-official>=2.5.1->object-detection==0.1) (0.1.7)\n",
      "Requirement already satisfied: rsa>=3.1.4 in /Users/niklas/Virtual_Environment/Version_5/joshBakNew/lib/python3.9/site-packages (from oauth2client->tf-models-official>=2.5.1->object-detection==0.1) (4.9)\n",
      "Requirement already satisfied: pyasn1>=0.1.7 in /Users/niklas/Virtual_Environment/Version_5/joshBakNew/lib/python3.9/site-packages (from oauth2client->tf-models-official>=2.5.1->object-detection==0.1) (0.4.8)\n",
      "Requirement already satisfied: pyasn1-modules>=0.0.5 in /Users/niklas/Virtual_Environment/Version_5/joshBakNew/lib/python3.9/site-packages (from oauth2client->tf-models-official>=2.5.1->object-detection==0.1) (0.2.8)\n",
      "Requirement already satisfied: tabulate>=0.8.9 in /Users/niklas/Virtual_Environment/Version_5/joshBakNew/lib/python3.9/site-packages (from sacrebleu->tf-models-official>=2.5.1->object-detection==0.1) (0.8.10)\n",
      "Requirement already satisfied: regex in /Users/niklas/Virtual_Environment/Version_5/joshBakNew/lib/python3.9/site-packages (from sacrebleu->tf-models-official>=2.5.1->object-detection==0.1) (2022.7.25)\n",
      "Requirement already satisfied: colorama in /Users/niklas/Virtual_Environment/Version_5/joshBakNew/lib/python3.9/site-packages (from sacrebleu->tf-models-official>=2.5.1->object-detection==0.1) (0.4.5)\n",
      "Requirement already satisfied: portalocker in /Users/niklas/Virtual_Environment/Version_5/joshBakNew/lib/python3.9/site-packages (from sacrebleu->tf-models-official>=2.5.1->object-detection==0.1) (2.5.1)\n",
      "Requirement already satisfied: scikit-learn>=0.21.3 in /Users/niklas/Virtual_Environment/Version_5/joshBakNew/lib/python3.9/site-packages (from seqeval->tf-models-official>=2.5.1->object-detection==0.1) (1.1.1)\n"
     ]
    },
    {
     "name": "stdout",
     "output_type": "stream",
     "text": [
      "Requirement already satisfied: typeguard>=2.7 in /Users/niklas/Virtual_Environment/Version_5/joshBakNew/lib/python3.9/site-packages (from tensorflow-addons->tf-models-official>=2.5.1->object-detection==0.1) (2.13.3)\n",
      "Requirement already satisfied: toml in /Users/niklas/Virtual_Environment/Version_5/joshBakNew/lib/python3.9/site-packages (from tensorflow-datasets->tf-models-official>=2.5.1->object-detection==0.1) (0.10.2)\n",
      "Requirement already satisfied: promise in /Users/niklas/Virtual_Environment/Version_5/joshBakNew/lib/python3.9/site-packages (from tensorflow-datasets->tf-models-official>=2.5.1->object-detection==0.1) (2.3)\n",
      "Requirement already satisfied: etils[epath] in /Users/niklas/Virtual_Environment/Version_5/joshBakNew/lib/python3.9/site-packages (from tensorflow-datasets->tf-models-official>=2.5.1->object-detection==0.1) (0.6.0)\n",
      "Requirement already satisfied: tensorflow-metadata in /Users/niklas/Virtual_Environment/Version_5/joshBakNew/lib/python3.9/site-packages (from tensorflow-datasets->tf-models-official>=2.5.1->object-detection==0.1) (1.9.0)\n",
      "Requirement already satisfied: wheel<1.0,>=0.23.0 in /Users/niklas/Virtual_Environment/Version_5/joshBakNew/lib/python3.9/site-packages (from astunparse>=1.6.0->tensorflow~=2.9.0->tf-models-official>=2.5.1->object-detection==0.1) (0.37.1)\n",
      "Requirement already satisfied: googleapis-common-protos<2.0dev,>=1.56.2 in /Users/niklas/Virtual_Environment/Version_5/joshBakNew/lib/python3.9/site-packages (from google-api-core!=2.0.*,!=2.1.*,!=2.2.*,!=2.3.0,<3.0.0dev,>=1.31.5->google-api-python-client>=1.6.7->tf-models-official>=2.5.1->object-detection==0.1) (1.56.4)\n",
      "Requirement already satisfied: cachetools<6.0,>=2.0.0 in /Users/niklas/Virtual_Environment/Version_5/joshBakNew/lib/python3.9/site-packages (from google-auth<3.0.0dev,>=1.19.0->google-api-python-client>=1.6.7->tf-models-official>=2.5.1->object-detection==0.1) (5.2.0)\n",
      "Requirement already satisfied: joblib>=1.0.0 in /Users/niklas/Virtual_Environment/Version_5/joshBakNew/lib/python3.9/site-packages (from scikit-learn>=0.21.3->seqeval->tf-models-official>=2.5.1->object-detection==0.1) (1.1.0)\n",
      "Requirement already satisfied: threadpoolctl>=2.0.0 in /Users/niklas/Virtual_Environment/Version_5/joshBakNew/lib/python3.9/site-packages (from scikit-learn>=0.21.3->seqeval->tf-models-official>=2.5.1->object-detection==0.1) (3.1.0)\n",
      "Requirement already satisfied: tensorboard-data-server<0.7.0,>=0.6.0 in /Users/niklas/Virtual_Environment/Version_5/joshBakNew/lib/python3.9/site-packages (from tensorboard<2.10,>=2.9->tensorflow~=2.9.0->tf-models-official>=2.5.1->object-detection==0.1) (0.6.1)\n",
      "Requirement already satisfied: tensorboard-plugin-wit>=1.6.0 in /Users/niklas/Virtual_Environment/Version_5/joshBakNew/lib/python3.9/site-packages (from tensorboard<2.10,>=2.9->tensorflow~=2.9.0->tf-models-official>=2.5.1->object-detection==0.1) (1.8.1)\n",
      "Requirement already satisfied: werkzeug>=1.0.1 in /Users/niklas/Virtual_Environment/Version_5/joshBakNew/lib/python3.9/site-packages (from tensorboard<2.10,>=2.9->tensorflow~=2.9.0->tf-models-official>=2.5.1->object-detection==0.1) (2.2.1)\n",
      "Requirement already satisfied: google-auth-oauthlib<0.5,>=0.4.1 in /Users/niklas/Virtual_Environment/Version_5/joshBakNew/lib/python3.9/site-packages (from tensorboard<2.10,>=2.9->tensorflow~=2.9.0->tf-models-official>=2.5.1->object-detection==0.1) (0.4.6)\n",
      "Requirement already satisfied: markdown>=2.6.8 in /Users/niklas/Virtual_Environment/Version_5/joshBakNew/lib/python3.9/site-packages (from tensorboard<2.10,>=2.9->tensorflow~=2.9.0->tf-models-official>=2.5.1->object-detection==0.1) (3.4.1)\n",
      "Requirement already satisfied: zipp in /Users/niklas/Virtual_Environment/Version_5/joshBakNew/lib/python3.9/site-packages (from etils[epath]->tensorflow-datasets->tf-models-official>=2.5.1->object-detection==0.1) (3.8.1)\n",
      "Requirement already satisfied: importlib_resources in /Users/niklas/Virtual_Environment/Version_5/joshBakNew/lib/python3.9/site-packages (from etils[epath]->tensorflow-datasets->tf-models-official>=2.5.1->object-detection==0.1) (5.9.0)\n",
      "Requirement already satisfied: text-unidecode>=1.3 in /Users/niklas/Virtual_Environment/Version_5/joshBakNew/lib/python3.9/site-packages (from python-slugify->kaggle>=1.3.9->tf-models-official>=2.5.1->object-detection==0.1) (1.3)\n",
      "Requirement already satisfied: requests-oauthlib>=0.7.0 in /Users/niklas/Virtual_Environment/Version_5/joshBakNew/lib/python3.9/site-packages (from google-auth-oauthlib<0.5,>=0.4.1->tensorboard<2.10,>=2.9->tensorflow~=2.9.0->tf-models-official>=2.5.1->object-detection==0.1) (1.3.1)\n",
      "Requirement already satisfied: importlib-metadata>=4.4 in /Users/niklas/Virtual_Environment/Version_5/joshBakNew/lib/python3.9/site-packages (from markdown>=2.6.8->tensorboard<2.10,>=2.9->tensorflow~=2.9.0->tf-models-official>=2.5.1->object-detection==0.1) (4.12.0)\n",
      "Requirement already satisfied: MarkupSafe>=2.1.1 in /Users/niklas/Virtual_Environment/Version_5/joshBakNew/lib/python3.9/site-packages (from werkzeug>=1.0.1->tensorboard<2.10,>=2.9->tensorflow~=2.9.0->tf-models-official>=2.5.1->object-detection==0.1) (2.1.1)\n",
      "Requirement already satisfied: oauthlib>=3.0.0 in /Users/niklas/Virtual_Environment/Version_5/joshBakNew/lib/python3.9/site-packages (from requests-oauthlib>=0.7.0->google-auth-oauthlib<0.5,>=0.4.1->tensorboard<2.10,>=2.9->tensorflow~=2.9.0->tf-models-official>=2.5.1->object-detection==0.1) (3.2.0)\n",
      "Building wheels for collected packages: object-detection\n",
      "  Building wheel for object-detection (setup.py) ... \u001b[?25ldone\n",
      "\u001b[?25h  Created wheel for object-detection: filename=object_detection-0.1-py3-none-any.whl size=1661667 sha256=03efa640c78338337ae77e434557642a6fdf8cc64c4301f11a5f0e51c38a14d5\n",
      "  Stored in directory: /private/var/folders/hd/gz2v7mz153nbydn703wyfm140000gn/T/pip-ephem-wheel-cache-r9a9540r/wheels/83/96/06/bf1c56d4991d748b69d9bedc3277c1b0f0d40a09a781e4d7c8\n",
      "Successfully built object-detection\n",
      "Installing collected packages: tensorflow-estimator, numpy, absl-py, tensorflow, object-detection\n",
      "  Attempting uninstall: tensorflow-estimator\n",
      "    Found existing installation: tensorflow-estimator 2.5.0\n",
      "    Uninstalling tensorflow-estimator-2.5.0:\n",
      "      Successfully uninstalled tensorflow-estimator-2.5.0\n",
      "  Attempting uninstall: numpy\n",
      "    Found existing installation: numpy 1.19.5\n",
      "    Uninstalling numpy-1.19.5:\n",
      "      Successfully uninstalled numpy-1.19.5\n",
      "  Attempting uninstall: absl-py\n",
      "    Found existing installation: absl-py 0.15.0\n",
      "    Uninstalling absl-py-0.15.0:\n",
      "      Successfully uninstalled absl-py-0.15.0\n",
      "  Attempting uninstall: tensorflow\n",
      "    Found existing installation: tensorflow 2.5.0\n",
      "    Uninstalling tensorflow-2.5.0:\n",
      "      Successfully uninstalled tensorflow-2.5.0\n",
      "  Attempting uninstall: object-detection\n",
      "    Found existing installation: object-detection 0.1\n",
      "    Uninstalling object-detection-0.1:\n",
      "      Successfully uninstalled object-detection-0.1\n",
      "Successfully installed absl-py-1.2.0 numpy-1.22.4 object-detection-0.1 tensorflow-2.9.1 tensorflow-estimator-2.9.0\n",
      "Installation complete..\n"
     ]
    }
   ],
   "source": [
    "# Check if API has already been installed\n",
    "if os.path.exists(paths['research']+'/setup.py') is False:\n",
    "    print('Installing setup.py...')\n",
    "    \n",
    "    # Move to 'research' directory\n",
    "    os.chdir(paths['research'])\n",
    "\n",
    "    # Copy setup.py to current working directory\n",
    "    !cp object_detection/packages/tf2/setup.py .\n",
    "\n",
    "    # Execute setup.py (this command installs all dependencies needed for tf2 odapi)\n",
    "    !python -m pip install .\n",
    "\n",
    "    print('Installation complete..')\n",
    "\n",
    "else:\n",
    "    print('Object Detection API is already installed...')\n",
    "\n",
    "# Move back to home-directory\n",
    "os.chdir(paths['home'])"
   ]
  },
  {
   "cell_type": "markdown",
   "id": "9a00f3be",
   "metadata": {
    "id": "9a00f3be"
   },
   "source": [
    "## 3.3 Check if API was installed successfully"
   ]
  },
  {
   "cell_type": "code",
   "execution_count": 13,
   "id": "70dfbfba",
   "metadata": {
    "colab": {
     "base_uri": "https://localhost:8080/"
    },
    "id": "70dfbfba",
    "outputId": "1c5d0969-1156-41e6-9af6-f2137099198d"
   },
   "outputs": [
    {
     "name": "stdout",
     "output_type": "stream",
     "text": [
      "Running tests under Python 3.9.6: /Users/niklas/Virtual_Environment/Version_5/joshBakNew/bin/python\n",
      "[ RUN      ] ModelBuilderTF2Test.test_create_center_net_deepmac\n",
      "2022-08-08 16:30:34.461838: I tensorflow/core/platform/cpu_feature_guard.cc:193] This TensorFlow binary is optimized with oneAPI Deep Neural Network Library (oneDNN) to use the following CPU instructions in performance-critical operations:  AVX2 FMA\n",
      "To enable them in other operations, rebuild TensorFlow with the appropriate compiler flags.\n",
      "/Users/niklas/Virtual_Environment/Version_5/joshBakNew/lib/python3.9/site-packages/object_detection/builders/model_builder.py:1102: DeprecationWarning: The 'warn' function is deprecated, use 'warning' instead\n",
      "  logging.warn(('Building experimental DeepMAC meta-arch.'\n",
      "W0808 16:30:34.891262 4625540608 model_builder.py:1102] Building experimental DeepMAC meta-arch. Some features may be omitted.\n",
      "INFO:tensorflow:time(__main__.ModelBuilderTF2Test.test_create_center_net_deepmac): 0.84s\n",
      "I0808 16:30:35.293997 4625540608 test_util.py:2458] time(__main__.ModelBuilderTF2Test.test_create_center_net_deepmac): 0.84s\n",
      "[       OK ] ModelBuilderTF2Test.test_create_center_net_deepmac\n",
      "[ RUN      ] ModelBuilderTF2Test.test_create_center_net_model0 (customize_head_params=True)\n",
      "INFO:tensorflow:time(__main__.ModelBuilderTF2Test.test_create_center_net_model0 (customize_head_params=True)): 0.92s\n",
      "I0808 16:30:36.214437 4625540608 test_util.py:2458] time(__main__.ModelBuilderTF2Test.test_create_center_net_model0 (customize_head_params=True)): 0.92s\n",
      "[       OK ] ModelBuilderTF2Test.test_create_center_net_model0 (customize_head_params=True)\n",
      "[ RUN      ] ModelBuilderTF2Test.test_create_center_net_model1 (customize_head_params=False)\n",
      "INFO:tensorflow:time(__main__.ModelBuilderTF2Test.test_create_center_net_model1 (customize_head_params=False)): 0.34s\n",
      "I0808 16:30:36.551782 4625540608 test_util.py:2458] time(__main__.ModelBuilderTF2Test.test_create_center_net_model1 (customize_head_params=False)): 0.34s\n",
      "[       OK ] ModelBuilderTF2Test.test_create_center_net_model1 (customize_head_params=False)\n",
      "[ RUN      ] ModelBuilderTF2Test.test_create_center_net_model_from_keypoints\n",
      "INFO:tensorflow:time(__main__.ModelBuilderTF2Test.test_create_center_net_model_from_keypoints): 0.41s\n",
      "I0808 16:30:36.963636 4625540608 test_util.py:2458] time(__main__.ModelBuilderTF2Test.test_create_center_net_model_from_keypoints): 0.41s\n",
      "[       OK ] ModelBuilderTF2Test.test_create_center_net_model_from_keypoints\n",
      "[ RUN      ] ModelBuilderTF2Test.test_create_center_net_model_mobilenet\n",
      "INFO:tensorflow:time(__main__.ModelBuilderTF2Test.test_create_center_net_model_mobilenet): 2.49s\n",
      "I0808 16:30:39.453896 4625540608 test_util.py:2458] time(__main__.ModelBuilderTF2Test.test_create_center_net_model_mobilenet): 2.49s\n",
      "[       OK ] ModelBuilderTF2Test.test_create_center_net_model_mobilenet\n",
      "[ RUN      ] ModelBuilderTF2Test.test_create_experimental_model\n",
      "INFO:tensorflow:time(__main__.ModelBuilderTF2Test.test_create_experimental_model): 0.0s\n",
      "I0808 16:30:39.454789 4625540608 test_util.py:2458] time(__main__.ModelBuilderTF2Test.test_create_experimental_model): 0.0s\n",
      "[       OK ] ModelBuilderTF2Test.test_create_experimental_model\n",
      "[ RUN      ] ModelBuilderTF2Test.test_create_faster_rcnn_from_config_with_crop_feature0 (True)\n",
      "INFO:tensorflow:time(__main__.ModelBuilderTF2Test.test_create_faster_rcnn_from_config_with_crop_feature0 (True)): 0.04s\n",
      "I0808 16:30:39.498219 4625540608 test_util.py:2458] time(__main__.ModelBuilderTF2Test.test_create_faster_rcnn_from_config_with_crop_feature0 (True)): 0.04s\n",
      "[       OK ] ModelBuilderTF2Test.test_create_faster_rcnn_from_config_with_crop_feature0 (True)\n",
      "[ RUN      ] ModelBuilderTF2Test.test_create_faster_rcnn_from_config_with_crop_feature1 (False)\n",
      "INFO:tensorflow:time(__main__.ModelBuilderTF2Test.test_create_faster_rcnn_from_config_with_crop_feature1 (False)): 0.02s\n",
      "I0808 16:30:39.521477 4625540608 test_util.py:2458] time(__main__.ModelBuilderTF2Test.test_create_faster_rcnn_from_config_with_crop_feature1 (False)): 0.02s\n",
      "[       OK ] ModelBuilderTF2Test.test_create_faster_rcnn_from_config_with_crop_feature1 (False)\n",
      "[ RUN      ] ModelBuilderTF2Test.test_create_faster_rcnn_model_from_config_with_example_miner\n",
      "INFO:tensorflow:time(__main__.ModelBuilderTF2Test.test_create_faster_rcnn_model_from_config_with_example_miner): 0.03s\n",
      "I0808 16:30:39.549082 4625540608 test_util.py:2458] time(__main__.ModelBuilderTF2Test.test_create_faster_rcnn_model_from_config_with_example_miner): 0.03s\n",
      "[       OK ] ModelBuilderTF2Test.test_create_faster_rcnn_model_from_config_with_example_miner\n",
      "[ RUN      ] ModelBuilderTF2Test.test_create_faster_rcnn_models_from_config_faster_rcnn_with_matmul\n",
      "INFO:tensorflow:time(__main__.ModelBuilderTF2Test.test_create_faster_rcnn_models_from_config_faster_rcnn_with_matmul): 0.17s\n",
      "I0808 16:30:39.719151 4625540608 test_util.py:2458] time(__main__.ModelBuilderTF2Test.test_create_faster_rcnn_models_from_config_faster_rcnn_with_matmul): 0.17s\n",
      "[       OK ] ModelBuilderTF2Test.test_create_faster_rcnn_models_from_config_faster_rcnn_with_matmul\n",
      "[ RUN      ] ModelBuilderTF2Test.test_create_faster_rcnn_models_from_config_faster_rcnn_without_matmul\n",
      "INFO:tensorflow:time(__main__.ModelBuilderTF2Test.test_create_faster_rcnn_models_from_config_faster_rcnn_without_matmul): 0.14s\n",
      "I0808 16:30:39.856564 4625540608 test_util.py:2458] time(__main__.ModelBuilderTF2Test.test_create_faster_rcnn_models_from_config_faster_rcnn_without_matmul): 0.14s\n",
      "[       OK ] ModelBuilderTF2Test.test_create_faster_rcnn_models_from_config_faster_rcnn_without_matmul\n",
      "[ RUN      ] ModelBuilderTF2Test.test_create_faster_rcnn_models_from_config_mask_rcnn_with_matmul\n",
      "INFO:tensorflow:time(__main__.ModelBuilderTF2Test.test_create_faster_rcnn_models_from_config_mask_rcnn_with_matmul): 0.16s\n",
      "I0808 16:30:40.016937 4625540608 test_util.py:2458] time(__main__.ModelBuilderTF2Test.test_create_faster_rcnn_models_from_config_mask_rcnn_with_matmul): 0.16s\n",
      "[       OK ] ModelBuilderTF2Test.test_create_faster_rcnn_models_from_config_mask_rcnn_with_matmul\n",
      "[ RUN      ] ModelBuilderTF2Test.test_create_faster_rcnn_models_from_config_mask_rcnn_without_matmul\n",
      "INFO:tensorflow:time(__main__.ModelBuilderTF2Test.test_create_faster_rcnn_models_from_config_mask_rcnn_without_matmul): 0.19s\n",
      "I0808 16:30:40.205590 4625540608 test_util.py:2458] time(__main__.ModelBuilderTF2Test.test_create_faster_rcnn_models_from_config_mask_rcnn_without_matmul): 0.19s\n",
      "[       OK ] ModelBuilderTF2Test.test_create_faster_rcnn_models_from_config_mask_rcnn_without_matmul\n",
      "[ RUN      ] ModelBuilderTF2Test.test_create_rfcn_model_from_config\n",
      "INFO:tensorflow:time(__main__.ModelBuilderTF2Test.test_create_rfcn_model_from_config): 0.12s\n",
      "I0808 16:30:40.330864 4625540608 test_util.py:2458] time(__main__.ModelBuilderTF2Test.test_create_rfcn_model_from_config): 0.12s\n",
      "[       OK ] ModelBuilderTF2Test.test_create_rfcn_model_from_config\n",
      "[ RUN      ] ModelBuilderTF2Test.test_create_ssd_fpn_model_from_config\n",
      "INFO:tensorflow:time(__main__.ModelBuilderTF2Test.test_create_ssd_fpn_model_from_config): 0.03s\n",
      "I0808 16:30:40.364784 4625540608 test_util.py:2458] time(__main__.ModelBuilderTF2Test.test_create_ssd_fpn_model_from_config): 0.03s\n",
      "[       OK ] ModelBuilderTF2Test.test_create_ssd_fpn_model_from_config\n",
      "[ RUN      ] ModelBuilderTF2Test.test_create_ssd_models_from_config\n",
      "I0808 16:30:40.712984 4625540608 ssd_efficientnet_bifpn_feature_extractor.py:145] EfficientDet EfficientNet backbone version: efficientnet-b0\n",
      "I0808 16:30:40.713120 4625540608 ssd_efficientnet_bifpn_feature_extractor.py:147] EfficientDet BiFPN num filters: 64\n",
      "I0808 16:30:40.713186 4625540608 ssd_efficientnet_bifpn_feature_extractor.py:148] EfficientDet BiFPN num iterations: 3\n",
      "I0808 16:30:40.715439 4625540608 efficientnet_model.py:143] round_filter input=32 output=32\n",
      "I0808 16:30:40.739603 4625540608 efficientnet_model.py:143] round_filter input=32 output=32\n",
      "I0808 16:30:40.739768 4625540608 efficientnet_model.py:143] round_filter input=16 output=16\n",
      "I0808 16:30:40.829038 4625540608 efficientnet_model.py:143] round_filter input=16 output=16\n",
      "I0808 16:30:40.829169 4625540608 efficientnet_model.py:143] round_filter input=24 output=24\n",
      "I0808 16:30:41.046411 4625540608 efficientnet_model.py:143] round_filter input=24 output=24\n",
      "I0808 16:30:41.046557 4625540608 efficientnet_model.py:143] round_filter input=40 output=40\n"
     ]
    },
    {
     "name": "stdout",
     "output_type": "stream",
     "text": [
      "I0808 16:30:41.252911 4625540608 efficientnet_model.py:143] round_filter input=40 output=40\n",
      "I0808 16:30:41.253051 4625540608 efficientnet_model.py:143] round_filter input=80 output=80\n",
      "I0808 16:30:41.610562 4625540608 efficientnet_model.py:143] round_filter input=80 output=80\n",
      "I0808 16:30:41.610733 4625540608 efficientnet_model.py:143] round_filter input=112 output=112\n",
      "I0808 16:30:42.008280 4625540608 efficientnet_model.py:143] round_filter input=112 output=112\n",
      "I0808 16:30:42.008630 4625540608 efficientnet_model.py:143] round_filter input=192 output=192\n",
      "I0808 16:30:42.469606 4625540608 efficientnet_model.py:143] round_filter input=192 output=192\n",
      "I0808 16:30:42.469831 4625540608 efficientnet_model.py:143] round_filter input=320 output=320\n",
      "I0808 16:30:42.594673 4625540608 efficientnet_model.py:143] round_filter input=1280 output=1280\n",
      "I0808 16:30:42.663306 4625540608 efficientnet_model.py:453] Building model efficientnet with params ModelConfig(width_coefficient=1.0, depth_coefficient=1.0, resolution=224, dropout_rate=0.2, blocks=(BlockConfig(input_filters=32, output_filters=16, kernel_size=3, num_repeat=1, expand_ratio=1, strides=(1, 1), se_ratio=0.25, id_skip=True, fused_conv=False, conv_type='depthwise'), BlockConfig(input_filters=16, output_filters=24, kernel_size=3, num_repeat=2, expand_ratio=6, strides=(2, 2), se_ratio=0.25, id_skip=True, fused_conv=False, conv_type='depthwise'), BlockConfig(input_filters=24, output_filters=40, kernel_size=5, num_repeat=2, expand_ratio=6, strides=(2, 2), se_ratio=0.25, id_skip=True, fused_conv=False, conv_type='depthwise'), BlockConfig(input_filters=40, output_filters=80, kernel_size=3, num_repeat=3, expand_ratio=6, strides=(2, 2), se_ratio=0.25, id_skip=True, fused_conv=False, conv_type='depthwise'), BlockConfig(input_filters=80, output_filters=112, kernel_size=5, num_repeat=3, expand_ratio=6, strides=(1, 1), se_ratio=0.25, id_skip=True, fused_conv=False, conv_type='depthwise'), BlockConfig(input_filters=112, output_filters=192, kernel_size=5, num_repeat=4, expand_ratio=6, strides=(2, 2), se_ratio=0.25, id_skip=True, fused_conv=False, conv_type='depthwise'), BlockConfig(input_filters=192, output_filters=320, kernel_size=3, num_repeat=1, expand_ratio=6, strides=(1, 1), se_ratio=0.25, id_skip=True, fused_conv=False, conv_type='depthwise')), stem_base_filters=32, top_base_filters=1280, activation='simple_swish', batch_norm='default', bn_momentum=0.99, bn_epsilon=0.001, weight_decay=5e-06, drop_connect_rate=0.2, depth_divisor=8, min_depth=None, use_se=True, input_channels=3, num_classes=1000, model_name='efficientnet', rescale_input=False, data_format='channels_last', dtype='float32')\n",
      "I0808 16:30:42.763742 4625540608 ssd_efficientnet_bifpn_feature_extractor.py:145] EfficientDet EfficientNet backbone version: efficientnet-b1\n",
      "I0808 16:30:42.763877 4625540608 ssd_efficientnet_bifpn_feature_extractor.py:147] EfficientDet BiFPN num filters: 88\n",
      "I0808 16:30:42.763936 4625540608 ssd_efficientnet_bifpn_feature_extractor.py:148] EfficientDet BiFPN num iterations: 4\n",
      "I0808 16:30:42.765593 4625540608 efficientnet_model.py:143] round_filter input=32 output=32\n",
      "I0808 16:30:42.787846 4625540608 efficientnet_model.py:143] round_filter input=32 output=32\n",
      "I0808 16:30:42.788030 4625540608 efficientnet_model.py:143] round_filter input=16 output=16\n",
      "I0808 16:30:42.955577 4625540608 efficientnet_model.py:143] round_filter input=16 output=16\n",
      "I0808 16:30:42.955717 4625540608 efficientnet_model.py:143] round_filter input=24 output=24\n",
      "I0808 16:30:43.292341 4625540608 efficientnet_model.py:143] round_filter input=24 output=24\n",
      "I0808 16:30:43.292491 4625540608 efficientnet_model.py:143] round_filter input=40 output=40\n",
      "I0808 16:30:43.646985 4625540608 efficientnet_model.py:143] round_filter input=40 output=40\n",
      "I0808 16:30:43.647162 4625540608 efficientnet_model.py:143] round_filter input=80 output=80\n",
      "I0808 16:30:44.098353 4625540608 efficientnet_model.py:143] round_filter input=80 output=80\n",
      "I0808 16:30:44.098554 4625540608 efficientnet_model.py:143] round_filter input=112 output=112\n",
      "I0808 16:30:44.541265 4625540608 efficientnet_model.py:143] round_filter input=112 output=112\n",
      "I0808 16:30:44.541481 4625540608 efficientnet_model.py:143] round_filter input=192 output=192\n",
      "I0808 16:30:45.071660 4625540608 efficientnet_model.py:143] round_filter input=192 output=192\n",
      "I0808 16:30:45.071833 4625540608 efficientnet_model.py:143] round_filter input=320 output=320\n",
      "I0808 16:30:45.308983 4625540608 efficientnet_model.py:143] round_filter input=1280 output=1280\n",
      "I0808 16:30:45.365556 4625540608 efficientnet_model.py:453] Building model efficientnet with params ModelConfig(width_coefficient=1.0, depth_coefficient=1.1, resolution=240, dropout_rate=0.2, blocks=(BlockConfig(input_filters=32, output_filters=16, kernel_size=3, num_repeat=1, expand_ratio=1, strides=(1, 1), se_ratio=0.25, id_skip=True, fused_conv=False, conv_type='depthwise'), BlockConfig(input_filters=16, output_filters=24, kernel_size=3, num_repeat=2, expand_ratio=6, strides=(2, 2), se_ratio=0.25, id_skip=True, fused_conv=False, conv_type='depthwise'), BlockConfig(input_filters=24, output_filters=40, kernel_size=5, num_repeat=2, expand_ratio=6, strides=(2, 2), se_ratio=0.25, id_skip=True, fused_conv=False, conv_type='depthwise'), BlockConfig(input_filters=40, output_filters=80, kernel_size=3, num_repeat=3, expand_ratio=6, strides=(2, 2), se_ratio=0.25, id_skip=True, fused_conv=False, conv_type='depthwise'), BlockConfig(input_filters=80, output_filters=112, kernel_size=5, num_repeat=3, expand_ratio=6, strides=(1, 1), se_ratio=0.25, id_skip=True, fused_conv=False, conv_type='depthwise'), BlockConfig(input_filters=112, output_filters=192, kernel_size=5, num_repeat=4, expand_ratio=6, strides=(2, 2), se_ratio=0.25, id_skip=True, fused_conv=False, conv_type='depthwise'), BlockConfig(input_filters=192, output_filters=320, kernel_size=3, num_repeat=1, expand_ratio=6, strides=(1, 1), se_ratio=0.25, id_skip=True, fused_conv=False, conv_type='depthwise')), stem_base_filters=32, top_base_filters=1280, activation='simple_swish', batch_norm='default', bn_momentum=0.99, bn_epsilon=0.001, weight_decay=5e-06, drop_connect_rate=0.2, depth_divisor=8, min_depth=None, use_se=True, input_channels=3, num_classes=1000, model_name='efficientnet', rescale_input=False, data_format='channels_last', dtype='float32')\n",
      "I0808 16:30:45.478873 4625540608 ssd_efficientnet_bifpn_feature_extractor.py:145] EfficientDet EfficientNet backbone version: efficientnet-b2\n",
      "I0808 16:30:45.479059 4625540608 ssd_efficientnet_bifpn_feature_extractor.py:147] EfficientDet BiFPN num filters: 112\n",
      "I0808 16:30:45.479156 4625540608 ssd_efficientnet_bifpn_feature_extractor.py:148] EfficientDet BiFPN num iterations: 5\n",
      "I0808 16:30:45.483495 4625540608 efficientnet_model.py:143] round_filter input=32 output=32\n",
      "I0808 16:30:45.506731 4625540608 efficientnet_model.py:143] round_filter input=32 output=32\n",
      "I0808 16:30:45.506911 4625540608 efficientnet_model.py:143] round_filter input=16 output=16\n",
      "I0808 16:30:45.685951 4625540608 efficientnet_model.py:143] round_filter input=16 output=16\n",
      "I0808 16:30:45.686121 4625540608 efficientnet_model.py:143] round_filter input=24 output=24\n",
      "I0808 16:30:46.203416 4625540608 efficientnet_model.py:143] round_filter input=24 output=24\n",
      "I0808 16:30:46.203655 4625540608 efficientnet_model.py:143] round_filter input=40 output=48\n",
      "I0808 16:30:46.569931 4625540608 efficientnet_model.py:143] round_filter input=40 output=48\n",
      "I0808 16:30:46.570084 4625540608 efficientnet_model.py:143] round_filter input=80 output=88\n",
      "I0808 16:30:46.996872 4625540608 efficientnet_model.py:143] round_filter input=80 output=88\n",
      "I0808 16:30:46.997003 4625540608 efficientnet_model.py:143] round_filter input=112 output=120\n",
      "I0808 16:30:47.414671 4625540608 efficientnet_model.py:143] round_filter input=112 output=120\n",
      "I0808 16:30:47.414828 4625540608 efficientnet_model.py:143] round_filter input=192 output=208\n",
      "I0808 16:30:47.975810 4625540608 efficientnet_model.py:143] round_filter input=192 output=208\n",
      "I0808 16:30:47.976028 4625540608 efficientnet_model.py:143] round_filter input=320 output=352\n",
      "I0808 16:30:48.223439 4625540608 efficientnet_model.py:143] round_filter input=1280 output=1408\n"
     ]
    },
    {
     "name": "stdout",
     "output_type": "stream",
     "text": [
      "I0808 16:30:48.283033 4625540608 efficientnet_model.py:453] Building model efficientnet with params ModelConfig(width_coefficient=1.1, depth_coefficient=1.2, resolution=260, dropout_rate=0.3, blocks=(BlockConfig(input_filters=32, output_filters=16, kernel_size=3, num_repeat=1, expand_ratio=1, strides=(1, 1), se_ratio=0.25, id_skip=True, fused_conv=False, conv_type='depthwise'), BlockConfig(input_filters=16, output_filters=24, kernel_size=3, num_repeat=2, expand_ratio=6, strides=(2, 2), se_ratio=0.25, id_skip=True, fused_conv=False, conv_type='depthwise'), BlockConfig(input_filters=24, output_filters=40, kernel_size=5, num_repeat=2, expand_ratio=6, strides=(2, 2), se_ratio=0.25, id_skip=True, fused_conv=False, conv_type='depthwise'), BlockConfig(input_filters=40, output_filters=80, kernel_size=3, num_repeat=3, expand_ratio=6, strides=(2, 2), se_ratio=0.25, id_skip=True, fused_conv=False, conv_type='depthwise'), BlockConfig(input_filters=80, output_filters=112, kernel_size=5, num_repeat=3, expand_ratio=6, strides=(1, 1), se_ratio=0.25, id_skip=True, fused_conv=False, conv_type='depthwise'), BlockConfig(input_filters=112, output_filters=192, kernel_size=5, num_repeat=4, expand_ratio=6, strides=(2, 2), se_ratio=0.25, id_skip=True, fused_conv=False, conv_type='depthwise'), BlockConfig(input_filters=192, output_filters=320, kernel_size=3, num_repeat=1, expand_ratio=6, strides=(1, 1), se_ratio=0.25, id_skip=True, fused_conv=False, conv_type='depthwise')), stem_base_filters=32, top_base_filters=1280, activation='simple_swish', batch_norm='default', bn_momentum=0.99, bn_epsilon=0.001, weight_decay=5e-06, drop_connect_rate=0.2, depth_divisor=8, min_depth=None, use_se=True, input_channels=3, num_classes=1000, model_name='efficientnet', rescale_input=False, data_format='channels_last', dtype='float32')\n",
      "I0808 16:30:48.371649 4625540608 ssd_efficientnet_bifpn_feature_extractor.py:145] EfficientDet EfficientNet backbone version: efficientnet-b3\n",
      "I0808 16:30:48.371778 4625540608 ssd_efficientnet_bifpn_feature_extractor.py:147] EfficientDet BiFPN num filters: 160\n",
      "I0808 16:30:48.371836 4625540608 ssd_efficientnet_bifpn_feature_extractor.py:148] EfficientDet BiFPN num iterations: 6\n",
      "I0808 16:30:48.373482 4625540608 efficientnet_model.py:143] round_filter input=32 output=40\n",
      "I0808 16:30:48.395915 4625540608 efficientnet_model.py:143] round_filter input=32 output=40\n",
      "I0808 16:30:48.396047 4625540608 efficientnet_model.py:143] round_filter input=16 output=24\n",
      "I0808 16:30:48.563658 4625540608 efficientnet_model.py:143] round_filter input=16 output=24\n",
      "I0808 16:30:48.563790 4625540608 efficientnet_model.py:143] round_filter input=24 output=32\n",
      "I0808 16:30:48.951313 4625540608 efficientnet_model.py:143] round_filter input=24 output=32\n",
      "I0808 16:30:48.951504 4625540608 efficientnet_model.py:143] round_filter input=40 output=48\n",
      "I0808 16:30:49.551937 4625540608 efficientnet_model.py:143] round_filter input=40 output=48\n",
      "I0808 16:30:49.552112 4625540608 efficientnet_model.py:143] round_filter input=80 output=96\n",
      "I0808 16:30:50.060721 4625540608 efficientnet_model.py:143] round_filter input=80 output=96\n",
      "I0808 16:30:50.060933 4625540608 efficientnet_model.py:143] round_filter input=112 output=136\n",
      "I0808 16:30:50.800729 4625540608 efficientnet_model.py:143] round_filter input=112 output=136\n",
      "I0808 16:30:50.800877 4625540608 efficientnet_model.py:143] round_filter input=192 output=232\n",
      "I0808 16:30:51.586390 4625540608 efficientnet_model.py:143] round_filter input=192 output=232\n",
      "I0808 16:30:51.586570 4625540608 efficientnet_model.py:143] round_filter input=320 output=384\n",
      "I0808 16:30:51.878183 4625540608 efficientnet_model.py:143] round_filter input=1280 output=1536\n",
      "I0808 16:30:51.943185 4625540608 efficientnet_model.py:453] Building model efficientnet with params ModelConfig(width_coefficient=1.2, depth_coefficient=1.4, resolution=300, dropout_rate=0.3, blocks=(BlockConfig(input_filters=32, output_filters=16, kernel_size=3, num_repeat=1, expand_ratio=1, strides=(1, 1), se_ratio=0.25, id_skip=True, fused_conv=False, conv_type='depthwise'), BlockConfig(input_filters=16, output_filters=24, kernel_size=3, num_repeat=2, expand_ratio=6, strides=(2, 2), se_ratio=0.25, id_skip=True, fused_conv=False, conv_type='depthwise'), BlockConfig(input_filters=24, output_filters=40, kernel_size=5, num_repeat=2, expand_ratio=6, strides=(2, 2), se_ratio=0.25, id_skip=True, fused_conv=False, conv_type='depthwise'), BlockConfig(input_filters=40, output_filters=80, kernel_size=3, num_repeat=3, expand_ratio=6, strides=(2, 2), se_ratio=0.25, id_skip=True, fused_conv=False, conv_type='depthwise'), BlockConfig(input_filters=80, output_filters=112, kernel_size=5, num_repeat=3, expand_ratio=6, strides=(1, 1), se_ratio=0.25, id_skip=True, fused_conv=False, conv_type='depthwise'), BlockConfig(input_filters=112, output_filters=192, kernel_size=5, num_repeat=4, expand_ratio=6, strides=(2, 2), se_ratio=0.25, id_skip=True, fused_conv=False, conv_type='depthwise'), BlockConfig(input_filters=192, output_filters=320, kernel_size=3, num_repeat=1, expand_ratio=6, strides=(1, 1), se_ratio=0.25, id_skip=True, fused_conv=False, conv_type='depthwise')), stem_base_filters=32, top_base_filters=1280, activation='simple_swish', batch_norm='default', bn_momentum=0.99, bn_epsilon=0.001, weight_decay=5e-06, drop_connect_rate=0.2, depth_divisor=8, min_depth=None, use_se=True, input_channels=3, num_classes=1000, model_name='efficientnet', rescale_input=False, data_format='channels_last', dtype='float32')\n",
      "I0808 16:30:52.030889 4625540608 ssd_efficientnet_bifpn_feature_extractor.py:145] EfficientDet EfficientNet backbone version: efficientnet-b4\n",
      "I0808 16:30:52.031066 4625540608 ssd_efficientnet_bifpn_feature_extractor.py:147] EfficientDet BiFPN num filters: 224\n",
      "I0808 16:30:52.031234 4625540608 ssd_efficientnet_bifpn_feature_extractor.py:148] EfficientDet BiFPN num iterations: 7\n",
      "I0808 16:30:52.033768 4625540608 efficientnet_model.py:143] round_filter input=32 output=48\n",
      "I0808 16:30:52.052875 4625540608 efficientnet_model.py:143] round_filter input=32 output=48\n",
      "I0808 16:30:52.052992 4625540608 efficientnet_model.py:143] round_filter input=16 output=24\n",
      "I0808 16:30:52.201344 4625540608 efficientnet_model.py:143] round_filter input=16 output=24\n",
      "I0808 16:30:52.201473 4625540608 efficientnet_model.py:143] round_filter input=24 output=32\n",
      "I0808 16:30:52.555142 4625540608 efficientnet_model.py:143] round_filter input=24 output=32\n",
      "I0808 16:30:52.555273 4625540608 efficientnet_model.py:143] round_filter input=40 output=56\n",
      "I0808 16:30:52.945878 4625540608 efficientnet_model.py:143] round_filter input=40 output=56\n",
      "I0808 16:30:52.946016 4625540608 efficientnet_model.py:143] round_filter input=80 output=112\n",
      "I0808 16:30:53.461383 4625540608 efficientnet_model.py:143] round_filter input=80 output=112\n",
      "I0808 16:30:53.461516 4625540608 efficientnet_model.py:143] round_filter input=112 output=160\n",
      "I0808 16:30:54.194727 4625540608 efficientnet_model.py:143] round_filter input=112 output=160\n",
      "I0808 16:30:54.194869 4625540608 efficientnet_model.py:143] round_filter input=192 output=272\n",
      "I0808 16:30:54.961166 4625540608 efficientnet_model.py:143] round_filter input=192 output=272\n",
      "I0808 16:30:54.961295 4625540608 efficientnet_model.py:143] round_filter input=320 output=448\n",
      "I0808 16:30:55.180060 4625540608 efficientnet_model.py:143] round_filter input=1280 output=1792\n",
      "I0808 16:30:55.237831 4625540608 efficientnet_model.py:453] Building model efficientnet with params ModelConfig(width_coefficient=1.4, depth_coefficient=1.8, resolution=380, dropout_rate=0.4, blocks=(BlockConfig(input_filters=32, output_filters=16, kernel_size=3, num_repeat=1, expand_ratio=1, strides=(1, 1), se_ratio=0.25, id_skip=True, fused_conv=False, conv_type='depthwise'), BlockConfig(input_filters=16, output_filters=24, kernel_size=3, num_repeat=2, expand_ratio=6, strides=(2, 2), se_ratio=0.25, id_skip=True, fused_conv=False, conv_type='depthwise'), BlockConfig(input_filters=24, output_filters=40, kernel_size=5, num_repeat=2, expand_ratio=6, strides=(2, 2), se_ratio=0.25, id_skip=True, fused_conv=False, conv_type='depthwise'), BlockConfig(input_filters=40, output_filters=80, kernel_size=3, num_repeat=3, expand_ratio=6, strides=(2, 2), se_ratio=0.25, id_skip=True, fused_conv=False, conv_type='depthwise'), BlockConfig(input_filters=80, output_filters=112, kernel_size=5, num_repeat=3, expand_ratio=6, strides=(1, 1), se_ratio=0.25, id_skip=True, fused_conv=False, conv_type='depthwise'), BlockConfig(input_filters=112, output_filters=192, kernel_size=5, num_repeat=4, expand_ratio=6, strides=(2, 2), se_ratio=0.25, id_skip=True, fused_conv=False, conv_type='depthwise'), BlockConfig(input_filters=192, output_filters=320, kernel_size=3, num_repeat=1, expand_ratio=6, strides=(1, 1), se_ratio=0.25, id_skip=True, fused_conv=False, conv_type='depthwise')), stem_base_filters=32, top_base_filters=1280, activation='simple_swish', batch_norm='default', bn_momentum=0.99, bn_epsilon=0.001, weight_decay=5e-06, drop_connect_rate=0.2, depth_divisor=8, min_depth=None, use_se=True, input_channels=3, num_classes=1000, model_name='efficientnet', rescale_input=False, data_format='channels_last', dtype='float32')\n"
     ]
    },
    {
     "name": "stdout",
     "output_type": "stream",
     "text": [
      "I0808 16:30:55.343750 4625540608 ssd_efficientnet_bifpn_feature_extractor.py:145] EfficientDet EfficientNet backbone version: efficientnet-b5\n",
      "I0808 16:30:55.343883 4625540608 ssd_efficientnet_bifpn_feature_extractor.py:147] EfficientDet BiFPN num filters: 288\n",
      "I0808 16:30:55.343941 4625540608 ssd_efficientnet_bifpn_feature_extractor.py:148] EfficientDet BiFPN num iterations: 7\n",
      "I0808 16:30:55.345585 4625540608 efficientnet_model.py:143] round_filter input=32 output=48\n",
      "I0808 16:30:55.363209 4625540608 efficientnet_model.py:143] round_filter input=32 output=48\n",
      "I0808 16:30:55.363330 4625540608 efficientnet_model.py:143] round_filter input=16 output=24\n",
      "I0808 16:30:55.570073 4625540608 efficientnet_model.py:143] round_filter input=16 output=24\n",
      "I0808 16:30:55.570199 4625540608 efficientnet_model.py:143] round_filter input=24 output=40\n",
      "I0808 16:30:55.966009 4625540608 efficientnet_model.py:143] round_filter input=24 output=40\n",
      "I0808 16:30:55.966140 4625540608 efficientnet_model.py:143] round_filter input=40 output=64\n",
      "I0808 16:30:56.421253 4625540608 efficientnet_model.py:143] round_filter input=40 output=64\n",
      "I0808 16:30:56.421381 4625540608 efficientnet_model.py:143] round_filter input=80 output=128\n",
      "I0808 16:30:57.058326 4625540608 efficientnet_model.py:143] round_filter input=80 output=128\n",
      "I0808 16:30:57.058456 4625540608 efficientnet_model.py:143] round_filter input=112 output=176\n",
      "I0808 16:30:57.686089 4625540608 efficientnet_model.py:143] round_filter input=112 output=176\n",
      "I0808 16:30:57.686275 4625540608 efficientnet_model.py:143] round_filter input=192 output=304\n",
      "I0808 16:30:58.646659 4625540608 efficientnet_model.py:143] round_filter input=192 output=304\n",
      "I0808 16:30:58.646836 4625540608 efficientnet_model.py:143] round_filter input=320 output=512\n",
      "I0808 16:30:59.013531 4625540608 efficientnet_model.py:143] round_filter input=1280 output=2048\n",
      "I0808 16:30:59.080744 4625540608 efficientnet_model.py:453] Building model efficientnet with params ModelConfig(width_coefficient=1.6, depth_coefficient=2.2, resolution=456, dropout_rate=0.4, blocks=(BlockConfig(input_filters=32, output_filters=16, kernel_size=3, num_repeat=1, expand_ratio=1, strides=(1, 1), se_ratio=0.25, id_skip=True, fused_conv=False, conv_type='depthwise'), BlockConfig(input_filters=16, output_filters=24, kernel_size=3, num_repeat=2, expand_ratio=6, strides=(2, 2), se_ratio=0.25, id_skip=True, fused_conv=False, conv_type='depthwise'), BlockConfig(input_filters=24, output_filters=40, kernel_size=5, num_repeat=2, expand_ratio=6, strides=(2, 2), se_ratio=0.25, id_skip=True, fused_conv=False, conv_type='depthwise'), BlockConfig(input_filters=40, output_filters=80, kernel_size=3, num_repeat=3, expand_ratio=6, strides=(2, 2), se_ratio=0.25, id_skip=True, fused_conv=False, conv_type='depthwise'), BlockConfig(input_filters=80, output_filters=112, kernel_size=5, num_repeat=3, expand_ratio=6, strides=(1, 1), se_ratio=0.25, id_skip=True, fused_conv=False, conv_type='depthwise'), BlockConfig(input_filters=112, output_filters=192, kernel_size=5, num_repeat=4, expand_ratio=6, strides=(2, 2), se_ratio=0.25, id_skip=True, fused_conv=False, conv_type='depthwise'), BlockConfig(input_filters=192, output_filters=320, kernel_size=3, num_repeat=1, expand_ratio=6, strides=(1, 1), se_ratio=0.25, id_skip=True, fused_conv=False, conv_type='depthwise')), stem_base_filters=32, top_base_filters=1280, activation='simple_swish', batch_norm='default', bn_momentum=0.99, bn_epsilon=0.001, weight_decay=5e-06, drop_connect_rate=0.2, depth_divisor=8, min_depth=None, use_se=True, input_channels=3, num_classes=1000, model_name='efficientnet', rescale_input=False, data_format='channels_last', dtype='float32')\n",
      "I0808 16:30:59.197695 4625540608 ssd_efficientnet_bifpn_feature_extractor.py:145] EfficientDet EfficientNet backbone version: efficientnet-b6\n",
      "I0808 16:30:59.197890 4625540608 ssd_efficientnet_bifpn_feature_extractor.py:147] EfficientDet BiFPN num filters: 384\n",
      "I0808 16:30:59.197967 4625540608 ssd_efficientnet_bifpn_feature_extractor.py:148] EfficientDet BiFPN num iterations: 8\n",
      "I0808 16:30:59.199642 4625540608 efficientnet_model.py:143] round_filter input=32 output=56\n",
      "I0808 16:30:59.212912 4625540608 efficientnet_model.py:143] round_filter input=32 output=56\n",
      "I0808 16:30:59.213029 4625540608 efficientnet_model.py:143] round_filter input=16 output=32\n",
      "I0808 16:30:59.430793 4625540608 efficientnet_model.py:143] round_filter input=16 output=32\n",
      "I0808 16:30:59.431044 4625540608 efficientnet_model.py:143] round_filter input=24 output=40\n",
      "I0808 16:31:00.160431 4625540608 efficientnet_model.py:143] round_filter input=24 output=40\n",
      "I0808 16:31:00.160560 4625540608 efficientnet_model.py:143] round_filter input=40 output=72\n",
      "I0808 16:31:00.653450 4625540608 efficientnet_model.py:143] round_filter input=40 output=72\n",
      "I0808 16:31:00.653578 4625540608 efficientnet_model.py:143] round_filter input=80 output=144\n",
      "I0808 16:31:01.340943 4625540608 efficientnet_model.py:143] round_filter input=80 output=144\n",
      "I0808 16:31:01.341125 4625540608 efficientnet_model.py:143] round_filter input=112 output=200\n",
      "I0808 16:31:02.053718 4625540608 efficientnet_model.py:143] round_filter input=112 output=200\n",
      "I0808 16:31:02.053844 4625540608 efficientnet_model.py:143] round_filter input=192 output=344\n",
      "I0808 16:31:03.171286 4625540608 efficientnet_model.py:143] round_filter input=192 output=344\n",
      "I0808 16:31:03.171415 4625540608 efficientnet_model.py:143] round_filter input=320 output=576\n",
      "I0808 16:31:03.617276 4625540608 efficientnet_model.py:143] round_filter input=1280 output=2304\n",
      "I0808 16:31:03.685915 4625540608 efficientnet_model.py:453] Building model efficientnet with params ModelConfig(width_coefficient=1.8, depth_coefficient=2.6, resolution=528, dropout_rate=0.5, blocks=(BlockConfig(input_filters=32, output_filters=16, kernel_size=3, num_repeat=1, expand_ratio=1, strides=(1, 1), se_ratio=0.25, id_skip=True, fused_conv=False, conv_type='depthwise'), BlockConfig(input_filters=16, output_filters=24, kernel_size=3, num_repeat=2, expand_ratio=6, strides=(2, 2), se_ratio=0.25, id_skip=True, fused_conv=False, conv_type='depthwise'), BlockConfig(input_filters=24, output_filters=40, kernel_size=5, num_repeat=2, expand_ratio=6, strides=(2, 2), se_ratio=0.25, id_skip=True, fused_conv=False, conv_type='depthwise'), BlockConfig(input_filters=40, output_filters=80, kernel_size=3, num_repeat=3, expand_ratio=6, strides=(2, 2), se_ratio=0.25, id_skip=True, fused_conv=False, conv_type='depthwise'), BlockConfig(input_filters=80, output_filters=112, kernel_size=5, num_repeat=3, expand_ratio=6, strides=(1, 1), se_ratio=0.25, id_skip=True, fused_conv=False, conv_type='depthwise'), BlockConfig(input_filters=112, output_filters=192, kernel_size=5, num_repeat=4, expand_ratio=6, strides=(2, 2), se_ratio=0.25, id_skip=True, fused_conv=False, conv_type='depthwise'), BlockConfig(input_filters=192, output_filters=320, kernel_size=3, num_repeat=1, expand_ratio=6, strides=(1, 1), se_ratio=0.25, id_skip=True, fused_conv=False, conv_type='depthwise')), stem_base_filters=32, top_base_filters=1280, activation='simple_swish', batch_norm='default', bn_momentum=0.99, bn_epsilon=0.001, weight_decay=5e-06, drop_connect_rate=0.2, depth_divisor=8, min_depth=None, use_se=True, input_channels=3, num_classes=1000, model_name='efficientnet', rescale_input=False, data_format='channels_last', dtype='float32')\n",
      "I0808 16:31:03.817193 4625540608 ssd_efficientnet_bifpn_feature_extractor.py:145] EfficientDet EfficientNet backbone version: efficientnet-b7\n",
      "I0808 16:31:03.817330 4625540608 ssd_efficientnet_bifpn_feature_extractor.py:147] EfficientDet BiFPN num filters: 384\n",
      "I0808 16:31:03.817398 4625540608 ssd_efficientnet_bifpn_feature_extractor.py:148] EfficientDet BiFPN num iterations: 8\n",
      "I0808 16:31:03.819099 4625540608 efficientnet_model.py:143] round_filter input=32 output=64\n",
      "I0808 16:31:03.840158 4625540608 efficientnet_model.py:143] round_filter input=32 output=64\n",
      "I0808 16:31:03.840327 4625540608 efficientnet_model.py:143] round_filter input=16 output=32\n",
      "I0808 16:31:04.130673 4625540608 efficientnet_model.py:143] round_filter input=16 output=32\n",
      "I0808 16:31:04.130851 4625540608 efficientnet_model.py:143] round_filter input=24 output=48\n"
     ]
    },
    {
     "name": "stdout",
     "output_type": "stream",
     "text": [
      "I0808 16:31:04.769876 4625540608 efficientnet_model.py:143] round_filter input=24 output=48\n",
      "I0808 16:31:04.770004 4625540608 efficientnet_model.py:143] round_filter input=40 output=80\n",
      "I0808 16:31:05.369365 4625540608 efficientnet_model.py:143] round_filter input=40 output=80\n",
      "I0808 16:31:05.369493 4625540608 efficientnet_model.py:143] round_filter input=80 output=160\n",
      "I0808 16:31:06.416596 4625540608 efficientnet_model.py:143] round_filter input=80 output=160\n",
      "I0808 16:31:06.416738 4625540608 efficientnet_model.py:143] round_filter input=112 output=224\n",
      "I0808 16:31:07.601989 4625540608 efficientnet_model.py:143] round_filter input=112 output=224\n",
      "I0808 16:31:07.602185 4625540608 efficientnet_model.py:143] round_filter input=192 output=384\n",
      "I0808 16:31:09.158021 4625540608 efficientnet_model.py:143] round_filter input=192 output=384\n",
      "I0808 16:31:09.158154 4625540608 efficientnet_model.py:143] round_filter input=320 output=640\n",
      "I0808 16:31:09.700031 4625540608 efficientnet_model.py:143] round_filter input=1280 output=2560\n",
      "I0808 16:31:09.766183 4625540608 efficientnet_model.py:453] Building model efficientnet with params ModelConfig(width_coefficient=2.0, depth_coefficient=3.1, resolution=600, dropout_rate=0.5, blocks=(BlockConfig(input_filters=32, output_filters=16, kernel_size=3, num_repeat=1, expand_ratio=1, strides=(1, 1), se_ratio=0.25, id_skip=True, fused_conv=False, conv_type='depthwise'), BlockConfig(input_filters=16, output_filters=24, kernel_size=3, num_repeat=2, expand_ratio=6, strides=(2, 2), se_ratio=0.25, id_skip=True, fused_conv=False, conv_type='depthwise'), BlockConfig(input_filters=24, output_filters=40, kernel_size=5, num_repeat=2, expand_ratio=6, strides=(2, 2), se_ratio=0.25, id_skip=True, fused_conv=False, conv_type='depthwise'), BlockConfig(input_filters=40, output_filters=80, kernel_size=3, num_repeat=3, expand_ratio=6, strides=(2, 2), se_ratio=0.25, id_skip=True, fused_conv=False, conv_type='depthwise'), BlockConfig(input_filters=80, output_filters=112, kernel_size=5, num_repeat=3, expand_ratio=6, strides=(1, 1), se_ratio=0.25, id_skip=True, fused_conv=False, conv_type='depthwise'), BlockConfig(input_filters=112, output_filters=192, kernel_size=5, num_repeat=4, expand_ratio=6, strides=(2, 2), se_ratio=0.25, id_skip=True, fused_conv=False, conv_type='depthwise'), BlockConfig(input_filters=192, output_filters=320, kernel_size=3, num_repeat=1, expand_ratio=6, strides=(1, 1), se_ratio=0.25, id_skip=True, fused_conv=False, conv_type='depthwise')), stem_base_filters=32, top_base_filters=1280, activation='simple_swish', batch_norm='default', bn_momentum=0.99, bn_epsilon=0.001, weight_decay=5e-06, drop_connect_rate=0.2, depth_divisor=8, min_depth=None, use_se=True, input_channels=3, num_classes=1000, model_name='efficientnet', rescale_input=False, data_format='channels_last', dtype='float32')\n",
      "INFO:tensorflow:time(__main__.ModelBuilderTF2Test.test_create_ssd_models_from_config): 29.55s\n",
      "I0808 16:31:09.914374 4625540608 test_util.py:2458] time(__main__.ModelBuilderTF2Test.test_create_ssd_models_from_config): 29.55s\n",
      "[       OK ] ModelBuilderTF2Test.test_create_ssd_models_from_config\n",
      "[ RUN      ] ModelBuilderTF2Test.test_invalid_faster_rcnn_batchnorm_update\n",
      "INFO:tensorflow:time(__main__.ModelBuilderTF2Test.test_invalid_faster_rcnn_batchnorm_update): 0.0s\n",
      "I0808 16:31:09.920823 4625540608 test_util.py:2458] time(__main__.ModelBuilderTF2Test.test_invalid_faster_rcnn_batchnorm_update): 0.0s\n",
      "[       OK ] ModelBuilderTF2Test.test_invalid_faster_rcnn_batchnorm_update\n",
      "[ RUN      ] ModelBuilderTF2Test.test_invalid_first_stage_nms_iou_threshold\n",
      "INFO:tensorflow:time(__main__.ModelBuilderTF2Test.test_invalid_first_stage_nms_iou_threshold): 0.0s\n",
      "I0808 16:31:09.922392 4625540608 test_util.py:2458] time(__main__.ModelBuilderTF2Test.test_invalid_first_stage_nms_iou_threshold): 0.0s\n",
      "[       OK ] ModelBuilderTF2Test.test_invalid_first_stage_nms_iou_threshold\n",
      "[ RUN      ] ModelBuilderTF2Test.test_invalid_model_config_proto\n",
      "INFO:tensorflow:time(__main__.ModelBuilderTF2Test.test_invalid_model_config_proto): 0.0s\n",
      "I0808 16:31:09.922743 4625540608 test_util.py:2458] time(__main__.ModelBuilderTF2Test.test_invalid_model_config_proto): 0.0s\n",
      "[       OK ] ModelBuilderTF2Test.test_invalid_model_config_proto\n",
      "[ RUN      ] ModelBuilderTF2Test.test_invalid_second_stage_batch_size\n",
      "INFO:tensorflow:time(__main__.ModelBuilderTF2Test.test_invalid_second_stage_batch_size): 0.0s\n",
      "I0808 16:31:09.924146 4625540608 test_util.py:2458] time(__main__.ModelBuilderTF2Test.test_invalid_second_stage_batch_size): 0.0s\n",
      "[       OK ] ModelBuilderTF2Test.test_invalid_second_stage_batch_size\n",
      "[ RUN      ] ModelBuilderTF2Test.test_session\n",
      "[  SKIPPED ] ModelBuilderTF2Test.test_session\n",
      "[ RUN      ] ModelBuilderTF2Test.test_unknown_faster_rcnn_feature_extractor\n",
      "INFO:tensorflow:time(__main__.ModelBuilderTF2Test.test_unknown_faster_rcnn_feature_extractor): 0.0s\n",
      "I0808 16:31:09.925534 4625540608 test_util.py:2458] time(__main__.ModelBuilderTF2Test.test_unknown_faster_rcnn_feature_extractor): 0.0s\n",
      "[       OK ] ModelBuilderTF2Test.test_unknown_faster_rcnn_feature_extractor\n",
      "[ RUN      ] ModelBuilderTF2Test.test_unknown_meta_architecture\n",
      "INFO:tensorflow:time(__main__.ModelBuilderTF2Test.test_unknown_meta_architecture): 0.0s\n",
      "I0808 16:31:09.926031 4625540608 test_util.py:2458] time(__main__.ModelBuilderTF2Test.test_unknown_meta_architecture): 0.0s\n",
      "[       OK ] ModelBuilderTF2Test.test_unknown_meta_architecture\n",
      "[ RUN      ] ModelBuilderTF2Test.test_unknown_ssd_feature_extractor\n",
      "INFO:tensorflow:time(__main__.ModelBuilderTF2Test.test_unknown_ssd_feature_extractor): 0.0s\n",
      "I0808 16:31:09.927658 4625540608 test_util.py:2458] time(__main__.ModelBuilderTF2Test.test_unknown_ssd_feature_extractor): 0.0s\n",
      "[       OK ] ModelBuilderTF2Test.test_unknown_ssd_feature_extractor\n",
      "----------------------------------------------------------------------\n",
      "Ran 24 tests in 35.469s\n",
      "\n",
      "OK (skipped=1)\n"
     ]
    }
   ],
   "source": [
    "# Move to 'research' directory\n",
    "os.chdir(paths['research'])\n",
    "import object_detection\n",
    "\n",
    "# Local machine\n",
    "if system_id == 0:\n",
    "    !python {paths['research']+'/object_detection/builders/model_builder_tf2_test.py'}\n",
    "    \n",
    "\n",
    "# Google colab    \n",
    "elif system_id == 1:\n",
    "    !pip install numpy --upgrade # This had to be added for execution on colab. Problem solved using stackoverflow\n",
    "\n",
    "    !python {paths['research']+'/object_detection/builders/model_builder_tf2_test.py'}\n",
    "else:\n",
    "    print('No operating system was defined...')\n",
    "\n",
    "# Move back to home directory\n",
    "os.chdir(paths['home'])"
   ]
  },
  {
   "cell_type": "markdown",
   "id": "0006de28",
   "metadata": {
    "id": "0006de28"
   },
   "source": [
    "# 4. Prepare new training job"
   ]
  },
  {
   "cell_type": "markdown",
   "id": "e441180b",
   "metadata": {
    "id": "e441180b"
   },
   "source": [
    "## 4.1 Install dependencies and import modules (only on Colab)"
   ]
  },
  {
   "cell_type": "code",
   "execution_count": 14,
   "id": "57a4556e",
   "metadata": {
    "colab": {
     "base_uri": "https://localhost:8080/"
    },
    "id": "57a4556e",
    "outputId": "da9eb563-7db9-418e-f2f2-6a91cca5180b"
   },
   "outputs": [
    {
     "name": "stdout",
     "output_type": "stream",
     "text": [
      "Skipping step\n"
     ]
    }
   ],
   "source": [
    "# Local machine\n",
    "if system_id == 0:\n",
    "    print('Skipping step')\n",
    "\n",
    "# Google colab    \n",
    "elif system_id == 1:\n",
    "  \n",
    "  ## Install missing modules for randomTrafficSign\n",
    "  !pip install matplotlib\n",
    "  !pip install lxml\n",
    "\n",
    "  import numpy as np\n",
    "  from xml.etree.ElementTree import ElementTree\n",
    "  from xml.etree.ElementTree import Element\n",
    "  import xml.etree.ElementTree as etree\n",
    "  import xml.dom.minidom\n",
    "\n",
    "  from lxml import etree\n",
    "  os.chdir(paths['home'])\n",
    "\n",
    "else:\n",
    "    print('No operating system was defined...')"
   ]
  },
  {
   "cell_type": "markdown",
   "id": "XxrqC-lQ7IXF",
   "metadata": {
    "id": "XxrqC-lQ7IXF"
   },
   "source": [
    "## 4.2 Partition images for testing and training (only on Colab)"
   ]
  },
  {
   "cell_type": "markdown",
   "id": "KYPtSyTxziNo",
   "metadata": {
    "id": "KYPtSyTxziNo"
   },
   "source": [
    "**Important**: Images of objects must be in the following format: \"Mug_1.jpg\", \"Cat_3.jpg\" and must be located in their respective folders"
   ]
  },
  {
   "cell_type": "code",
   "execution_count": 15,
   "id": "KqMKGZRBYKfR",
   "metadata": {
    "colab": {
     "base_uri": "https://localhost:8080/"
    },
    "id": "KqMKGZRBYKfR",
    "outputId": "433ce14a-67df-4d49-e66a-6de70c95bdd8"
   },
   "outputs": [
    {
     "name": "stdout",
     "output_type": "stream",
     "text": [
      "Skipping step\n"
     ]
    }
   ],
   "source": [
    "if system_id == 0:\n",
    "    print('Skipping step')\n",
    "\n",
    "# Google colab    \n",
    "elif system_id == 1:\n",
    "    !pip install -U albumentations --no-binary qudida,albumentations"
   ]
  },
  {
   "cell_type": "code",
   "execution_count": 16,
   "id": "sapVybbT3jYk",
   "metadata": {
    "colab": {
     "base_uri": "https://localhost:8080/"
    },
    "id": "sapVybbT3jYk",
    "outputId": "7892db7f-d6d3-47f2-8160-facde352a266"
   },
   "outputs": [
    {
     "name": "stdout",
     "output_type": "stream",
     "text": [
      "Skipping step\n"
     ]
    }
   ],
   "source": [
    "if system_id == 0:\n",
    "    print('Skipping step')\n",
    "\n",
    "# Google colab    \n",
    "elif system_id == 1:\n",
    "\n",
    "    # imagePreprocessing.py must be in same directory as this main script\n",
    "    %matplotlib inline\n",
    "    path = paths['0_User_Input']+'/scripts'\n",
    "    os.chdir(path)\n",
    "    import imageProcessing as imgprep\n",
    "    os.chdir(paths['home'])\n",
    "\n",
    "    imgprep.clearPreprocessing(paths['images'])\n",
    "    imgprep.clearTraining(paths['training']+'/images')\n",
    "\n",
    "    numImgs = 150\n",
    "    upperScale = 150\n",
    "    lowerScale = 80\n",
    "\n",
    "    # Modify and multiply images and store in 1_Preprocessing folder\n",
    "    imgprep.main(dict_labels, paths['backgrounds'], paths['objects'], numImgs, upperScale, lowerScale, paths['images']+'/', paths['training']+'/')\n",
    "\n",
    "    imgprep.clearPreprocessing(paths['images'])"
   ]
  },
  {
   "cell_type": "markdown",
   "id": "11a93934",
   "metadata": {
    "id": "11a93934"
   },
   "source": [
    "## 5.4 Create labelmap (only on Colab)"
   ]
  },
  {
   "cell_type": "code",
   "execution_count": 17,
   "id": "c6e44434",
   "metadata": {
    "colab": {
     "base_uri": "https://localhost:8080/"
    },
    "id": "c6e44434",
    "outputId": "36819b83-f3a5-48a4-af04-e9af7dfd38da"
   },
   "outputs": [
    {
     "name": "stdout",
     "output_type": "stream",
     "text": [
      "Skipping step\n"
     ]
    }
   ],
   "source": [
    "# Local machine\n",
    "if system_id == 0:\n",
    "    print('Skipping step')\n",
    "\n",
    "# Google colab    \n",
    "elif system_id == 1:\n",
    "\n",
    "    # Convert label-dict to needed format\n",
    "    labelmap = []\n",
    "    for key in dict_labels:\n",
    "      temp = {}\n",
    "      temp['name'] = key\n",
    "      temp['id'] = dict_labels[key]\n",
    "      labelmap.append(temp)\n",
    "    print(labelmap)\n",
    "\n",
    "    files['labelmap'] = paths['annotations']+'/label_map.pbtxt'\n",
    "\n",
    "    with open(files['labelmap'], 'w') as file:\n",
    "      for label in labelmap:\n",
    "          file.write('item { \\n')\n",
    "          file.write('\\tname:\\'{}\\'\\n'.format(label['name']))\n",
    "          file.write('\\tid:{}\\n'.format(label['id']))\n",
    "          file.write('}\\n')\n",
    "        \n",
    "else:\n",
    "    print('No operating system was defined...')"
   ]
  },
  {
   "cell_type": "code",
   "execution_count": 18,
   "id": "42670147",
   "metadata": {
    "colab": {
     "base_uri": "https://localhost:8080/"
    },
    "id": "42670147",
    "outputId": "a33a2d30-e496-40a7-ae26-23ac2eaa3365"
   },
   "outputs": [
    {
     "name": "stdout",
     "output_type": "stream",
     "text": [
      "Requirement already satisfied: pandas in /Users/niklas/Virtual_Environment/Version_5/joshBakNew/lib/python3.9/site-packages (1.4.3)\r\n",
      "Requirement already satisfied: python-dateutil>=2.8.1 in /Users/niklas/Virtual_Environment/Version_5/joshBakNew/lib/python3.9/site-packages (from pandas) (2.8.2)\r\n",
      "Requirement already satisfied: pytz>=2020.1 in /Users/niklas/Virtual_Environment/Version_5/joshBakNew/lib/python3.9/site-packages (from pandas) (2022.1)\r\n",
      "Requirement already satisfied: numpy>=1.18.5 in /Users/niklas/Virtual_Environment/Version_5/joshBakNew/lib/python3.9/site-packages (from pandas) (1.22.4)\r\n",
      "Requirement already satisfied: six>=1.5 in /Users/niklas/Virtual_Environment/Version_5/joshBakNew/lib/python3.9/site-packages (from python-dateutil>=2.8.1->pandas) (1.15.0)\r\n"
     ]
    }
   ],
   "source": [
    "# Install pandas\n",
    "!pip install pandas"
   ]
  },
  {
   "cell_type": "markdown",
   "id": "edbe07d6",
   "metadata": {
    "id": "edbe07d6"
   },
   "source": [
    "## 5.5 Create TFRecord (only on colab)"
   ]
  },
  {
   "cell_type": "code",
   "execution_count": 19,
   "id": "3668f3c2",
   "metadata": {
    "colab": {
     "base_uri": "https://localhost:8080/"
    },
    "id": "3668f3c2",
    "outputId": "f254afdd-87c1-45ae-8c7a-7ef2dfd57247"
   },
   "outputs": [
    {
     "name": "stdout",
     "output_type": "stream",
     "text": [
      "Skipping step\n"
     ]
    }
   ],
   "source": [
    "# Local machine\n",
    "if system_id == 0:\n",
    "    print('Skipping step')\n",
    "\n",
    "# Google colab    \n",
    "elif system_id == 1:\n",
    "\n",
    "  # Add labelmap and tfrecords to 'files' dictionary\n",
    "  files['tf_train'] = paths['annotations']+'/train.record'\n",
    "  files['tf_test'] = paths['annotations']+'/test.record'\n",
    "\n",
    "  # Add line to download TF record file from nicknochnack\n",
    "\n",
    "  # Copy generatetfrecord.py to scripts\n",
    "  source = paths['0_User_Input']+'/scripts/generatetfrecord.py'\n",
    "  shutil.copy(source, paths['scripts'])\n",
    "\n",
    "  # Change directory to 'scripts'\n",
    "  os.chdir(paths['workspace']+'/scripts')\n",
    "\n",
    "  # Create / overwrite TFRecord files for training and testing\n",
    "\n",
    "  # Create train data:\n",
    "  !python generatetfrecord.py -x {paths['images_training']} -l {files['labelmap']} -o {files['tf_train']}\n",
    "\n",
    "  # Create test data:\n",
    "  !python generatetfrecord.py -x {paths['images_testing']} -l {files['labelmap']} -o {files['tf_test']}\n",
    "\n",
    "  # Go back to home directory\n",
    "  os.chdir(paths['home'])\n",
    "\n",
    " \n",
    "else:\n",
    "    print('No operating system was defined...')"
   ]
  },
  {
   "cell_type": "markdown",
   "id": "3b339fe9",
   "metadata": {
    "id": "3b339fe9"
   },
   "source": [
    "## 5.6 Download pre-trained model (only on colab)\n",
    "\n"
   ]
  },
  {
   "cell_type": "code",
   "execution_count": 20,
   "id": "44cd98fc",
   "metadata": {
    "colab": {
     "base_uri": "https://localhost:8080/"
    },
    "id": "44cd98fc",
    "outputId": "d6d5bc01-0a21-48de-ca18-ffedd1725471"
   },
   "outputs": [
    {
     "name": "stdout",
     "output_type": "stream",
     "text": [
      "Skipping step\n"
     ]
    }
   ],
   "source": [
    "# Local machine\n",
    "if system_id == 0:\n",
    "    print('Skipping step')\n",
    "\n",
    "# Google colab    \n",
    "elif system_id == 1:\n",
    "\n",
    "  # Update the settings for the image import and multiplication script depending on which size of image the model uses!\n",
    "\n",
    "  # Check if the chosen model has already been downloaded\n",
    "  if os.path.exists(paths['pre_trained_models']+'/'+str(pre_trained_model_name)) is False:\n",
    "\n",
    "      # Go to destination directory\n",
    "      os.chdir(paths['pre_trained_models'])\n",
    "      wget.download(pre_trained_model_url)\n",
    "\n",
    "      # Extract all content of downloaded file\n",
    "      import tarfile\n",
    "\n",
    "      file = tarfile.open('ssd_mobilenet_v2_fpnlite_640x640_coco17_tpu-8.tar.gz')\n",
    "\n",
    "      file.extractall(paths['pre_trained_models'])\n",
    "\n",
    "      file.close()\n",
    "                    \n",
    "      # Delete downloaded tar.gz file to save storage space\n",
    "      # Add code here\n",
    "      #\n",
    "      #\n",
    "      \n",
    "      # Create new folder for this model in training/models\n",
    "      paths['active_model'] = paths['models']+'/'+custom_model_name\n",
    "      os.makedirs(paths['active_model'])\n",
    "      \n",
    "      print('Model was successfully downloaded...')\n",
    "\n",
    "\n",
    "  else:\n",
    "    print(str(pre_trained_model_name)+' was already installed...')\n",
    "    \n",
    "    os.chdir(paths['home'])\n",
    "\n",
    "else:\n",
    "    print('No operating system was defined...')"
   ]
  },
  {
   "cell_type": "markdown",
   "id": "5d9d8741",
   "metadata": {
    "id": "5d9d8741"
   },
   "source": [
    "## 5.7 Update the config file and pipeline for the new training job"
   ]
  },
  {
   "cell_type": "code",
   "execution_count": 21,
   "id": "ae3f7e2a",
   "metadata": {
    "id": "ae3f7e2a"
   },
   "outputs": [],
   "source": [
    "import tensorflow as tf\n",
    "from object_detection.utils import config_util\n",
    "from object_detection.protos import pipeline_pb2\n",
    "from google.protobuf import text_format"
   ]
  },
  {
   "cell_type": "code",
   "execution_count": 22,
   "id": "256fe75d",
   "metadata": {
    "colab": {
     "base_uri": "https://localhost:8080/"
    },
    "id": "256fe75d",
    "outputId": "ddaad63d-b87e-4dbe-f480-49a3a7a2eada"
   },
   "outputs": [
    {
     "name": "stdout",
     "output_type": "stream",
     "text": [
      "Skipping step\n"
     ]
    }
   ],
   "source": [
    "# Local machine\n",
    "if system_id == 0:\n",
    "    print('Skipping step')\n",
    "\n",
    "# Google colab    \n",
    "elif system_id == 1:\n",
    "\n",
    "  ## Copy or replace pipeline in active model directory\n",
    "  files['pipeline_downloaded'] = paths['pre_trained_models']+'/'+pre_trained_model_name+'/pipeline.config'\n",
    "  paths['active_model'] = paths['models']+'/'+custom_model_name\n",
    "  files['pipeline_active'] = paths['active_model']+'/pipeline.config'\n",
    "  paths['downloaded_model'] = paths['pre_trained_models']+'/'+pre_trained_model_name\n",
    "\n",
    "  # If pipeline already exists in active directory, replace it\n",
    "  if os.path.exists(files['pipeline_active']) == True:\n",
    "      os.remove(files['pipeline_active'])\n",
    "      shutil.copy(files['pipeline_downloaded'], paths['active_model'])\n",
    "      print('Pipeline replaced in active model directory...')\n",
    "\n",
    "  # If pipeline does not yet exist in active directory, copy it from downloaded model\n",
    "  else:\n",
    "      files['pipeline_downloaded'] = paths['pre_trained_models']+'/'+pre_trained_model_name+'/pipeline.config' \n",
    "      shutil.copy(files['pipeline_downloaded'], paths['active_model'])\n",
    "      print('Pipeline copied to active model directory...')\n",
    "\n",
    "  ## Configure pipeline\n",
    "\n",
    "  config = config_util.get_configs_from_pipeline_file(files['pipeline_active'])\n",
    "  pipeline_config = pipeline_pb2.TrainEvalPipelineConfig()\n",
    "  with tf.io.gfile.GFile(files['pipeline_active'], \"r\") as f:                                                                                                                                                                                                                     \n",
    "      proto_str = f.read()                                                                                                                                                                                                                                          \n",
    "      text_format.Merge(proto_str, pipeline_config)  \n",
    "\n",
    "\n",
    "  pipeline_config.model.ssd.num_classes = len(labels) # Number of labels the model should be trained for\n",
    "  pipeline_config.train_config.batch_size = 4 # This should be the number of training jobs that run parallel\n",
    "\n",
    "  # Get checkpoint 0 from (original) downloaded model \n",
    "  files['checkpoint0'] = paths['downloaded_model']+'/checkpoint/ckpt-0'\n",
    "\n",
    "  pipeline_config.train_config.fine_tune_checkpoint = files['checkpoint0']\n",
    "\n",
    "  pipeline_config.train_config.fine_tune_checkpoint_type = \"detection\"\n",
    "\n",
    "  # Get labelmap\n",
    "  pipeline_config.train_input_reader.label_map_path= files['labelmap']\n",
    "\n",
    "  # Get TF-Record\n",
    "  pipeline_config.train_input_reader.tf_record_input_reader.input_path[:] = [files['tf_train']]\n",
    "  pipeline_config.eval_input_reader[0].label_map_path = files['labelmap']\n",
    "  pipeline_config.eval_input_reader[0].tf_record_input_reader.input_path[:] = [files['tf_test']]\n",
    "\n",
    "  config_text = text_format.MessageToString(pipeline_config)\n",
    "\n",
    "  # Update active pipeline\n",
    "  with tf.io.gfile.GFile(files['pipeline_active'], \"wb\") as f:                                                                                                                                                                                                                     \n",
    "      f.write(config_text)   \n",
    "      \n",
    "  print('Pipeline successfully configured...')  \n",
    "\n",
    "  # Copy model_main_tf2.py to workspace -> training   'TensorFlow/models/research/' file to \n",
    "  source = paths['research']+'/object_detection/model_main_tf2.py'\n",
    "  destination = paths['training']\n",
    "  shutil.copy(source, destination)\n",
    "\n",
    "else:\n",
    "    print('No operating system was defined...')\n"
   ]
  },
  {
   "cell_type": "markdown",
   "id": "b08eb2c1",
   "metadata": {
    "id": "b08eb2c1"
   },
   "source": [
    "# 6. Start new training job (only on colab)"
   ]
  },
  {
   "cell_type": "code",
   "execution_count": 23,
   "id": "054d6094",
   "metadata": {
    "colab": {
     "base_uri": "https://localhost:8080/"
    },
    "id": "054d6094",
    "outputId": "e6bec8fd-8040-4f8e-9699-18c4d91c4e47"
   },
   "outputs": [
    {
     "name": "stdout",
     "output_type": "stream",
     "text": [
      "Skipping step\n"
     ]
    }
   ],
   "source": [
    "# Local machine\n",
    "if system_id == 0:\n",
    "    print('Skipping step')\n",
    "\n",
    "# Google colab    \n",
    "elif system_id == 1:\n",
    "  \n",
    "  files['training_script'] = paths['training']+'/model_main_tf2.py'\n",
    "  model_dir = paths['active_model']\n",
    "  \n",
    "  command = \"python {} --model_dir={} --pipeline_config_path={} --num_train_steps=10000\".format(files['training_script'], model_dir, files['pipeline_active'])\n",
    "  # first argument: Path to the model_main_tf2.py file\n",
    "  # second argument: Path to the diretory in which the pipeline.config file is placed (not the path to the file itself)\n",
    "  # third argument: Path to actual pipeline.config in active directory\n",
    "\n",
    "  # This command is necessary to fix issue with training on colab\n",
    "  # source: https://stackoverflow.com/questions/70998639/dnn-library-is-not-found-ssd-mobile-net-v2-in-colab#answer-72404540\n",
    "  !apt install --allow-change-held-packages libcudnn8=8.1.0.77-1+cuda11.2\n",
    "\n",
    "  !{command}\n",
    "\n",
    "else:\n",
    "  print('No operating system was defined...')"
   ]
  },
  {
   "cell_type": "markdown",
   "id": "9AuGfWolM0nF",
   "metadata": {
    "id": "9AuGfWolM0nF"
   },
   "source": [
    "# 7 Evaluate training (both)"
   ]
  },
  {
   "cell_type": "code",
   "execution_count": 24,
   "id": "BECyzsFhM4P-",
   "metadata": {
    "colab": {
     "base_uri": "https://localhost:8080/"
    },
    "id": "BECyzsFhM4P-",
    "outputId": "f3ea5633-969d-4a55-caa4-5110beb379ff"
   },
   "outputs": [
    {
     "ename": "FileNotFoundError",
     "evalue": "[Errno 2] No such file or directory: '/Users/niklas/Virtual_Environment/Version_5/projectAutonomous/2_Tensorflow/workspace/training/models/my_ssd_mobilenet_v2_fpnlite/eval'",
     "output_type": "error",
     "traceback": [
      "\u001b[0;31m---------------------------------------------------------------------------\u001b[0m",
      "\u001b[0;31mFileNotFoundError\u001b[0m                         Traceback (most recent call last)",
      "Input \u001b[0;32mIn [24]\u001b[0m, in \u001b[0;36m<cell line: 2>\u001b[0;34m()\u001b[0m\n\u001b[1;32m      4\u001b[0m   paths[\u001b[38;5;124m'\u001b[39m\u001b[38;5;124mtrain\u001b[39m\u001b[38;5;124m'\u001b[39m] \u001b[38;5;241m=\u001b[39m paths[\u001b[38;5;124m'\u001b[39m\u001b[38;5;124mmodels\u001b[39m\u001b[38;5;124m'\u001b[39m]\u001b[38;5;241m+\u001b[39m\u001b[38;5;124m'\u001b[39m\u001b[38;5;124m/my_ssd_mobilenet_v2_fpnlite/train\u001b[39m\u001b[38;5;124m'\u001b[39m\n\u001b[1;32m      5\u001b[0m   paths[\u001b[38;5;124m'\u001b[39m\u001b[38;5;124meval\u001b[39m\u001b[38;5;124m'\u001b[39m] \u001b[38;5;241m=\u001b[39m paths[\u001b[38;5;124m'\u001b[39m\u001b[38;5;124mmodels\u001b[39m\u001b[38;5;124m'\u001b[39m]\u001b[38;5;241m+\u001b[39m\u001b[38;5;124m'\u001b[39m\u001b[38;5;124m/my_ssd_mobilenet_v2_fpnlite/eval\u001b[39m\u001b[38;5;124m'\u001b[39m\n\u001b[0;32m----> 7\u001b[0m   \u001b[43mos\u001b[49m\u001b[38;5;241;43m.\u001b[39;49m\u001b[43mchdir\u001b[49m\u001b[43m(\u001b[49m\u001b[43mpaths\u001b[49m\u001b[43m[\u001b[49m\u001b[38;5;124;43m'\u001b[39;49m\u001b[38;5;124;43meval\u001b[39;49m\u001b[38;5;124;43m'\u001b[39;49m\u001b[43m]\u001b[49m\u001b[43m)\u001b[49m\n\u001b[1;32m      8\u001b[0m   get_ipython()\u001b[38;5;241m.\u001b[39msystem(\u001b[38;5;124m'\u001b[39m\u001b[38;5;124mtensorboard --logdir=.\u001b[39m\u001b[38;5;124m'\u001b[39m)\n\u001b[1;32m     10\u001b[0m \u001b[38;5;66;03m# Google colab    \u001b[39;00m\n",
      "\u001b[0;31mFileNotFoundError\u001b[0m: [Errno 2] No such file or directory: '/Users/niklas/Virtual_Environment/Version_5/projectAutonomous/2_Tensorflow/workspace/training/models/my_ssd_mobilenet_v2_fpnlite/eval'"
     ]
    }
   ],
   "source": [
    "# Local machine\n",
    "if system_id == 0:\n",
    "\n",
    "  paths['train'] = paths['models']+'/my_ssd_mobilenet_v2_fpnlite/train'\n",
    "  paths['eval'] = paths['models']+'/my_ssd_mobilenet_v2_fpnlite/eval'\n",
    "\n",
    "  os.chdir(paths['eval'])\n",
    "  !tensorboard --logdir=.\n",
    "\n",
    "# Google colab    \n",
    "elif system_id == 1:\n",
    "\n",
    "  command = \"python {} --model_dir={} --pipeline_config_path={} --checkpoint_dir={}\".format(files['training_script'], model_dir, files['pipeline_active'], model_dir)\n",
    "  !{command}\n",
    "\n",
    "else:\n",
    "  print('No operating system was defined...')"
   ]
  },
  {
   "cell_type": "markdown",
   "id": "Z8h8jfhMAPw4",
   "metadata": {
    "id": "Z8h8jfhMAPw4"
   },
   "source": [
    "# 8 Download model (Colab)"
   ]
  },
  {
   "cell_type": "code",
   "execution_count": null,
   "id": "VCeIQNwLALYQ",
   "metadata": {
    "colab": {
     "base_uri": "https://localhost:8080/",
     "height": 496
    },
    "id": "VCeIQNwLALYQ",
    "outputId": "ed124b8d-188c-4945-ea76-faf95ab15a88"
   },
   "outputs": [],
   "source": [
    "# Local machine\n",
    "if system_id == 0:\n",
    "  print('Skipping step...')\n",
    "\n",
    "# Google colab    \n",
    "elif system_id == 1:\n",
    "\n",
    "    # Copy labelmap to model folder\n",
    "    source = files['labelmap']\n",
    "    shutil.copy(source, paths['active_model'])\n",
    "\n",
    "    # Make zip file from directory\n",
    "    from distutils.dir_util import copy_tree\n",
    "    copy_tree(paths['active_model'], paths['3_Output']+'/'+custom_model_name)\n",
    "\n",
    "else:\n",
    "  print('No operating system was defined...')"
   ]
  }
 ],
 "metadata": {
  "accelerator": "GPU",
  "colab": {
   "include_colab_link": true,
   "name": "1_Preparing_Model.ipynb",
   "provenance": []
  },
  "gpuClass": "standard",
  "kernelspec": {
   "display_name": "joshBakNew",
   "language": "python",
   "name": "joshbaknew"
  },
  "language_info": {
   "codemirror_mode": {
    "name": "ipython",
    "version": 3
   },
   "file_extension": ".py",
   "mimetype": "text/x-python",
   "name": "python",
   "nbconvert_exporter": "python",
   "pygments_lexer": "ipython3",
   "version": "3.9.6"
  }
 },
 "nbformat": 4,
 "nbformat_minor": 5
}
